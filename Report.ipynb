{
 "cells": [
  {
   "cell_type": "markdown",
   "id": "0e0099e0-cdc8-4873-8903-02a0fd0c6908",
   "metadata": {},
   "source": [
    "# MICRO-452: Project Report - Groupe 20\n",
    "\n",
    "**Authors:** Nathan Guillaumat, Hana Catic, Alexei Ermochkine, Joey Kodeih\n",
    "**Teacher:** Prof. Francesco Mondada  \n",
    "**Due date:** 07.12.2023"
   ]
  },
  {
   "cell_type": "markdown",
   "id": "1323e19d-c447-4398-9798-c50e7cf33b72",
   "metadata": {},
   "source": [
    "## Table of Contents\n",
    "<ol type=\"I\">\n",
    "<li>Introduction</li>\n",
    "<li>Vision</li>\n",
    "<li>Global Navigation</li>\n",
    "<li>Local Navigation</li>\n",
    "<li>Extended Kalman Filter</li>\n",
    "<li>Motion Control</li>\n",
    "<li>Main</li>\n",
    "<li>Conclusion</li>\n",
    "</ol>"
   ]
  },
  {
   "cell_type": "markdown",
   "id": "c735291c-bec2-4af7-a9a0-7008c9b9e5d9",
   "metadata": {},
   "source": [
    "## Introduction\n",
    "\n",
    "In the scope of our course, \"Basics of Mobile Robotics,\" we undertook a comprehensive project that integrated the key concepts covered throughout the semester's exercise sessions. Our objective was to synthesize our understanding of Global Navigation, Local Navigation, Filtering, Motion Control, and Vision into a practical application. The project encompassed several essential goals:\r\n",
    "- Environment Creation: We created a setting with a predetermined set of obstacles. The Thymio robot has to find its way around this environment on its own, avoiding obstacles without using sensors to detect them.\r\n",
    "- Pathfinding: The main goal was to direct the Thymio robot to a destination located anywhere in the surroundings from an arbitrary starting place. We were able to evaluate the system’s adaptability because of its capacity to change the target’s location\r\n",
    "- Motion control and pose estimation: Precise control was applied to enable the robot to travel along the predetermined path. Kalman filtering was used to estimate the pose accurately, which was necessary to do this.\r\n",
    "- Obstacle Avoidance: The Thymio was able to avoid obstacles that were purposefully positioned in its route at any given time by using the front proximity sensors. \r\n",
    "\r\n",
    "This project helped us gain a greater understanding of the principles of mobile robotics by not only providing a comprehensive application of theoretical concepts but also challenging us to integrate and apply these principles in a real-world robotic scenario.\r\n",
    "\n"
   ]
  },
  {
   "cell_type": "markdown",
   "id": "df22a9b0-d785-4d08-8835-3e2e62bba162",
   "metadata": {},
   "source": [
    "For an easier read of this report and the examples, let's import the funct for each code cell."
   ]
  },
  {
   "cell_type": "code",
   "execution_count": 1,
   "id": "8e0d9a7a-909e-4920-b894-0e4a5073d9ef",
   "metadata": {},
   "outputs": [],
   "source": [
    "import os\n",
    "import sys\n",
    "import math\n",
    "from statistics import mean\n",
    "import pandas as pd\n",
    "import numpy as np\n",
    "import matplotlib.pyplot as plt\n",
    "from scipy.interpolate import interp1d\n",
    "\n",
    "from vision_final import *\n",
    "\n",
    "import cv2\n",
    "import time"
   ]
  }
 ],
 "metadata": {
  "kernelspec": {
   "display_name": "Python 3 (ipykernel)",
   "language": "python",
   "name": "python3"
  },
  "language_info": {
   "codemirror_mode": {
    "name": "ipython",
    "version": 3
   },
   "file_extension": ".py",
   "mimetype": "text/x-python",
   "name": "python",
   "nbconvert_exporter": "python",
   "pygments_lexer": "ipython3",
   "version": "3.11.6"
  }
 },
 "nbformat": 4,
 "nbformat_minor": 5
}
