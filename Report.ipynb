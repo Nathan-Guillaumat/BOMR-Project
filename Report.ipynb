{
 "cells": [
  {
   "cell_type": "markdown",
   "id": "b4d4e9a3-ad87-4af6-af0c-94fac08d05b6",
   "metadata": {},
   "source": [
    "<h1>Table of Contents<span class=\"tocSkip\"></span></h1>\n",
    "<div class=\"toc\"><ul class=\"toc-item\"><li><span><a href=\"#Introduction\" data-toc-modified-id=\"Introduction-1\"><span class=\"toc-item-num\">1&nbsp;&nbsp;</span>Introduction</a></span></li><li><span><a href=\"Defining the environment and choices made during the project\" data-toc-modified-id=\"Defining the environment and choices made during the project-2\"><span class=\"toc-item-num\">2&nbsp;&nbsp;</span>Defining the environment and choices made during the project</a></span></li><li><span><a href=\"#Global Navigation\" data-toc-modified-id=\"Global Navigation-3\"><span class=\"toc-item-num\">3&nbsp;&nbsp;</span>Global Navigation</a></span></li><li><span><a href=\"#Filtering\" data-toc-modified-id=\"Filtering-4\"><span class=\"toc-item-num\">4&nbsp;&nbsp;</span>Filtering</a></span></li><li><span><a href=\"#Vision\" data-toc-modified-id=\"Vision-5\"><span class=\"toc-item-num\">5&nbsp;&nbsp;</span>Vision</a></span></li><li><span><a href=\"#Local avoidance\" data-toc-modified-id=\"Local avoidance-6\"><span class=\"toc-item-num\">6&nbsp;&nbsp;</span>Local avoidance</a></span></li><li><span><a href=\"#Motion control\" data-toc-modified-id=\"Motion control-7\"><span class=\"toc-item-num\">7&nbsp;&nbsp;</span>Motion control</a>\n",
    "                                                                                                                                                                                                                                                                                                                                                                                                                                                                                                         \n",
    "                                                                                                                                                                                                                                                                                                                                                                                                                                                                                                         "
   ]
  },
  {
   "cell_type": "markdown",
   "id": "257618b5-9119-4043-9b11-71733152e4d4",
   "metadata": {},
   "source": [
    "# Introduction\n",
    "\n",
    "In the scope of our course, \"Basics of Mobile Robotics,\" we undertook a comprehensive project that integrated the key concepts covered throughout the semester's exercise sessions. Our objective was to synthesize our understanding of Global Navigation, Local Navigation, Filtering, Motion Control, and Vision into a practical application. The project encompassed several essential goals:\r\n",
    "- Environment Creation: We created a setting with a predetermined set of obstacles. The Thymio robot has to find its way around this environment on its own, avoiding obstacles without using sensors to detect them.\r\n",
    "- Pathfinding: The main goal was to direct the Thymio robot to a destination located anywhere in the surroundings from an arbitrary starting place. We were able to evaluate the system’s adaptability because of its capacity to change the target’s location\r\n",
    "- Motion control and pose estimation: Precise control was applied to enable the robot to travel along the predetermined path. Kalman filtering was used to estimate the pose accurately, which was necessary to do this.\r\n",
    "- Obstacle Avoidance: The Thymio was able to avoid obstacles that were purposefully positioned in its route at any given time by using the front proximity sensors. \r\n",
    "\r\n",
    "This project helped us gain a greater understanding of the principles of mobile robotics by not only providing a comprehensive application of theoretical concepts but also challenging us to integrate and apply these principles in a real-world robotic scenario.\r\n",
    "\n"
   ]
  },
  {
   "cell_type": "markdown",
   "id": "18dea6f9-51ce-45e4-9319-e7d6dc68b7b9",
   "metadata": {},
   "source": [
    "# Defining the environment and choices made during the project\n"
   ]
  },
  {
   "cell_type": "code",
   "execution_count": null,
   "id": "4074dece-8b33-440b-9bb1-bdebf82bee1e",
   "metadata": {},
   "outputs": [],
   "source": [
    "HHHHHHHHHHHHHHHHHHHHHHHH\n",
    "HHHHHHHHHHHHHHHHHHHHHHHH\n",
    "HHHHHHHHHHHHHHHHHHHHHHHH\n",
    "HHHHHHHHHHHHHHHHHHHHHHHH\n",
    "HHHHHHHHHHHHHHHHHHHHHHHH\n",
    "HHHHHHHHHHHHHHHHHHHHHHHH\n",
    "HHHHHHHHHHHHHHHHHHHHHHHH\n",
    "HHHHHHHHHHHHHHHHHHHHHHHH\n",
    "HHHHHHHHHHHHHHHHHHHHHHHH"
   ]
  },
  {
   "cell_type": "code",
   "execution_count": null,
   "id": "9ef2f08f-0f2c-4bd0-8786-88b81a4e3cfd",
   "metadata": {},
   "outputs": [],
   "source": [
    "HHHHHHHHHHHHHHHHHHHHHHHH\n",
    "HHHHHHHHHHHHHHHHHHHHHHHH\n",
    "HHHHHHHHHHHHHHHHHHHHHHHH\n",
    "HHHHHHHHHHHHHHHHHHHHHHHH\n",
    "HHHHHHHHHHHHHHHHHHHHHHHH\n",
    "HHHHHHHHHHHHHHHHHHHHHHHH\n",
    "HHHHHHHHHHHHHHHHHHHHHHHH\n",
    "HHHHHHHHHHHHHHHHHHHHHHHH\n",
    "HHHHHHHHHHHHHHHHHHHHHHHH"
   ]
  },
  {
   "cell_type": "markdown",
   "id": "e95db8f9-e9e4-45d5-99ec-eb96fc5b9c4e",
   "metadata": {},
   "source": [
    "# Gloval Navigation\n"
   ]
  },
  {
   "cell_type": "code",
   "execution_count": null,
   "id": "6de613b0-72f8-4dd2-af2b-76befc7e4230",
   "metadata": {},
   "outputs": [],
   "source": [
    "HHHHHHHHHHHHHHHHHHHHHHHH\n",
    "HHHHHHHHHHHHHHHHHHHHHHHH\n",
    "HHHHHHHHHHHHHHHHHHHHHHHH\n",
    "HHHHHHHHHHHHHHHHHHHHHHHH\n",
    "HHHHHHHHHHHHHHHHHHHHHHHH\n",
    "HHHHHHHHHHHHHHHHHHHHHHHH\n",
    "HHHHHHHHHHHHHHHHHHHHHHHH\n",
    "HHHHHHHHHHHHHHHHHHHHHHHH\n",
    "HHHHHHHHHHHHHHHHHHHHHHHH"
   ]
  },
  {
   "cell_type": "markdown",
   "id": "c013c731-c69f-4045-a3a5-8275cd7b7d0f",
   "metadata": {},
   "source": [
    "# Filtering\n"
   ]
  },
  {
   "cell_type": "code",
   "execution_count": null,
   "id": "3462e9cb-0131-4796-be9d-f3df4dbb0257",
   "metadata": {},
   "outputs": [],
   "source": [
    "HHHHHHHHHHHHHHHHHHHHHHHH\n",
    "HHHHHHHHHHHHHHHHHHHHHHHH\n",
    "HHHHHHHHHHHHHHHHHHHHHHHH\n",
    "HHHHHHHHHHHHHHHHHHHHHHHH\n",
    "HHHHHHHHHHHHHHHHHHHHHHHH\n",
    "HHHHHHHHHHHHHHHHHHHHHHHH\n",
    "HHHHHHHHHHHHHHHHHHHHHHHH\n",
    "HHHHHHHHHHHHHHHHHHHHHHHH\n",
    "HHHHHHHHHHHHHHHHHHHHHHHH"
   ]
  },
  {
   "cell_type": "markdown",
   "id": "d06454de-de0e-47f7-a314-64b97c4250c9",
   "metadata": {},
   "source": [
    "# Vision\n"
   ]
  },
  {
   "cell_type": "code",
   "execution_count": null,
   "id": "f89dc657-1783-4d06-9883-75022096f354",
   "metadata": {},
   "outputs": [],
   "source": [
    "HHHHHHHHHHHHHHHHHHHHHHHH\n",
    "HHHHHHHHHHHHHHHHHHHHHHHH\n",
    "HHHHHHHHHHHHHHHHHHHHHHHH\n",
    "HHHHHHHHHHHHHHHHHHHHHHHH\n",
    "HHHHHHHHHHHHHHHHHHHHHHHH\n",
    "HHHHHHHHHHHHHHHHHHHHHHHH\n",
    "HHHHHHHHHHHHHHHHHHHHHHHH\n",
    "HHHHHHHHHHHHHHHHHHHHHHHH\n",
    "HHHHHHHHHHHHHHHHHHHHHHHH"
   ]
  },
  {
   "cell_type": "code",
   "execution_count": null,
   "id": "862cd955-1f33-4478-a67d-c27b3a2f08c0",
   "metadata": {},
   "outputs": [],
   "source": [
    "HHHHHHHHHHHHHHHHHHHHHHHH\n",
    "HHHHHHHHHHHHHHHHHHHHHHHH\n",
    "HHHHHHHHHHHHHHHHHHHHHHHH\n",
    "HHHHHHHHHHHHHHHHHHHHHHHH\n",
    "HHHHHHHHHHHHHHHHHHHHHHHH\n",
    "HHHHHHHHHHHHHHHHHHHHHHHH\n",
    "HHHHHHHHHHHHHHHHHHHHHHHH\n",
    "HHHHHHHHHHHHHHHHHHHHHHHH\n",
    "HHHHHHHHHHHHHHHHHHHHHHHH"
   ]
  },
  {
   "cell_type": "markdown",
   "id": "f7c42391-da09-4541-a564-a257e0628812",
   "metadata": {},
   "source": [
    "# Local avoidance\n"
   ]
  },
  {
   "cell_type": "markdown",
   "id": "32e4769b-28eb-42b5-987c-032081121787",
   "metadata": {},
   "source": [
    "Our main goal in the local navigation part is to make it possible for the Thymio robot to move dynamically through its environment. As the robot follows its global path, it frequently encounters physical obstacles randomly introduced into its trajectory. We implemented a function called test_saw_obstacle to determine whether the Thymio has recognized an impediment based on readings from its proximity sensors in order to overcome this difficulty. If an obstacle is found, this function returns True; if not, it returns False.\r\n"
   ]
  },
  {
   "cell_type": "code",
   "execution_count": null,
   "id": "c848677c-7a52-4e8d-8a17-e3c7dad01392",
   "metadata": {},
   "outputs": [],
   "source": [
    "def test_saw_obstacle(threshold, verbose=True):\n",
    "    \n",
    "    if any([x > threshold for x in node['prox.horizontal'][0:5]]):\n",
    "        if verbose: print(\"\\t\\t Obstacle detected\")\n",
    "        return True\n",
    "    \n",
    "    return False"
   ]
  },
  {
   "cell_type": "markdown",
   "id": "3e3d0346-7deb-4889-ae9d-051720b9f716",
   "metadata": {},
   "source": [
    "Afterward, using asynchronous programming, an asynchronous function called local_avoidance was developed to implement a local obstacle avoidance behavior for the robot. Five horizontal proximity sensor readings were used to determine the speed adjustments for each motor, which were represented by an array called obstacleSpeedGain that was initialized within this function. The sensor readings are multiplied by the corresponding gain values to calculate the adjustments. Using the test_saw_obstacle function and a given threshold, the program does an obstacle detection check within the loop. If an obstacle is detected, the system engages in a local avoidance behavior, which involves adjusting motor speeds (speedL and speedR) based on obstacle readings and the defined obstacleSpeedGain. Finally, node.set_variables(motors(speedL, speedR)) is used to change the motor speeds. "
   ]
  },
  {
   "cell_type": "code",
   "execution_count": null,
   "id": "ea7b1159-76ab-4c87-8482-318a404683da",
   "metadata": {},
   "outputs": [],
   "source": [
    "async def local_avoidance(motor_speed=100, threshold=0, verbose=False):\n",
    "    obstacleSpeedGain = [6, 4, -2, -6, -8]\n",
    "    saw_obstacle = True\n",
    "    speedL = motor_speed\n",
    "    speedR = motor_speed\n",
    "    prev_state = \"global\"\n",
    "\n",
    "    if verbose:\n",
    "        print(\"\\t Moving forward\")\n",
    "\n",
    "    while saw_obstacle:\n",
    "        if test_saw_obstacle(threshold, verbose=False):\n",
    "            if prev_state == \"global\":\n",
    "                prev_state = \"local\"\n",
    "                print(\"\\t Transitioning to local avoidance\")\n",
    "\n",
    "            for i in range(5):\n",
    "                speedL += node[\"prox.horizontal\"][i] * obstacleSpeedGain[i] // 100\n",
    "                speedR += node[\"prox.horizontal\"][i] * obstacleSpeedGain[4 - i] // 100\n",
    "\n",
    "          \n",
    "            await node.set_variables(motors(speedL, speedR))\n",
    "            if verbose:\n",
    "                print(\"\\t\\t Adjusting for obstacle\")\n",
    "\n",
    "        else:\n",
    "            if prev_state == \"local\":\n",
    "                #prev_state = \"global\"\n",
    "                print(prev_state)\n",
    "                print(\"\\t Transitioning to global navigation\")\n",
    "                \n",
    "               \n",
    "\n",
    "            # Reset motor speeds when no obstacles are detected\n",
    "            speedL = motor_speed\n",
    "            speedR = motor_speed\n",
    "            await node.set_variables(motors(speedL, speedR))\n",
    "            \n",
    "            # Add a small delay to avoid continuously checking for obstacles too quickly\n",
    "            await client.sleep(0.1)\n",
    "\n",
    "\n"
   ]
  },
  {
   "cell_type": "markdown",
   "id": "bc400571-7229-4d2f-933e-373fd57198a1",
   "metadata": {},
   "source": [
    "# Motion control\n"
   ]
  },
  {
   "cell_type": "code",
   "execution_count": null,
   "id": "e8b1f665-1df0-44a8-b1f3-80339b548290",
   "metadata": {},
   "outputs": [],
   "source": []
  }
 ],
 "metadata": {
  "kernelspec": {
   "display_name": "Python 3 (ipykernel)",
   "language": "python",
   "name": "python3"
  },
  "language_info": {
   "codemirror_mode": {
    "name": "ipython",
    "version": 3
   },
   "file_extension": ".py",
   "mimetype": "text/x-python",
   "name": "python",
   "nbconvert_exporter": "python",
   "pygments_lexer": "ipython3",
   "version": "3.11.5"
  }
 },
 "nbformat": 4,
 "nbformat_minor": 5
}
