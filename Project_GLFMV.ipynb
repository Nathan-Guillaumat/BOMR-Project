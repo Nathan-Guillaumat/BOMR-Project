{
 "cells": [
  {
   "cell_type": "markdown",
   "metadata": {},
   "source": [
    "\n",
    "<div style=\"border:1px solid black; padding:20px 20px;text-align: justify;text-justify: inter-word\">\n",
    "    <strong>Project - Motor Control \n",
    "    \n",
    "\n",
    "<br/>\n"
   ]
  },
  {
   "cell_type": "markdown",
   "metadata": {},
   "source": [
    "<strong>Imports :"
   ]
  },
  {
   "cell_type": "code",
   "execution_count": 1,
   "metadata": {},
   "outputs": [],
   "source": [
    "import os\n",
    "import sys\n",
    "import math\n",
    "from statistics import mean\n",
    "import pandas as pd\n",
    "import numpy as np\n",
    "import matplotlib.pyplot as plt\n",
    "from scipy.interpolate import interp1d\n",
    "\n",
    "from vision_final import *\n",
    "\n",
    "import cv2\n",
    "import time"
   ]
  },
  {
   "cell_type": "code",
   "execution_count": 2,
   "metadata": {},
   "outputs": [
    {
     "data": {
      "text/plain": [
       "'\\npos_thymio = np.array([1,1])\\npos_goal = np.array([30,45])\\ntheta = angle_to_rotate(pos_thymio,pos_goal,0)\\nprint(theta)\\n'"
      ]
     },
     "execution_count": 2,
     "metadata": {},
     "output_type": "execute_result"
    }
   ],
   "source": [
    "def angle_to_rotate(pos_i, pos_f, theta_i):\n",
    "    a = pos_f-pos_i\n",
    "    theta_f = np.arctan2(a[1], a[0])\n",
    "    r_theta = (theta_f*180)/np.pi-theta_i\n",
    "    return r_theta\n",
    "\n",
    "'''\n",
    "pos_thymio = np.array([1,1])\n",
    "pos_goal = np.array([30,45])\n",
    "theta = angle_to_rotate(pos_thymio,pos_goal,0)\n",
    "print(theta)\n",
    "'''"
   ]
  },
  {
   "cell_type": "code",
   "execution_count": 3,
   "metadata": {},
   "outputs": [
    {
     "data": {
      "text/plain": [
       "'\\npos_thymio = np.array([0,0])\\npos_goal = np.array([30,45])\\ntheta = angle_to_rotate(pos_thymio,pos_goal,0)\\ndist = distance_to_cover(pos_thymio,pos_goal)\\nprint(dist)\\n'"
      ]
     },
     "execution_count": 3,
     "metadata": {},
     "output_type": "execute_result"
    }
   ],
   "source": [
    "def distance_to_cover(pos_i, pos_f):\n",
    "    distance = np.linalg.norm(pos_f-pos_i)\n",
    "    return distance\n",
    "\n",
    "'''\n",
    "pos_thymio = np.array([0,0])\n",
    "pos_goal = np.array([30,45])\n",
    "theta = angle_to_rotate(pos_thymio,pos_goal,0)\n",
    "dist = distance_to_cover(pos_thymio,pos_goal)\n",
    "print(dist)\n",
    "'''"
   ]
  },
  {
   "cell_type": "code",
   "execution_count": 4,
   "metadata": {},
   "outputs": [
    {
     "name": "stdout",
     "output_type": "stream",
     "text": [
      "Rotations : [  56.30993247  -42.27368901 -147.35155915  124.6996675 ]\n",
      "Distances : [54.08326913 20.61552813 48.10405388 33.37663854]\n"
     ]
    }
   ],
   "source": [
    "nb_node = 3\n",
    "initial_orientation = 0 #degree\n",
    "positions = np.array([[0,0],[30,45],[50,50],[17,15],[50,10]]);\n",
    "rotations = np.zeros(positions.shape[0]-1)\n",
    "distances =  np.zeros(positions.shape[0]-1)\n",
    "\n",
    "rotations[0] = angle_to_rotate(positions[0],positions[1],initial_orientation)\n",
    "orientation = initial_orientation+rotations[0]\n",
    "\n",
    "for i in range(1,positions.shape[0]-1):\n",
    "    rotations[i] = angle_to_rotate(positions[i],positions[i+1],orientation)\n",
    "    distances[i-1] = distance_to_cover(positions[i-1],positions[i])\n",
    "    orientation = orientation+rotations[i]\n",
    "\n",
    "distances[distances.size-1]=distance_to_cover(positions[distances.size-1],positions[distances.size])\n",
    "\n",
    "print('Rotations :',rotations)\n",
    "print('Distances :',distances)"
   ]
  },
  {
   "cell_type": "code",
   "execution_count": 5,
   "metadata": {},
   "outputs": [
    {
     "name": "stdout",
     "output_type": "stream",
     "text": [
      "29.231404958677686\n"
     ]
    }
   ],
   "source": [
    "print(3537/121)"
   ]
  },
  {
   "cell_type": "markdown",
   "metadata": {},
   "source": [
    "## Async implementation:"
   ]
  },
  {
   "cell_type": "code",
   "execution_count": 6,
   "metadata": {},
   "outputs": [
    {
     "data": {
      "text/plain": [
       "Node 0102d6c0-0c6c-479f-8406-474092b0daba"
      ]
     },
     "execution_count": 6,
     "metadata": {},
     "output_type": "execute_result"
    }
   ],
   "source": [
    "from tdmclient import ClientAsync, aw\n",
    "client = ClientAsync()\n",
    "node = await client.wait_for_node()\n",
    "await node.lock()"
   ]
  },
  {
   "cell_type": "code",
   "execution_count": 7,
   "metadata": {},
   "outputs": [
    {
     "data": {
      "text/plain": [
       "{'_fwversion': [14, 0],\n",
       " '_id': [-10787],\n",
       " '_imot': [0, 0],\n",
       " '_integrator': [0, 0],\n",
       " '_productId': [8],\n",
       " '_vbat': [733, 734],\n",
       " 'acc': [0, 0, 20],\n",
       " 'acc._tap': [90],\n",
       " 'button.backward': [0],\n",
       " 'button.center': [0],\n",
       " 'button.forward': [0],\n",
       " 'button.left': [0],\n",
       " 'button.right': [0],\n",
       " 'buttons._mean': [10544, 8976, 13565, 13534, 14836],\n",
       " 'buttons._noise': [51, 38, 53, 53, 55],\n",
       " 'buttons._raw': [10553, 8983, 13578, 13543, 14847],\n",
       " 'event.args': [0,\n",
       "  0,\n",
       "  0,\n",
       "  0,\n",
       "  0,\n",
       "  0,\n",
       "  0,\n",
       "  0,\n",
       "  0,\n",
       "  0,\n",
       "  0,\n",
       "  0,\n",
       "  0,\n",
       "  0,\n",
       "  0,\n",
       "  0,\n",
       "  0,\n",
       "  0,\n",
       "  0,\n",
       "  0,\n",
       "  0,\n",
       "  0,\n",
       "  0,\n",
       "  0,\n",
       "  0,\n",
       "  0,\n",
       "  0,\n",
       "  0,\n",
       "  0,\n",
       "  0,\n",
       "  0,\n",
       "  0],\n",
       " 'event.source': [-10787],\n",
       " 'leds.bottom.left': [0, 0, 0],\n",
       " 'leds.bottom.right': [0, 0, 0],\n",
       " 'leds.circle': [0, 0, 0, 0, 0, 0, 0, 0],\n",
       " 'leds.top': [0, 0, 0],\n",
       " 'mic._mean': [256],\n",
       " 'mic.intensity': [2],\n",
       " 'mic.threshold': [0],\n",
       " 'motor.left.pwm': [0],\n",
       " 'motor.left.speed': [0],\n",
       " 'motor.left.target': [0],\n",
       " 'motor.right.pwm': [0],\n",
       " 'motor.right.speed': [0],\n",
       " 'motor.right.target': [0],\n",
       " 'prox.comm.rx': [0],\n",
       " 'prox.comm.rx._intensities': [0, 0, 0, 0, 0, 0, 0],\n",
       " 'prox.comm.rx._payloads': [0, 0, 0, 0, 0, 0, 0],\n",
       " 'prox.comm.tx': [0],\n",
       " 'prox.ground.ambiant': [2, 3],\n",
       " 'prox.ground.delta': [943, 898],\n",
       " 'prox.ground.reflected': [878, 838],\n",
       " 'prox.horizontal': [0, 0, 0, 0, 0, 0, 0],\n",
       " 'rc5.address': [0],\n",
       " 'rc5.command': [0],\n",
       " 'sd.present': [0],\n",
       " 'temperature': [255],\n",
       " 'timer.period': [0, 0]}"
      ]
     },
     "execution_count": 7,
     "metadata": {},
     "output_type": "execute_result"
    }
   ],
   "source": [
    "await node.wait_for_variables()\n",
    "node.var"
   ]
  },
  {
   "cell_type": "code",
   "execution_count": 8,
   "metadata": {},
   "outputs": [],
   "source": [
    "def angle_to_rotate(pos_i, pos_f, theta_i):\n",
    "    a = pos_f-pos_i\n",
    "    theta_f = np.arctan2(a[1], a[0])\n",
    "    r_theta = (theta_f*180)/np.pi-theta_i\n",
    "    return r_theta\n",
    "\n",
    "def distance_to_cover(pos_i, pos_f):\n",
    "    distance = np.linalg.norm(pos_f-pos_i)\n",
    "    return distance"
   ]
  },
  {
   "cell_type": "code",
   "execution_count": 9,
   "metadata": {},
   "outputs": [],
   "source": [
    "def path(positions, initial_orientation):\n",
    "    nb_node = 3\n",
    "    rotations = np.zeros(positions.shape[0]-1)\n",
    "    distances =  np.zeros(positions.shape[0]-1)\n",
    "    \n",
    "    rotations[0] = angle_to_rotate(positions[0],positions[1],initial_orientation)\n",
    "    orientation = initial_orientation+rotations[0]\n",
    "    \n",
    "    for i in range(1,positions.shape[0]-1):\n",
    "        rotations[i] = angle_to_rotate(positions[i],positions[i+1],orientation)\n",
    "        distances[i-1] = distance_to_cover(positions[i-1],positions[i])\n",
    "        orientation = orientation+rotations[i]\n",
    "\n",
    "    distances[distances.size-1]=distance_to_cover(positions[distances.size-1],positions[distances.size])\n",
    "    rotation_ratios = rotations/360\n",
    "    return distances, rotations, orientation, rotation_ratios\n"
   ]
  },
  {
   "cell_type": "markdown",
   "metadata": {},
   "source": [
    "<strong>Kalman filter : "
   ]
  },
  {
   "cell_type": "code",
   "execution_count": 10,
   "metadata": {},
   "outputs": [],
   "source": [
    "from threading import Timer\n",
    "\n",
    "class RepeatedTimer(object):\n",
    "    def __init__(self, interval, function, *args, **kwargs):\n",
    "        self._timer     = None\n",
    "        self.interval   = interval\n",
    "        self.function   = function\n",
    "        self.args       = args\n",
    "        self.kwargs     = kwargs\n",
    "        self.is_running = False\n",
    "        self.start()\n",
    "\n",
    "    def _run(self):\n",
    "        self.is_running = False\n",
    "        self.start()\n",
    "        self.function(*self.args, **self.kwargs)\n",
    "\n",
    "    def start(self):\n",
    "        if not self.is_running:\n",
    "            self._timer = Timer(self.interval, self._run)\n",
    "            self._timer.start()\n",
    "            self.is_running = True\n",
    "\n",
    "    def stop(self):\n",
    "        self._timer.cancel()\n",
    "        self.is_running = False"
   ]
  },
  {
   "cell_type": "code",
   "execution_count": 11,
   "metadata": {},
   "outputs": [],
   "source": [
    "import matplotlib.pyplot as plt\n",
    "from scipy.signal import find_peaks\n",
    "import numpy as np\n",
    "from tqdm import tqdm"
   ]
  },
  {
   "cell_type": "markdown",
   "metadata": {},
   "source": [
    "<strong> Variance for position :"
   ]
  },
  {
   "cell_type": "code",
   "execution_count": 12,
   "metadata": {},
   "outputs": [],
   "source": [
    "qpx = 0.25 # variance on position state\n",
    "qpy = 0.25\n",
    "rpx = 0.04 # variance on position measurement \n",
    "rpy = 0.04\n",
    "\n",
    "qpx = 0.25 # variance on position state\n",
    "qpy = 0.25 \n",
    "rpx = 0.01 # variance on position measurement \n",
    "rpy = 0.01\n"
   ]
  },
  {
   "cell_type": "markdown",
   "metadata": {},
   "source": [
    "<strong>Variance for angle : "
   ]
  },
  {
   "cell_type": "code",
   "execution_count": 13,
   "metadata": {},
   "outputs": [
    {
     "name": "stdout",
     "output_type": "stream",
     "text": [
      "5.885 0.1\n"
     ]
    }
   ],
   "source": [
    "std_speed = 11.77\n",
    "q_theta_nu = std_speed/2 # variance on speed state\n",
    "r_theta_nu = 0.1# std_speed/2 # variance on speed measurement \n",
    "\n",
    "print(q_theta_nu,r_theta_nu)"
   ]
  },
  {
   "cell_type": "code",
   "execution_count": 14,
   "metadata": {},
   "outputs": [],
   "source": [
    "# Initialising the remaining constants\n",
    "# units: length [mm], time [s]\n",
    "A = np.array([[1, 0, 0], [0, 1, 0], [0, 0, 1]])\n",
    "Q = np.array([[qpx, 0, 0], [0, qpy, 0],[0, 0, q_theta_nu]]); #w matrix\n",
    "rotation_conv_factor = 0.41; #0.8 for 50 speed, 0.41 for 100 speed\n",
    "speed_conv_factor_straight = 0.338; #straight\n",
    "speed_conv_factor_left = 0.403;\n",
    "speed_conv_factor_right = 0.425;\n",
    "\n",
    "speed_conv_factor = 0.374 #mean of the two\n",
    "transition_thresh = 500\n",
    "l = 100 #mm, distance between the two wheels\n",
    "\n",
    "def kalman_filter( x_est_prev, P_est_prev, Vr, Vl, Ts, camera_x=0, camera_y=0, camera_angle=0,):\n",
    "\n",
    "    ## Prediciton through the a priori estimate\n",
    "    # estimated mean of the state\n",
    "    if abs(Vr-Vl) < 30:\n",
    "        speed_conv_factor = speed_conv_factor_straight\n",
    "    elif Vr<Vl:\n",
    "        speed_conv_factor = speed_conv_factor_right\n",
    "    else:\n",
    "        speed_conv_factor = speed_conv_factor_left\n",
    "    \n",
    "    print(camera_x)\n",
    "    orientation = np.double(x_est_prev[2][0]%360)*2*np.pi/360\n",
    "    #x_est_prev[2][0] = orientation\n",
    "    B = np.array([[Ts*np.cos(orientation)/2,Ts*np.cos(orientation)/2],\n",
    "         [Ts*np.sin(orientation)/2,Ts*np.sin(orientation)/2],\n",
    "         [-Ts*360/(l*2*np.pi), Ts*360/(l*2*np.pi)]])\n",
    "    U = np.array([[Vr*speed_conv_factor],[Vl*speed_conv_factor]])\n",
    "    x_est_a_priori = np.dot(A, x_est_prev) + np.dot(B, U);\n",
    "  \n",
    "    \n",
    "    # Estimated covariance of the state\n",
    "    P_est_a_priori = np.dot(A, np.dot(P_est_prev, A.T));\n",
    "    P_est_a_priori = P_est_a_priori + Q if type(Q) != type(None) else P_est_a_priori\n",
    "    \n",
    "    ## Update         \n",
    "    # y, C, and R for a posteriori estimate, depending on transition\n",
    "    if (camera_x != 0) : #XOR (one or the other but not both)\n",
    "        # transition detected aka camera provides the position\n",
    "        y = np.array([[camera_x],[camera_y],[camera_angle]])\n",
    "        H = np.array([[1, 0, 0],[0, 1, 0],[0, 0, 1]])\n",
    "        R = np.array([[rpx, 0, 0],[0, rpy,0],[0, 0, r_theta_nu]]) #not the value of the variance of the position measurments\n",
    "        \n",
    "        # innovation / measurement residual\n",
    "        i = y - np.dot(H, x_est_a_priori); #measured-mean aka difference between the two states\n",
    "        # measurement prediction covariance\n",
    "        S = np.dot(H, np.dot(P_est_a_priori, H.T)) + R;\n",
    "                 \n",
    "        # Kalman gain (tells how much the predictions should be corrected based on the measurements)\n",
    "        K = np.dot(P_est_a_priori, np.dot(H.T, np.linalg.inv(S)));\n",
    "            \n",
    "        # a posteriori estimate\n",
    "        x_est = x_est_a_priori + np.dot(K,i);\n",
    "        P_est = P_est_a_priori - np.dot(K,np.dot(H, P_est_a_priori));\n",
    "\n",
    "    else:\n",
    "        x_est = x_est_a_priori\n",
    "        P_est = P_est_a_priori\n",
    "     \n",
    "    return x_est, P_est"
   ]
  },
  {
   "cell_type": "code",
   "execution_count": 15,
   "metadata": {},
   "outputs": [],
   "source": [
    "import time"
   ]
  },
  {
   "cell_type": "code",
   "execution_count": 16,
   "metadata": {},
   "outputs": [],
   "source": [
    "def motors(left, right):\n",
    "    return {\n",
    "        \"motor.left.target\": [left],\n",
    "        \"motor.right.target\": [right],\n",
    "    }"
   ]
  },
  {
   "cell_type": "code",
   "execution_count": 17,
   "metadata": {},
   "outputs": [],
   "source": [
    "import asyncio\n",
    "import time\n",
    "    \n",
    "async def drive_for_seconds(client, seconds):\n",
    "    # Set the motor speeds\n",
    "    v = {\n",
    "        \"motor.left.target\": [int(99)],\n",
    "        \"motor.right.target\": [int(100)],\n",
    "    }\n",
    "    await node.set_variables(v)\n",
    "    await asyncio.sleep(seconds)\n",
    "\n",
    "\n",
    "async def turn_for_seconds(client, seconds,right):\n",
    "    # Set the motor speeds\n",
    "    if seconds != 0:\n",
    "        if right==1:\n",
    "            v = {\n",
    "                \"motor.left.target\": [int(100)],\n",
    "                \"motor.right.target\": [int(-100)],\n",
    "            }\n",
    "        else:\n",
    "            v = {\n",
    "                \"motor.left.target\": [int(-100)],\n",
    "                \"motor.right.target\": [int(100)],\n",
    "            }\n",
    "        await node.set_variables(v)\n",
    "    await asyncio.sleep(abs(seconds))"
   ]
  },
  {
   "cell_type": "code",
   "execution_count": 18,
   "metadata": {},
   "outputs": [
    {
     "data": {
      "text/plain": [
       "'\\nvstop = {\\n    \"motor.left.target\": [int(0)],\\n    \"motor.right.target\": [int(0)],\\n}\\nawait node.set_variables(vstop)\\n'"
      ]
     },
     "execution_count": 18,
     "metadata": {},
     "output_type": "execute_result"
    }
   ],
   "source": [
    "'''\n",
    "vstop = {\n",
    "    \"motor.left.target\": [int(0)],\n",
    "    \"motor.right.target\": [int(0)],\n",
    "}\n",
    "await node.set_variables(vstop)\n",
    "'''"
   ]
  },
  {
   "cell_type": "code",
   "execution_count": 19,
   "metadata": {},
   "outputs": [],
   "source": [
    "def filter():#x_est, P_est, Ts):\n",
    "    global x_est, P_est, Ts, angle, Vr, Vl, frame, image_ready, obstacles_result, goal_position\n",
    "\n",
    "    thymio_data.append({\"left_speed\":node[\"motor.left.speed\"],\n",
    "                        \"right_speed\":node[\"motor.right.speed\"]}) \n",
    "\n",
    "    #print(thymio_data[-1][\"left_speed\"])\n",
    "    Vl = thymio_data[-1][\"left_speed\"]\n",
    "    Vr = thymio_data[-1][\"right_speed\"]\n",
    "    #print(Vr, Vl)\n",
    "\n",
    "    camera_x = 0\n",
    "    camera_y = 0\n",
    "    camera_angle = 0\n",
    "\n",
    "    if image_ready:\n",
    "        # applying vision functions\n",
    "        goal_result = locate_goal(frame)\n",
    "        thymio_result = locate_thymio(frame)\n",
    "        camera_x = thymio_result[0][0][0]*0.4\n",
    "        camera_y = thymio_result[0][0][1]*0.4\n",
    "        camera_angle = (thymio_result[2])*360/(2*np.pi)\n",
    "        image_ready = False\n",
    "\n",
    "        if abs(camera_x-x_est[0][0])>100 or abs(camera_y-x_est[0][1])>100:\n",
    "        # or abs(goal_result[0]-goal_position[0])>100 or abs(goal_result[1]-goal_position[1])>100 :\n",
    "            \n",
    "            print(\"---------------------\")\n",
    "            poly = poly_calculation(obstacles_result)\n",
    "            print(\"iiiii\")\n",
    "            positions = global_navigation(polys, start, goal) * 0.4\n",
    "            print(\"kkkkkk\")\n",
    "            initial_orientation = thymio_result[2]*360/(2*np.pi)\n",
    "            print(\"llllll\")\n",
    "            x_est = np.array([[positions[0][0]], [positions[0][1]], [initial_orientation]])\n",
    "            n = 1\n",
    "            print(\"Kidnaaaaaaped or goal moved !!!!!!!!!!!!!\")\n",
    "\n",
    "    x_est, P_est = kalman_filter(x_est, P_est, Vr, Vl, Ts, camera_x, camera_y, camera_angle)\n",
    "    camera_x = 0 \n",
    "    #print(x_est)\n",
    "    "
   ]
  },
  {
   "cell_type": "markdown",
   "metadata": {},
   "source": [
    "## Global navigation"
   ]
  },
  {
   "cell_type": "code",
   "execution_count": 20,
   "metadata": {},
   "outputs": [],
   "source": [
    "from globalNavigation import Point, Edge, Graph, build_graph, Astar "
   ]
  },
  {
   "cell_type": "code",
   "execution_count": 21,
   "metadata": {},
   "outputs": [
    {
     "data": {
      "text/plain": [
       "'Change the Scale !!!!'"
      ]
     },
     "execution_count": 21,
     "metadata": {},
     "output_type": "execute_result"
    }
   ],
   "source": [
    "def global_navigation(polys, start, goal):\n",
    "\n",
    "    graph = Graph(polys)\n",
    "    build_graph(graph)\n",
    "    \n",
    "    nodes, closed = Astar(graph, start, goal)\n",
    "    \n",
    "    #for node in nodes:\n",
    "    nodes = nodes[::-1]\n",
    "    coordinates = np.array(nodes)\n",
    "    \n",
    "    points = np.zeros((len(coordinates),2))\n",
    "    \n",
    "    for i in range(len(coordinates)):\n",
    "        points[i]= [coordinates[i].x,coordinates[i].y]\n",
    "        \n",
    "    return points\n",
    "'''Change the Scale !!!!'''"
   ]
  },
  {
   "cell_type": "markdown",
   "metadata": {},
   "source": [
    "## Local avoidance"
   ]
  },
  {
   "cell_type": "code",
   "execution_count": 22,
   "metadata": {},
   "outputs": [],
   "source": [
    "def test_saw_obstacle(threshold, verbose=True):\n",
    "    print(\"\\t Test saw obstacle: \")\n",
    "    if any([x > threshold for x in node['prox.horizontal'][0:5]]):\n",
    "        if verbose: print(\"\\t\\t Obstacle detected\")\n",
    "        return True\n",
    "    \n",
    "    return False"
   ]
  },
  {
   "cell_type": "code",
   "execution_count": 23,
   "metadata": {},
   "outputs": [],
   "source": [
    "async def path_following(motor_speed=100, threshold=0,  verbose=False):\n",
    "    \n",
    "    global n, positions, x_est, P_est, Ts, read, Vr, Vl, n\n",
    "\n",
    "    saw_obstacle = False\n",
    "    \n",
    "    if verbose: print(\"\\t Path following \")\n",
    "    await node.set_variables(motors(motor_speed, motor_speed))\n",
    "           \n",
    "    prev_state=\"local\"\n",
    "    \n",
    "    while not saw_obstacle:\n",
    "        \n",
    "        if test_saw_obstacle(threshold, verbose=False):\n",
    "            if prev_state==\"local\": \n",
    "                prev_state=\"global\"\n",
    "            saw_obstacle = True\n",
    "            await client.sleep(0.1) #otherwise, variables would not be updated\n",
    "        else:\n",
    "            start = time.time()\n",
    "            if (positions[n][0]+position_threshold > x_est[0][0]) and (positions[n][0]-position_threshold < x_est[0][0]):\n",
    "                if (positions[n][1]+position_threshold > x_est[1][0]) and (positions[n][1]-position_threshold < x_est[1][0]):\n",
    "                    n+=1\n",
    "            angle = angle_to_rotate([x_est[0][0],x_est[1][0]],positions[n],x_est[2][0]);\n",
    "            if (abs(angle)<angle_threshold):\n",
    "                #Vr = 100\n",
    "                #Vl = 100\n",
    "                drive_task = asyncio.create_task(drive_for_seconds(client, Ts))\n",
    "                await drive_task\n",
    "    \n",
    "            else:\n",
    "                if angle>0:\n",
    "                    right = 1\n",
    "                    #Vr = -100\n",
    "                    #Vl = 100\n",
    "                else:\n",
    "                    right = 0\n",
    "                    #Vr = 100\n",
    "                    #Vl = -100\n",
    "\n",
    "                turn_task = asyncio.create_task(turn_for_seconds(client, Ts, right))\n",
    "                await turn_task\n",
    "            #print(x_est)\n",
    "            stop = time.time()\n",
    "            #print(\"time elapsed : \", start - stop)\n",
    "            \n",
    "    return "
   ]
  },
  {
   "cell_type": "code",
   "execution_count": 24,
   "metadata": {},
   "outputs": [],
   "source": [
    "async def local_avoidance(motor_speed=100, threshold=0, verbose=False):\n",
    "    obstacleSpeedGain = [6, 4, -2, -6, -8]\n",
    "    saw_obstacle = True\n",
    "    speedL = motor_speed\n",
    "    speedR = motor_speed\n",
    "    prev_state = \"global\"\n",
    "\n",
    "    if verbose:\n",
    "        print(\"Local avoidance\")\n",
    "\n",
    "    while saw_obstacle:\n",
    "        if test_saw_obstacle(threshold, verbose=False):\n",
    "            if prev_state == \"global\":\n",
    "                prev_state = \"local\"\n",
    "                print(\"\\t Transitioning to local avoidance\")\n",
    "\n",
    "            for i in range(5):\n",
    "                speedL += node[\"prox.horizontal\"][i] * obstacleSpeedGain[i] // 100\n",
    "                speedR += node[\"prox.horizontal\"][i] * obstacleSpeedGain[4 - i] // 100\n",
    "\n",
    "          \n",
    "            await node.set_variables(motors(speedL, speedR))\n",
    "            if verbose:\n",
    "                print(\"\\t\\t Adjusting for obstacle\")\n",
    "\n",
    "        else:\n",
    "            saw_obstacle = False\n",
    "            if prev_state == \"local\":\n",
    "                #prev_state = \"global\"\n",
    "                print(prev_state)\n",
    "                print(\"\\t Transitioning to global navigation\")\n",
    "                \n",
    "               \n",
    "\n",
    "            # Reset motor speeds when no obstacles are detected\n",
    "            speedL = motor_speed\n",
    "            speedR = motor_speed\n",
    "            await node.set_variables(motors(speedL, speedR))\n",
    "            \n",
    "            # Add a small delay to avoid continuously checking for obstacles too quickly\n",
    "            await client.sleep(0.1)\n",
    "\n",
    "\n"
   ]
  },
  {
   "cell_type": "code",
   "execution_count": 25,
   "metadata": {},
   "outputs": [],
   "source": [
    "await node.set_variables(motors(0, 0))"
   ]
  },
  {
   "cell_type": "markdown",
   "metadata": {},
   "source": [
    "## Main"
   ]
  },
  {
   "cell_type": "code",
   "execution_count": 26,
   "metadata": {},
   "outputs": [
    {
     "name": "stderr",
     "output_type": "stream",
     "text": [
      "2023-12-06 23:52:26.636 Python[12608:450295] WARNING: AVCaptureDeviceTypeExternal is deprecated for Continuity Cameras. Please use AVCaptureDeviceTypeContinuityCamera and add NSCameraUseContinuityCameraDeviceType to your Info.plist.\n"
     ]
    }
   ],
   "source": [
    "# Open the video capture\n",
    "cap = cv2.VideoCapture(0)"
   ]
  },
  {
   "cell_type": "code",
   "execution_count": 27,
   "metadata": {},
   "outputs": [],
   "source": [
    "def camera_acquisition():\n",
    "    global frame, image_ready\n",
    "\n",
    "    ret, frame = cap.read()\n",
    "    image_ready = True"
   ]
  },
  {
   "cell_type": "code",
   "execution_count": 28,
   "metadata": {},
   "outputs": [
    {
     "name": "stderr",
     "output_type": "stream",
     "text": [
      "/Users/alexei.ermochkine/Desktop/ma3/mobile_robotics/venv4mobilerobotics/lib/python3.11/site-packages/sklearn/cluster/_kmeans.py:1416: FutureWarning: The default value of `n_init` will change from 10 to 'auto' in 1.4. Set the value of `n_init` explicitly to suppress the warning\n",
      "  super()._check_params_vs_input(X, default_n_init=10)\n"
     ]
    },
    {
     "name": "stdout",
     "output_type": "stream",
     "text": [
      "0.3941388865012896\n",
      "obstacles_result : [[(594, 468), (1239, 468), (1239, 1152), (594, 1152)]]\n",
      "Initial position : [[ 934.41772152  225.55696203]\n",
      " [1239.          468.        ]\n",
      " [1803.          508.        ]] \n",
      " Initial orientation :  22.582494738509666\n",
      "xest =  [[373.76708861]\n",
      " [ 90.22278481]\n",
      " [ 22.58249474]]\n",
      "entered try\n",
      "\t Path following \n",
      "\t Test saw obstacle: \n",
      "0\n"
     ]
    },
    {
     "name": "stderr",
     "output_type": "stream",
     "text": [
      "Exception in thread Thread-7:\n",
      "Traceback (most recent call last):\n",
      "  File \"/Library/Frameworks/Python.framework/Versions/3.11/lib/python3.11/threading.py\", line 1038, in _bootstrap_inner\n",
      "    self.run()\n",
      "  File \"/Library/Frameworks/Python.framework/Versions/3.11/lib/python3.11/threading.py\", line 1394, in run\n",
      "    self.function(*self.args, **self.kwargs)\n",
      "  File \"/var/folders/94/hphmcz155530jnw34qpssk100000gn/T/ipykernel_12608/4043924853.py\", line 16, in _run\n",
      "  File \"/var/folders/94/hphmcz155530jnw34qpssk100000gn/T/ipykernel_12608/2098666837.py\", line 25, in filter\n",
      "IndexError: index 1 is out of bounds for axis 0 with size 1\n",
      "Exception in thread Thread-12:\n",
      "Traceback (most recent call last):\n",
      "  File \"/Library/Frameworks/Python.framework/Versions/3.11/lib/python3.11/threading.py\", line 1038, in _bootstrap_inner\n",
      "    self.run()\n",
      "  File \"/Library/Frameworks/Python.framework/Versions/3.11/lib/python3.11/threading.py\", line 1394, in run\n",
      "    self.function(*self.args, **self.kwargs)\n",
      "  File \"/var/folders/94/hphmcz155530jnw34qpssk100000gn/T/ipykernel_12608/4043924853.py\", line 16, in _run\n",
      "  File \"/var/folders/94/hphmcz155530jnw34qpssk100000gn/T/ipykernel_12608/2098666837.py\", line 25, in filter\n",
      "IndexError: index 1 is out of bounds for axis 0 with size 1\n"
     ]
    },
    {
     "name": "stdout",
     "output_type": "stream",
     "text": [
      "\t Test saw obstacle: \n",
      "0\n"
     ]
    },
    {
     "name": "stderr",
     "output_type": "stream",
     "text": [
      "Exception in thread Thread-13:\n",
      "Traceback (most recent call last):\n",
      "  File \"/Library/Frameworks/Python.framework/Versions/3.11/lib/python3.11/threading.py\", line 1038, in _bootstrap_inner\n",
      "    self.run()\n",
      "  File \"/Library/Frameworks/Python.framework/Versions/3.11/lib/python3.11/threading.py\", line 1394, in run\n",
      "    self.function(*self.args, **self.kwargs)\n",
      "  File \"/var/folders/94/hphmcz155530jnw34qpssk100000gn/T/ipykernel_12608/4043924853.py\", line 16, in _run\n",
      "  File \"/var/folders/94/hphmcz155530jnw34qpssk100000gn/T/ipykernel_12608/2098666837.py\", line 25, in filter\n",
      "IndexError: index 1 is out of bounds for axis 0 with size 1\n",
      "Exception in thread Thread-15:\n",
      "Traceback (most recent call last):\n",
      "  File \"/Library/Frameworks/Python.framework/Versions/3.11/lib/python3.11/threading.py\", line 1038, in _bootstrap_inner\n",
      "    self.run()\n",
      "  File \"/Library/Frameworks/Python.framework/Versions/3.11/lib/python3.11/threading.py\", line 1394, in run\n",
      "    self.function(*self.args, **self.kwargs)\n",
      "  File \"/var/folders/94/hphmcz155530jnw34qpssk100000gn/T/ipykernel_12608/4043924853.py\", line 16, in _run\n",
      "  File \"/var/folders/94/hphmcz155530jnw34qpssk100000gn/T/ipykernel_12608/2098666837.py\", line 25, in filter\n",
      "IndexError: index 1 is out of bounds for axis 0 with size 1\n"
     ]
    },
    {
     "name": "stdout",
     "output_type": "stream",
     "text": [
      "\t Test saw obstacle: \n"
     ]
    },
    {
     "name": "stderr",
     "output_type": "stream",
     "text": [
      "Exception in thread Thread-18:\n",
      "Traceback (most recent call last):\n",
      "  File \"/Library/Frameworks/Python.framework/Versions/3.11/lib/python3.11/threading.py\", line 1038, in _bootstrap_inner\n",
      "    self.run()\n",
      "  File \"/Library/Frameworks/Python.framework/Versions/3.11/lib/python3.11/threading.py\", line 1394, in run\n",
      "    self.function(*self.args, **self.kwargs)\n",
      "  File \"/var/folders/94/hphmcz155530jnw34qpssk100000gn/T/ipykernel_12608/4043924853.py\", line 16, in _run\n",
      "  File \"/var/folders/94/hphmcz155530jnw34qpssk100000gn/T/ipykernel_12608/2098666837.py\", line 25, in filter\n",
      "IndexError: index 1 is out of bounds for axis 0 with size 1\n",
      "Exception in thread Thread-19:\n",
      "Traceback (most recent call last):\n",
      "  File \"/Library/Frameworks/Python.framework/Versions/3.11/lib/python3.11/threading.py\", line 1038, in _bootstrap_inner\n",
      "    self.run()\n",
      "  File \"/Library/Frameworks/Python.framework/Versions/3.11/lib/python3.11/threading.py\", line 1394, in run\n",
      "    self.function(*self.args, **self.kwargs)\n",
      "  File \"/var/folders/94/hphmcz155530jnw34qpssk100000gn/T/ipykernel_12608/4043924853.py\", line 16, in _run\n",
      "  File \"/var/folders/94/hphmcz155530jnw34qpssk100000gn/T/ipykernel_12608/2098666837.py\", line 25, in filter\n",
      "IndexError: index 1 is out of bounds for axis 0 with size 1\n"
     ]
    },
    {
     "name": "stdout",
     "output_type": "stream",
     "text": [
      "\t Test saw obstacle: \n"
     ]
    },
    {
     "name": "stderr",
     "output_type": "stream",
     "text": [
      "Exception in thread Thread-21:\n",
      "Traceback (most recent call last):\n",
      "  File \"/Library/Frameworks/Python.framework/Versions/3.11/lib/python3.11/threading.py\", line 1038, in _bootstrap_inner\n",
      "    self.run()\n",
      "  File \"/Library/Frameworks/Python.framework/Versions/3.11/lib/python3.11/threading.py\", line 1394, in run\n",
      "    self.function(*self.args, **self.kwargs)\n",
      "  File \"/var/folders/94/hphmcz155530jnw34qpssk100000gn/T/ipykernel_12608/4043924853.py\", line 16, in _run\n",
      "  File \"/var/folders/94/hphmcz155530jnw34qpssk100000gn/T/ipykernel_12608/2098666837.py\", line 25, in filter\n",
      "IndexError: index 1 is out of bounds for axis 0 with size 1\n",
      "Exception in thread Thread-23:\n",
      "Traceback (most recent call last):\n",
      "  File \"/Library/Frameworks/Python.framework/Versions/3.11/lib/python3.11/threading.py\", line 1038, in _bootstrap_inner\n",
      "    self.run()\n",
      "  File \"/Library/Frameworks/Python.framework/Versions/3.11/lib/python3.11/threading.py\", line 1394, in run\n",
      "    self.function(*self.args, **self.kwargs)\n",
      "  File \"/var/folders/94/hphmcz155530jnw34qpssk100000gn/T/ipykernel_12608/4043924853.py\", line 16, in _run\n",
      "  File \"/var/folders/94/hphmcz155530jnw34qpssk100000gn/T/ipykernel_12608/2098666837.py\", line 25, in filter\n",
      "IndexError: index 1 is out of bounds for axis 0 with size 1\n"
     ]
    },
    {
     "name": "stdout",
     "output_type": "stream",
     "text": [
      "\t Test saw obstacle: \n"
     ]
    },
    {
     "name": "stderr",
     "output_type": "stream",
     "text": [
      "Exception in thread Thread-27:\n",
      "Traceback (most recent call last):\n",
      "  File \"/Library/Frameworks/Python.framework/Versions/3.11/lib/python3.11/threading.py\", line 1038, in _bootstrap_inner\n",
      "    self.run()\n",
      "  File \"/Library/Frameworks/Python.framework/Versions/3.11/lib/python3.11/threading.py\", line 1394, in run\n",
      "    self.function(*self.args, **self.kwargs)\n",
      "  File \"/var/folders/94/hphmcz155530jnw34qpssk100000gn/T/ipykernel_12608/4043924853.py\", line 16, in _run\n",
      "  File \"/var/folders/94/hphmcz155530jnw34qpssk100000gn/T/ipykernel_12608/2098666837.py\", line 25, in filter\n",
      "IndexError: index 1 is out of bounds for axis 0 with size 1\n"
     ]
    },
    {
     "name": "stdout",
     "output_type": "stream",
     "text": [
      "\t Test saw obstacle: \n",
      "0\n"
     ]
    },
    {
     "name": "stderr",
     "output_type": "stream",
     "text": [
      "Exception in thread Thread-29:\n",
      "Traceback (most recent call last):\n",
      "  File \"/Library/Frameworks/Python.framework/Versions/3.11/lib/python3.11/threading.py\", line 1038, in _bootstrap_inner\n",
      "    self.run()\n",
      "  File \"/Library/Frameworks/Python.framework/Versions/3.11/lib/python3.11/threading.py\", line 1394, in run\n",
      "    self.function(*self.args, **self.kwargs)\n",
      "  File \"/var/folders/94/hphmcz155530jnw34qpssk100000gn/T/ipykernel_12608/4043924853.py\", line 16, in _run\n",
      "  File \"/var/folders/94/hphmcz155530jnw34qpssk100000gn/T/ipykernel_12608/2098666837.py\", line 25, in filter\n",
      "IndexError: index 1 is out of bounds for axis 0 with size 1\n",
      "Exception in thread Thread-31:\n",
      "Traceback (most recent call last):\n",
      "  File \"/Library/Frameworks/Python.framework/Versions/3.11/lib/python3.11/threading.py\", line 1038, in _bootstrap_inner\n",
      "    self.run()\n",
      "  File \"/Library/Frameworks/Python.framework/Versions/3.11/lib/python3.11/threading.py\", line 1394, in run\n",
      "    self.function(*self.args, **self.kwargs)\n",
      "  File \"/var/folders/94/hphmcz155530jnw34qpssk100000gn/T/ipykernel_12608/4043924853.py\", line 16, in _run\n",
      "  File \"/var/folders/94/hphmcz155530jnw34qpssk100000gn/T/ipykernel_12608/2098666837.py\", line 25, in filter\n",
      "IndexError: index 1 is out of bounds for axis 0 with size 1\n"
     ]
    },
    {
     "name": "stdout",
     "output_type": "stream",
     "text": [
      "\t Test saw obstacle: \n"
     ]
    },
    {
     "name": "stderr",
     "output_type": "stream",
     "text": [
      "Exception in thread Thread-33:\n",
      "Traceback (most recent call last):\n",
      "  File \"/Library/Frameworks/Python.framework/Versions/3.11/lib/python3.11/threading.py\", line 1038, in _bootstrap_inner\n",
      "    self.run()\n",
      "  File \"/Library/Frameworks/Python.framework/Versions/3.11/lib/python3.11/threading.py\", line 1394, in run\n",
      "    self.function(*self.args, **self.kwargs)\n",
      "  File \"/var/folders/94/hphmcz155530jnw34qpssk100000gn/T/ipykernel_12608/4043924853.py\", line 16, in _run\n",
      "  File \"/var/folders/94/hphmcz155530jnw34qpssk100000gn/T/ipykernel_12608/2098666837.py\", line 25, in filter\n",
      "IndexError: index 1 is out of bounds for axis 0 with size 1\n",
      "Exception in thread Thread-35:\n",
      "Traceback (most recent call last):\n",
      "  File \"/Library/Frameworks/Python.framework/Versions/3.11/lib/python3.11/threading.py\", line 1038, in _bootstrap_inner\n",
      "    self.run()\n",
      "  File \"/Library/Frameworks/Python.framework/Versions/3.11/lib/python3.11/threading.py\", line 1394, in run\n",
      "    self.function(*self.args, **self.kwargs)\n",
      "  File \"/var/folders/94/hphmcz155530jnw34qpssk100000gn/T/ipykernel_12608/4043924853.py\", line 16, in _run\n",
      "  File \"/var/folders/94/hphmcz155530jnw34qpssk100000gn/T/ipykernel_12608/2098666837.py\", line 25, in filter\n",
      "IndexError: index 1 is out of bounds for axis 0 with size 1\n"
     ]
    },
    {
     "name": "stdout",
     "output_type": "stream",
     "text": [
      "\t Test saw obstacle: \n"
     ]
    },
    {
     "name": "stderr",
     "output_type": "stream",
     "text": [
      "Exception in thread Thread-37:\n",
      "Traceback (most recent call last):\n",
      "  File \"/Library/Frameworks/Python.framework/Versions/3.11/lib/python3.11/threading.py\", line 1038, in _bootstrap_inner\n",
      "    self.run()\n",
      "  File \"/Library/Frameworks/Python.framework/Versions/3.11/lib/python3.11/threading.py\", line 1394, in run\n",
      "    self.function(*self.args, **self.kwargs)\n",
      "  File \"/var/folders/94/hphmcz155530jnw34qpssk100000gn/T/ipykernel_12608/4043924853.py\", line 16, in _run\n",
      "  File \"/var/folders/94/hphmcz155530jnw34qpssk100000gn/T/ipykernel_12608/2098666837.py\", line 25, in filter\n",
      "IndexError: index 1 is out of bounds for axis 0 with size 1\n",
      "Exception in thread Thread-39:\n",
      "Traceback (most recent call last):\n",
      "  File \"/Library/Frameworks/Python.framework/Versions/3.11/lib/python3.11/threading.py\", line 1038, in _bootstrap_inner\n",
      "    self.run()\n",
      "  File \"/Library/Frameworks/Python.framework/Versions/3.11/lib/python3.11/threading.py\", line 1394, in run\n",
      "    self.function(*self.args, **self.kwargs)\n",
      "  File \"/var/folders/94/hphmcz155530jnw34qpssk100000gn/T/ipykernel_12608/4043924853.py\", line 16, in _run\n",
      "  File \"/var/folders/94/hphmcz155530jnw34qpssk100000gn/T/ipykernel_12608/2098666837.py\", line 25, in filter\n",
      "IndexError: index 1 is out of bounds for axis 0 with size 1\n"
     ]
    },
    {
     "name": "stdout",
     "output_type": "stream",
     "text": [
      "\t Test saw obstacle: \n"
     ]
    },
    {
     "name": "stderr",
     "output_type": "stream",
     "text": [
      "Exception in thread Thread-41:\n",
      "Traceback (most recent call last):\n",
      "  File \"/Library/Frameworks/Python.framework/Versions/3.11/lib/python3.11/threading.py\", line 1038, in _bootstrap_inner\n",
      "    self.run()\n",
      "  File \"/Library/Frameworks/Python.framework/Versions/3.11/lib/python3.11/threading.py\", line 1394, in run\n",
      "    self.function(*self.args, **self.kwargs)\n",
      "  File \"/var/folders/94/hphmcz155530jnw34qpssk100000gn/T/ipykernel_12608/4043924853.py\", line 16, in _run\n",
      "  File \"/var/folders/94/hphmcz155530jnw34qpssk100000gn/T/ipykernel_12608/2098666837.py\", line 25, in filter\n",
      "IndexError: index 1 is out of bounds for axis 0 with size 1\n",
      "Exception in thread Thread-43:\n",
      "Traceback (most recent call last):\n",
      "  File \"/Library/Frameworks/Python.framework/Versions/3.11/lib/python3.11/threading.py\", line 1038, in _bootstrap_inner\n",
      "    self.run()\n",
      "  File \"/Library/Frameworks/Python.framework/Versions/3.11/lib/python3.11/threading.py\", line 1394, in run\n",
      "    self.function(*self.args, **self.kwargs)\n",
      "  File \"/var/folders/94/hphmcz155530jnw34qpssk100000gn/T/ipykernel_12608/4043924853.py\", line 16, in _run\n",
      "  File \"/var/folders/94/hphmcz155530jnw34qpssk100000gn/T/ipykernel_12608/2098666837.py\", line 25, in filter\n",
      "IndexError: index 1 is out of bounds for axis 0 with size 1\n"
     ]
    },
    {
     "name": "stdout",
     "output_type": "stream",
     "text": [
      "\t Test saw obstacle: \n"
     ]
    },
    {
     "name": "stderr",
     "output_type": "stream",
     "text": [
      "Exception in thread Thread-45:\n",
      "Traceback (most recent call last):\n",
      "  File \"/Library/Frameworks/Python.framework/Versions/3.11/lib/python3.11/threading.py\", line 1038, in _bootstrap_inner\n",
      "    self.run()\n",
      "  File \"/Library/Frameworks/Python.framework/Versions/3.11/lib/python3.11/threading.py\", line 1394, in run\n",
      "    self.function(*self.args, **self.kwargs)\n",
      "  File \"/var/folders/94/hphmcz155530jnw34qpssk100000gn/T/ipykernel_12608/4043924853.py\", line 16, in _run\n",
      "  File \"/var/folders/94/hphmcz155530jnw34qpssk100000gn/T/ipykernel_12608/2098666837.py\", line 25, in filter\n",
      "IndexError: index 1 is out of bounds for axis 0 with size 1\n",
      "Exception in thread Thread-47:\n",
      "Traceback (most recent call last):\n",
      "  File \"/Library/Frameworks/Python.framework/Versions/3.11/lib/python3.11/threading.py\", line 1038, in _bootstrap_inner\n",
      "    self.run()\n",
      "  File \"/Library/Frameworks/Python.framework/Versions/3.11/lib/python3.11/threading.py\", line 1394, in run\n",
      "    self.function(*self.args, **self.kwargs)\n",
      "  File \"/var/folders/94/hphmcz155530jnw34qpssk100000gn/T/ipykernel_12608/4043924853.py\", line 16, in _run\n",
      "  File \"/var/folders/94/hphmcz155530jnw34qpssk100000gn/T/ipykernel_12608/2098666837.py\", line 25, in filter\n",
      "IndexError: index 1 is out of bounds for axis 0 with size 1\n"
     ]
    },
    {
     "name": "stdout",
     "output_type": "stream",
     "text": [
      "\t Test saw obstacle: \n"
     ]
    },
    {
     "name": "stderr",
     "output_type": "stream",
     "text": [
      "Exception in thread Thread-49:\n",
      "Traceback (most recent call last):\n",
      "  File \"/Library/Frameworks/Python.framework/Versions/3.11/lib/python3.11/threading.py\", line 1038, in _bootstrap_inner\n",
      "    self.run()\n",
      "  File \"/Library/Frameworks/Python.framework/Versions/3.11/lib/python3.11/threading.py\", line 1394, in run\n",
      "    self.function(*self.args, **self.kwargs)\n",
      "  File \"/var/folders/94/hphmcz155530jnw34qpssk100000gn/T/ipykernel_12608/4043924853.py\", line 16, in _run\n",
      "  File \"/var/folders/94/hphmcz155530jnw34qpssk100000gn/T/ipykernel_12608/2098666837.py\", line 25, in filter\n",
      "IndexError: index 1 is out of bounds for axis 0 with size 1\n",
      "Exception in thread Thread-51:\n",
      "Traceback (most recent call last):\n",
      "  File \"/Library/Frameworks/Python.framework/Versions/3.11/lib/python3.11/threading.py\", line 1038, in _bootstrap_inner\n",
      "    self.run()\n",
      "  File \"/Library/Frameworks/Python.framework/Versions/3.11/lib/python3.11/threading.py\", line 1394, in run\n",
      "    self.function(*self.args, **self.kwargs)\n",
      "  File \"/var/folders/94/hphmcz155530jnw34qpssk100000gn/T/ipykernel_12608/4043924853.py\", line 16, in _run\n",
      "  File \"/var/folders/94/hphmcz155530jnw34qpssk100000gn/T/ipykernel_12608/2098666837.py\", line 25, in filter\n",
      "IndexError: index 1 is out of bounds for axis 0 with size 1\n"
     ]
    },
    {
     "name": "stdout",
     "output_type": "stream",
     "text": [
      "\t Test saw obstacle: \n"
     ]
    },
    {
     "name": "stderr",
     "output_type": "stream",
     "text": [
      "Exception in thread Thread-53:\n",
      "Traceback (most recent call last):\n",
      "  File \"/Library/Frameworks/Python.framework/Versions/3.11/lib/python3.11/threading.py\", line 1038, in _bootstrap_inner\n",
      "    self.run()\n",
      "  File \"/Library/Frameworks/Python.framework/Versions/3.11/lib/python3.11/threading.py\", line 1394, in run\n",
      "    self.function(*self.args, **self.kwargs)\n",
      "  File \"/var/folders/94/hphmcz155530jnw34qpssk100000gn/T/ipykernel_12608/4043924853.py\", line 16, in _run\n",
      "  File \"/var/folders/94/hphmcz155530jnw34qpssk100000gn/T/ipykernel_12608/2098666837.py\", line 25, in filter\n",
      "IndexError: index 1 is out of bounds for axis 0 with size 1\n",
      "Exception in thread Thread-55:\n",
      "Traceback (most recent call last):\n",
      "  File \"/Library/Frameworks/Python.framework/Versions/3.11/lib/python3.11/threading.py\", line 1038, in _bootstrap_inner\n",
      "    self.run()\n",
      "  File \"/Library/Frameworks/Python.framework/Versions/3.11/lib/python3.11/threading.py\", line 1394, in run\n",
      "    self.function(*self.args, **self.kwargs)\n",
      "  File \"/var/folders/94/hphmcz155530jnw34qpssk100000gn/T/ipykernel_12608/4043924853.py\", line 16, in _run\n",
      "  File \"/var/folders/94/hphmcz155530jnw34qpssk100000gn/T/ipykernel_12608/2098666837.py\", line 25, in filter\n",
      "IndexError: index 1 is out of bounds for axis 0 with size 1\n"
     ]
    },
    {
     "name": "stdout",
     "output_type": "stream",
     "text": [
      "\t Test saw obstacle: \n"
     ]
    },
    {
     "name": "stderr",
     "output_type": "stream",
     "text": [
      "Exception in thread Thread-57:\n",
      "Traceback (most recent call last):\n",
      "  File \"/Library/Frameworks/Python.framework/Versions/3.11/lib/python3.11/threading.py\", line 1038, in _bootstrap_inner\n",
      "    self.run()\n",
      "  File \"/Library/Frameworks/Python.framework/Versions/3.11/lib/python3.11/threading.py\", line 1394, in run\n",
      "    self.function(*self.args, **self.kwargs)\n",
      "  File \"/var/folders/94/hphmcz155530jnw34qpssk100000gn/T/ipykernel_12608/4043924853.py\", line 16, in _run\n",
      "  File \"/var/folders/94/hphmcz155530jnw34qpssk100000gn/T/ipykernel_12608/2098666837.py\", line 25, in filter\n",
      "IndexError: index 1 is out of bounds for axis 0 with size 1\n",
      "Exception in thread Thread-59:\n",
      "Traceback (most recent call last):\n",
      "  File \"/Library/Frameworks/Python.framework/Versions/3.11/lib/python3.11/threading.py\", line 1038, in _bootstrap_inner\n",
      "    self.run()\n",
      "  File \"/Library/Frameworks/Python.framework/Versions/3.11/lib/python3.11/threading.py\", line 1394, in run\n",
      "    self.function(*self.args, **self.kwargs)\n",
      "  File \"/var/folders/94/hphmcz155530jnw34qpssk100000gn/T/ipykernel_12608/4043924853.py\", line 16, in _run\n",
      "  File \"/var/folders/94/hphmcz155530jnw34qpssk100000gn/T/ipykernel_12608/2098666837.py\", line 25, in filter\n",
      "IndexError: index 1 is out of bounds for axis 0 with size 1\n"
     ]
    },
    {
     "name": "stdout",
     "output_type": "stream",
     "text": [
      "\t Test saw obstacle: \n"
     ]
    },
    {
     "name": "stderr",
     "output_type": "stream",
     "text": [
      "Exception in thread Thread-61:\n",
      "Traceback (most recent call last):\n",
      "  File \"/Library/Frameworks/Python.framework/Versions/3.11/lib/python3.11/threading.py\", line 1038, in _bootstrap_inner\n",
      "    self.run()\n",
      "  File \"/Library/Frameworks/Python.framework/Versions/3.11/lib/python3.11/threading.py\", line 1394, in run\n",
      "    self.function(*self.args, **self.kwargs)\n",
      "  File \"/var/folders/94/hphmcz155530jnw34qpssk100000gn/T/ipykernel_12608/4043924853.py\", line 16, in _run\n",
      "  File \"/var/folders/94/hphmcz155530jnw34qpssk100000gn/T/ipykernel_12608/2098666837.py\", line 25, in filter\n",
      "IndexError: index 1 is out of bounds for axis 0 with size 1\n",
      "Exception in thread Thread-63:\n",
      "Traceback (most recent call last):\n",
      "  File \"/Library/Frameworks/Python.framework/Versions/3.11/lib/python3.11/threading.py\", line 1038, in _bootstrap_inner\n",
      "    self.run()\n",
      "  File \"/Library/Frameworks/Python.framework/Versions/3.11/lib/python3.11/threading.py\", line 1394, in run\n",
      "    self.function(*self.args, **self.kwargs)\n",
      "  File \"/var/folders/94/hphmcz155530jnw34qpssk100000gn/T/ipykernel_12608/4043924853.py\", line 16, in _run\n",
      "  File \"/var/folders/94/hphmcz155530jnw34qpssk100000gn/T/ipykernel_12608/2098666837.py\", line 25, in filter\n",
      "IndexError: index 1 is out of bounds for axis 0 with size 1\n"
     ]
    },
    {
     "name": "stdout",
     "output_type": "stream",
     "text": [
      "\t Test saw obstacle: \n"
     ]
    },
    {
     "name": "stderr",
     "output_type": "stream",
     "text": [
      "Exception in thread Thread-65:\n",
      "Traceback (most recent call last):\n",
      "  File \"/Library/Frameworks/Python.framework/Versions/3.11/lib/python3.11/threading.py\", line 1038, in _bootstrap_inner\n",
      "    self.run()\n",
      "  File \"/Library/Frameworks/Python.framework/Versions/3.11/lib/python3.11/threading.py\", line 1394, in run\n",
      "    self.function(*self.args, **self.kwargs)\n",
      "  File \"/var/folders/94/hphmcz155530jnw34qpssk100000gn/T/ipykernel_12608/4043924853.py\", line 16, in _run\n",
      "  File \"/var/folders/94/hphmcz155530jnw34qpssk100000gn/T/ipykernel_12608/2098666837.py\", line 25, in filter\n",
      "IndexError: index 1 is out of bounds for axis 0 with size 1\n",
      "Exception in thread Thread-67:\n",
      "Traceback (most recent call last):\n",
      "  File \"/Library/Frameworks/Python.framework/Versions/3.11/lib/python3.11/threading.py\", line 1038, in _bootstrap_inner\n",
      "    self.run()\n",
      "  File \"/Library/Frameworks/Python.framework/Versions/3.11/lib/python3.11/threading.py\", line 1394, in run\n",
      "    self.function(*self.args, **self.kwargs)\n",
      "  File \"/var/folders/94/hphmcz155530jnw34qpssk100000gn/T/ipykernel_12608/4043924853.py\", line 16, in _run\n",
      "  File \"/var/folders/94/hphmcz155530jnw34qpssk100000gn/T/ipykernel_12608/2098666837.py\", line 25, in filter\n",
      "IndexError: index 1 is out of bounds for axis 0 with size 1\n"
     ]
    },
    {
     "name": "stdout",
     "output_type": "stream",
     "text": [
      "\t Test saw obstacle: \n"
     ]
    },
    {
     "name": "stderr",
     "output_type": "stream",
     "text": [
      "Exception in thread Thread-69:\n",
      "Traceback (most recent call last):\n",
      "  File \"/Library/Frameworks/Python.framework/Versions/3.11/lib/python3.11/threading.py\", line 1038, in _bootstrap_inner\n",
      "    self.run()\n",
      "  File \"/Library/Frameworks/Python.framework/Versions/3.11/lib/python3.11/threading.py\", line 1394, in run\n",
      "    self.function(*self.args, **self.kwargs)\n",
      "  File \"/var/folders/94/hphmcz155530jnw34qpssk100000gn/T/ipykernel_12608/4043924853.py\", line 16, in _run\n",
      "  File \"/var/folders/94/hphmcz155530jnw34qpssk100000gn/T/ipykernel_12608/2098666837.py\", line 25, in filter\n",
      "IndexError: index 1 is out of bounds for axis 0 with size 1\n"
     ]
    },
    {
     "name": "stdout",
     "output_type": "stream",
     "text": [
      "\t Test saw obstacle: \n",
      "0\n"
     ]
    },
    {
     "name": "stderr",
     "output_type": "stream",
     "text": [
      "Exception in thread Thread-74:\n",
      "Traceback (most recent call last):\n",
      "  File \"/Library/Frameworks/Python.framework/Versions/3.11/lib/python3.11/threading.py\", line 1038, in _bootstrap_inner\n",
      "    self.run()\n",
      "  File \"/Library/Frameworks/Python.framework/Versions/3.11/lib/python3.11/threading.py\", line 1394, in run\n",
      "    self.function(*self.args, **self.kwargs)\n",
      "  File \"/var/folders/94/hphmcz155530jnw34qpssk100000gn/T/ipykernel_12608/4043924853.py\", line 16, in _run\n",
      "  File \"/var/folders/94/hphmcz155530jnw34qpssk100000gn/T/ipykernel_12608/2098666837.py\", line 25, in filter\n",
      "IndexError: index 1 is out of bounds for axis 0 with size 1\n",
      "Exception in thread Thread-75:\n",
      "Traceback (most recent call last):\n",
      "  File \"/Library/Frameworks/Python.framework/Versions/3.11/lib/python3.11/threading.py\", line 1038, in _bootstrap_inner\n",
      "    self.run()\n",
      "  File \"/Library/Frameworks/Python.framework/Versions/3.11/lib/python3.11/threading.py\", line 1394, in run\n",
      "    self.function(*self.args, **self.kwargs)\n",
      "  File \"/var/folders/94/hphmcz155530jnw34qpssk100000gn/T/ipykernel_12608/4043924853.py\", line 16, in _run\n",
      "  File \"/var/folders/94/hphmcz155530jnw34qpssk100000gn/T/ipykernel_12608/2098666837.py\", line 25, in filter\n",
      "IndexError: index 1 is out of bounds for axis 0 with size 1\n"
     ]
    },
    {
     "name": "stdout",
     "output_type": "stream",
     "text": [
      "\t Test saw obstacle: \n"
     ]
    },
    {
     "name": "stderr",
     "output_type": "stream",
     "text": [
      "Exception in thread Thread-78:\n",
      "Traceback (most recent call last):\n",
      "  File \"/Library/Frameworks/Python.framework/Versions/3.11/lib/python3.11/threading.py\", line 1038, in _bootstrap_inner\n",
      "    self.run()\n",
      "  File \"/Library/Frameworks/Python.framework/Versions/3.11/lib/python3.11/threading.py\", line 1394, in run\n",
      "    self.function(*self.args, **self.kwargs)\n",
      "  File \"/var/folders/94/hphmcz155530jnw34qpssk100000gn/T/ipykernel_12608/4043924853.py\", line 16, in _run\n",
      "  File \"/var/folders/94/hphmcz155530jnw34qpssk100000gn/T/ipykernel_12608/2098666837.py\", line 25, in filter\n",
      "IndexError: index 1 is out of bounds for axis 0 with size 1\n",
      "Exception in thread Thread-80:\n",
      "Traceback (most recent call last):\n",
      "  File \"/Library/Frameworks/Python.framework/Versions/3.11/lib/python3.11/threading.py\", line 1038, in _bootstrap_inner\n",
      "    self.run()\n",
      "  File \"/Library/Frameworks/Python.framework/Versions/3.11/lib/python3.11/threading.py\", line 1394, in run\n",
      "    self.function(*self.args, **self.kwargs)\n",
      "  File \"/var/folders/94/hphmcz155530jnw34qpssk100000gn/T/ipykernel_12608/4043924853.py\", line 16, in _run\n",
      "  File \"/var/folders/94/hphmcz155530jnw34qpssk100000gn/T/ipykernel_12608/2098666837.py\", line 25, in filter\n",
      "IndexError: index 1 is out of bounds for axis 0 with size 1\n"
     ]
    },
    {
     "name": "stdout",
     "output_type": "stream",
     "text": [
      "\t Test saw obstacle: \n"
     ]
    },
    {
     "name": "stderr",
     "output_type": "stream",
     "text": [
      "Exception in thread Thread-81:\n",
      "Traceback (most recent call last):\n",
      "  File \"/Library/Frameworks/Python.framework/Versions/3.11/lib/python3.11/threading.py\", line 1038, in _bootstrap_inner\n",
      "    self.run()\n",
      "  File \"/Library/Frameworks/Python.framework/Versions/3.11/lib/python3.11/threading.py\", line 1394, in run\n",
      "    self.function(*self.args, **self.kwargs)\n",
      "  File \"/var/folders/94/hphmcz155530jnw34qpssk100000gn/T/ipykernel_12608/4043924853.py\", line 16, in _run\n",
      "  File \"/var/folders/94/hphmcz155530jnw34qpssk100000gn/T/ipykernel_12608/2098666837.py\", line 25, in filter\n",
      "IndexError: index 1 is out of bounds for axis 0 with size 1\n",
      "Exception in thread Thread-83:\n",
      "Traceback (most recent call last):\n",
      "  File \"/Library/Frameworks/Python.framework/Versions/3.11/lib/python3.11/threading.py\", line 1038, in _bootstrap_inner\n",
      "    self.run()\n",
      "  File \"/Library/Frameworks/Python.framework/Versions/3.11/lib/python3.11/threading.py\", line 1394, in run\n",
      "    self.function(*self.args, **self.kwargs)\n",
      "  File \"/var/folders/94/hphmcz155530jnw34qpssk100000gn/T/ipykernel_12608/4043924853.py\", line 16, in _run\n",
      "  File \"/var/folders/94/hphmcz155530jnw34qpssk100000gn/T/ipykernel_12608/2098666837.py\", line 25, in filter\n",
      "IndexError: index 1 is out of bounds for axis 0 with size 1\n"
     ]
    },
    {
     "name": "stdout",
     "output_type": "stream",
     "text": [
      "\t Test saw obstacle: \n"
     ]
    },
    {
     "name": "stderr",
     "output_type": "stream",
     "text": [
      "Exception in thread Thread-87:\n",
      "Traceback (most recent call last):\n",
      "  File \"/Library/Frameworks/Python.framework/Versions/3.11/lib/python3.11/threading.py\", line 1038, in _bootstrap_inner\n",
      "    self.run()\n",
      "  File \"/Library/Frameworks/Python.framework/Versions/3.11/lib/python3.11/threading.py\", line 1394, in run\n",
      "    self.function(*self.args, **self.kwargs)\n",
      "  File \"/var/folders/94/hphmcz155530jnw34qpssk100000gn/T/ipykernel_12608/4043924853.py\", line 16, in _run\n",
      "  File \"/var/folders/94/hphmcz155530jnw34qpssk100000gn/T/ipykernel_12608/2098666837.py\", line 25, in filter\n",
      "IndexError: index 1 is out of bounds for axis 0 with size 1\n"
     ]
    },
    {
     "name": "stdout",
     "output_type": "stream",
     "text": [
      "\t Test saw obstacle: \n",
      "0\n"
     ]
    },
    {
     "name": "stderr",
     "output_type": "stream",
     "text": [
      "Exception in thread Thread-89:\n",
      "Traceback (most recent call last):\n",
      "  File \"/Library/Frameworks/Python.framework/Versions/3.11/lib/python3.11/threading.py\", line 1038, in _bootstrap_inner\n",
      "    self.run()\n",
      "  File \"/Library/Frameworks/Python.framework/Versions/3.11/lib/python3.11/threading.py\", line 1394, in run\n",
      "    self.function(*self.args, **self.kwargs)\n",
      "  File \"/var/folders/94/hphmcz155530jnw34qpssk100000gn/T/ipykernel_12608/4043924853.py\", line 16, in _run\n",
      "  File \"/var/folders/94/hphmcz155530jnw34qpssk100000gn/T/ipykernel_12608/2098666837.py\", line 25, in filter\n",
      "IndexError: index 1 is out of bounds for axis 0 with size 1\n",
      "Exception in thread Thread-92:\n",
      "Traceback (most recent call last):\n",
      "  File \"/Library/Frameworks/Python.framework/Versions/3.11/lib/python3.11/threading.py\", line 1038, in _bootstrap_inner\n",
      "    self.run()\n",
      "  File \"/Library/Frameworks/Python.framework/Versions/3.11/lib/python3.11/threading.py\", line 1394, in run\n",
      "    self.function(*self.args, **self.kwargs)\n",
      "  File \"/var/folders/94/hphmcz155530jnw34qpssk100000gn/T/ipykernel_12608/4043924853.py\", line 16, in _run\n",
      "  File \"/var/folders/94/hphmcz155530jnw34qpssk100000gn/T/ipykernel_12608/2098666837.py\", line 25, in filter\n",
      "IndexError: index 1 is out of bounds for axis 0 with size 1\n"
     ]
    },
    {
     "name": "stdout",
     "output_type": "stream",
     "text": [
      "\t Test saw obstacle: \n"
     ]
    },
    {
     "name": "stderr",
     "output_type": "stream",
     "text": [
      "Exception in thread Thread-94:\n",
      "Traceback (most recent call last):\n",
      "  File \"/Library/Frameworks/Python.framework/Versions/3.11/lib/python3.11/threading.py\", line 1038, in _bootstrap_inner\n",
      "    self.run()\n",
      "  File \"/Library/Frameworks/Python.framework/Versions/3.11/lib/python3.11/threading.py\", line 1394, in run\n",
      "    self.function(*self.args, **self.kwargs)\n",
      "  File \"/var/folders/94/hphmcz155530jnw34qpssk100000gn/T/ipykernel_12608/4043924853.py\", line 16, in _run\n",
      "  File \"/var/folders/94/hphmcz155530jnw34qpssk100000gn/T/ipykernel_12608/2098666837.py\", line 25, in filter\n",
      "IndexError: index 1 is out of bounds for axis 0 with size 1\n",
      "Exception in thread Thread-96:\n",
      "Traceback (most recent call last):\n",
      "  File \"/Library/Frameworks/Python.framework/Versions/3.11/lib/python3.11/threading.py\", line 1038, in _bootstrap_inner\n",
      "    self.run()\n",
      "  File \"/Library/Frameworks/Python.framework/Versions/3.11/lib/python3.11/threading.py\", line 1394, in run\n",
      "    self.function(*self.args, **self.kwargs)\n",
      "  File \"/var/folders/94/hphmcz155530jnw34qpssk100000gn/T/ipykernel_12608/4043924853.py\", line 16, in _run\n",
      "  File \"/var/folders/94/hphmcz155530jnw34qpssk100000gn/T/ipykernel_12608/2098666837.py\", line 25, in filter\n",
      "IndexError: index 1 is out of bounds for axis 0 with size 1\n"
     ]
    },
    {
     "name": "stdout",
     "output_type": "stream",
     "text": [
      "\t Test saw obstacle: \n"
     ]
    },
    {
     "name": "stderr",
     "output_type": "stream",
     "text": [
      "Exception in thread Thread-100:\n",
      "Traceback (most recent call last):\n",
      "  File \"/Library/Frameworks/Python.framework/Versions/3.11/lib/python3.11/threading.py\", line 1038, in _bootstrap_inner\n",
      "    self.run()\n",
      "  File \"/Library/Frameworks/Python.framework/Versions/3.11/lib/python3.11/threading.py\", line 1394, in run\n",
      "    self.function(*self.args, **self.kwargs)\n",
      "  File \"/var/folders/94/hphmcz155530jnw34qpssk100000gn/T/ipykernel_12608/4043924853.py\", line 16, in _run\n",
      "  File \"/var/folders/94/hphmcz155530jnw34qpssk100000gn/T/ipykernel_12608/2098666837.py\", line 25, in filter\n",
      "IndexError: index 1 is out of bounds for axis 0 with size 1\n"
     ]
    },
    {
     "name": "stdout",
     "output_type": "stream",
     "text": [
      "\t Test saw obstacle: \n",
      "0\n"
     ]
    },
    {
     "name": "stderr",
     "output_type": "stream",
     "text": [
      "Exception in thread Thread-104:\n",
      "Traceback (most recent call last):\n",
      "  File \"/Library/Frameworks/Python.framework/Versions/3.11/lib/python3.11/threading.py\", line 1038, in _bootstrap_inner\n",
      "    self.run()\n",
      "  File \"/Library/Frameworks/Python.framework/Versions/3.11/lib/python3.11/threading.py\", line 1394, in run\n",
      "    self.function(*self.args, **self.kwargs)\n",
      "  File \"/var/folders/94/hphmcz155530jnw34qpssk100000gn/T/ipykernel_12608/4043924853.py\", line 16, in _run\n",
      "  File \"/var/folders/94/hphmcz155530jnw34qpssk100000gn/T/ipykernel_12608/2098666837.py\", line 25, in filter\n",
      "IndexError: index 1 is out of bounds for axis 0 with size 1\n"
     ]
    },
    {
     "name": "stdout",
     "output_type": "stream",
     "text": [
      "\t Test saw obstacle: \n",
      "0\n"
     ]
    },
    {
     "name": "stderr",
     "output_type": "stream",
     "text": [
      "Exception in thread Thread-106:\n",
      "Traceback (most recent call last):\n",
      "  File \"/Library/Frameworks/Python.framework/Versions/3.11/lib/python3.11/threading.py\", line 1038, in _bootstrap_inner\n",
      "    self.run()\n",
      "  File \"/Library/Frameworks/Python.framework/Versions/3.11/lib/python3.11/threading.py\", line 1394, in run\n",
      "    self.function(*self.args, **self.kwargs)\n",
      "  File \"/var/folders/94/hphmcz155530jnw34qpssk100000gn/T/ipykernel_12608/4043924853.py\", line 16, in _run\n",
      "  File \"/var/folders/94/hphmcz155530jnw34qpssk100000gn/T/ipykernel_12608/2098666837.py\", line 25, in filter\n",
      "IndexError: index 1 is out of bounds for axis 0 with size 1\n",
      "Exception in thread Thread-108:\n",
      "Traceback (most recent call last):\n",
      "  File \"/Library/Frameworks/Python.framework/Versions/3.11/lib/python3.11/threading.py\", line 1038, in _bootstrap_inner\n",
      "    self.run()\n",
      "  File \"/Library/Frameworks/Python.framework/Versions/3.11/lib/python3.11/threading.py\", line 1394, in run\n",
      "    self.function(*self.args, **self.kwargs)\n",
      "  File \"/var/folders/94/hphmcz155530jnw34qpssk100000gn/T/ipykernel_12608/4043924853.py\", line 16, in _run\n",
      "  File \"/var/folders/94/hphmcz155530jnw34qpssk100000gn/T/ipykernel_12608/2098666837.py\", line 25, in filter\n",
      "IndexError: index 1 is out of bounds for axis 0 with size 1\n"
     ]
    },
    {
     "name": "stdout",
     "output_type": "stream",
     "text": [
      "\t Test saw obstacle: \n"
     ]
    },
    {
     "name": "stderr",
     "output_type": "stream",
     "text": [
      "Exception in thread Thread-110:\n",
      "Traceback (most recent call last):\n",
      "  File \"/Library/Frameworks/Python.framework/Versions/3.11/lib/python3.11/threading.py\", line 1038, in _bootstrap_inner\n",
      "    self.run()\n",
      "  File \"/Library/Frameworks/Python.framework/Versions/3.11/lib/python3.11/threading.py\", line 1394, in run\n",
      "    self.function(*self.args, **self.kwargs)\n",
      "  File \"/var/folders/94/hphmcz155530jnw34qpssk100000gn/T/ipykernel_12608/4043924853.py\", line 16, in _run\n",
      "  File \"/var/folders/94/hphmcz155530jnw34qpssk100000gn/T/ipykernel_12608/2098666837.py\", line 25, in filter\n",
      "IndexError: index 1 is out of bounds for axis 0 with size 1\n",
      "Exception in thread Thread-112:\n",
      "Traceback (most recent call last):\n",
      "  File \"/Library/Frameworks/Python.framework/Versions/3.11/lib/python3.11/threading.py\", line 1038, in _bootstrap_inner\n",
      "    self.run()\n",
      "  File \"/Library/Frameworks/Python.framework/Versions/3.11/lib/python3.11/threading.py\", line 1394, in run\n",
      "    self.function(*self.args, **self.kwargs)\n",
      "  File \"/var/folders/94/hphmcz155530jnw34qpssk100000gn/T/ipykernel_12608/4043924853.py\", line 16, in _run\n",
      "  File \"/var/folders/94/hphmcz155530jnw34qpssk100000gn/T/ipykernel_12608/2098666837.py\", line 25, in filter\n",
      "IndexError: index 1 is out of bounds for axis 0 with size 1\n"
     ]
    },
    {
     "name": "stdout",
     "output_type": "stream",
     "text": [
      "\t Test saw obstacle: \n"
     ]
    },
    {
     "name": "stderr",
     "output_type": "stream",
     "text": [
      "Exception in thread Thread-116:\n",
      "Traceback (most recent call last):\n",
      "  File \"/Library/Frameworks/Python.framework/Versions/3.11/lib/python3.11/threading.py\", line 1038, in _bootstrap_inner\n",
      "    self.run()\n",
      "  File \"/Library/Frameworks/Python.framework/Versions/3.11/lib/python3.11/threading.py\", line 1394, in run\n",
      "    self.function(*self.args, **self.kwargs)\n",
      "  File \"/var/folders/94/hphmcz155530jnw34qpssk100000gn/T/ipykernel_12608/4043924853.py\", line 16, in _run\n",
      "  File \"/var/folders/94/hphmcz155530jnw34qpssk100000gn/T/ipykernel_12608/2098666837.py\", line 25, in filter\n",
      "IndexError: index 1 is out of bounds for axis 0 with size 1\n"
     ]
    },
    {
     "name": "stdout",
     "output_type": "stream",
     "text": [
      "\t Test saw obstacle: \n",
      "0\n"
     ]
    },
    {
     "name": "stderr",
     "output_type": "stream",
     "text": [
      "Exception in thread Thread-118:\n",
      "Traceback (most recent call last):\n",
      "  File \"/Library/Frameworks/Python.framework/Versions/3.11/lib/python3.11/threading.py\", line 1038, in _bootstrap_inner\n",
      "    self.run()\n",
      "  File \"/Library/Frameworks/Python.framework/Versions/3.11/lib/python3.11/threading.py\", line 1394, in run\n",
      "    self.function(*self.args, **self.kwargs)\n",
      "  File \"/var/folders/94/hphmcz155530jnw34qpssk100000gn/T/ipykernel_12608/4043924853.py\", line 16, in _run\n",
      "  File \"/var/folders/94/hphmcz155530jnw34qpssk100000gn/T/ipykernel_12608/2098666837.py\", line 25, in filter\n",
      "IndexError: index 1 is out of bounds for axis 0 with size 1\n",
      "Exception in thread Thread-120:\n",
      "Traceback (most recent call last):\n",
      "  File \"/Library/Frameworks/Python.framework/Versions/3.11/lib/python3.11/threading.py\", line 1038, in _bootstrap_inner\n",
      "    self.run()\n",
      "  File \"/Library/Frameworks/Python.framework/Versions/3.11/lib/python3.11/threading.py\", line 1394, in run\n",
      "    self.function(*self.args, **self.kwargs)\n",
      "  File \"/var/folders/94/hphmcz155530jnw34qpssk100000gn/T/ipykernel_12608/4043924853.py\", line 16, in _run\n",
      "  File \"/var/folders/94/hphmcz155530jnw34qpssk100000gn/T/ipykernel_12608/2098666837.py\", line 25, in filter\n",
      "IndexError: index 1 is out of bounds for axis 0 with size 1\n"
     ]
    },
    {
     "name": "stdout",
     "output_type": "stream",
     "text": [
      "\t Test saw obstacle: \n"
     ]
    },
    {
     "name": "stderr",
     "output_type": "stream",
     "text": [
      "Exception in thread Thread-122:\n",
      "Traceback (most recent call last):\n",
      "  File \"/Library/Frameworks/Python.framework/Versions/3.11/lib/python3.11/threading.py\", line 1038, in _bootstrap_inner\n",
      "    self.run()\n",
      "  File \"/Library/Frameworks/Python.framework/Versions/3.11/lib/python3.11/threading.py\", line 1394, in run\n",
      "    self.function(*self.args, **self.kwargs)\n",
      "  File \"/var/folders/94/hphmcz155530jnw34qpssk100000gn/T/ipykernel_12608/4043924853.py\", line 16, in _run\n",
      "  File \"/var/folders/94/hphmcz155530jnw34qpssk100000gn/T/ipykernel_12608/2098666837.py\", line 25, in filter\n",
      "IndexError: index 1 is out of bounds for axis 0 with size 1\n",
      "Exception in thread Thread-124:\n",
      "Traceback (most recent call last):\n",
      "  File \"/Library/Frameworks/Python.framework/Versions/3.11/lib/python3.11/threading.py\", line 1038, in _bootstrap_inner\n",
      "    self.run()\n",
      "  File \"/Library/Frameworks/Python.framework/Versions/3.11/lib/python3.11/threading.py\", line 1394, in run\n",
      "    self.function(*self.args, **self.kwargs)\n",
      "  File \"/var/folders/94/hphmcz155530jnw34qpssk100000gn/T/ipykernel_12608/4043924853.py\", line 16, in _run\n",
      "  File \"/var/folders/94/hphmcz155530jnw34qpssk100000gn/T/ipykernel_12608/2098666837.py\", line 25, in filter\n",
      "IndexError: index 1 is out of bounds for axis 0 with size 1\n"
     ]
    },
    {
     "name": "stdout",
     "output_type": "stream",
     "text": [
      "\t Test saw obstacle: \n"
     ]
    },
    {
     "name": "stderr",
     "output_type": "stream",
     "text": [
      "Exception in thread Thread-128:\n",
      "Traceback (most recent call last):\n",
      "  File \"/Library/Frameworks/Python.framework/Versions/3.11/lib/python3.11/threading.py\", line 1038, in _bootstrap_inner\n",
      "    self.run()\n",
      "  File \"/Library/Frameworks/Python.framework/Versions/3.11/lib/python3.11/threading.py\", line 1394, in run\n",
      "    self.function(*self.args, **self.kwargs)\n",
      "  File \"/var/folders/94/hphmcz155530jnw34qpssk100000gn/T/ipykernel_12608/4043924853.py\", line 16, in _run\n",
      "  File \"/var/folders/94/hphmcz155530jnw34qpssk100000gn/T/ipykernel_12608/2098666837.py\", line 25, in filter\n",
      "IndexError: index 1 is out of bounds for axis 0 with size 1\n"
     ]
    },
    {
     "name": "stdout",
     "output_type": "stream",
     "text": [
      "\t Test saw obstacle: \n",
      "0\n"
     ]
    },
    {
     "name": "stderr",
     "output_type": "stream",
     "text": [
      "Exception in thread Thread-130:\n",
      "Traceback (most recent call last):\n",
      "  File \"/Library/Frameworks/Python.framework/Versions/3.11/lib/python3.11/threading.py\", line 1038, in _bootstrap_inner\n",
      "    self.run()\n",
      "  File \"/Library/Frameworks/Python.framework/Versions/3.11/lib/python3.11/threading.py\", line 1394, in run\n",
      "    self.function(*self.args, **self.kwargs)\n",
      "  File \"/var/folders/94/hphmcz155530jnw34qpssk100000gn/T/ipykernel_12608/4043924853.py\", line 16, in _run\n",
      "  File \"/var/folders/94/hphmcz155530jnw34qpssk100000gn/T/ipykernel_12608/2098666837.py\", line 25, in filter\n",
      "IndexError: index 1 is out of bounds for axis 0 with size 1\n",
      "Exception in thread Thread-132:\n",
      "Traceback (most recent call last):\n",
      "  File \"/Library/Frameworks/Python.framework/Versions/3.11/lib/python3.11/threading.py\", line 1038, in _bootstrap_inner\n",
      "    self.run()\n",
      "  File \"/Library/Frameworks/Python.framework/Versions/3.11/lib/python3.11/threading.py\", line 1394, in run\n",
      "    self.function(*self.args, **self.kwargs)\n",
      "  File \"/var/folders/94/hphmcz155530jnw34qpssk100000gn/T/ipykernel_12608/4043924853.py\", line 16, in _run\n",
      "  File \"/var/folders/94/hphmcz155530jnw34qpssk100000gn/T/ipykernel_12608/2098666837.py\", line 25, in filter\n",
      "IndexError: index 1 is out of bounds for axis 0 with size 1\n"
     ]
    },
    {
     "name": "stdout",
     "output_type": "stream",
     "text": [
      "\t Test saw obstacle: \n"
     ]
    },
    {
     "name": "stderr",
     "output_type": "stream",
     "text": [
      "Exception in thread Thread-134:\n",
      "Traceback (most recent call last):\n",
      "  File \"/Library/Frameworks/Python.framework/Versions/3.11/lib/python3.11/threading.py\", line 1038, in _bootstrap_inner\n",
      "    self.run()\n",
      "  File \"/Library/Frameworks/Python.framework/Versions/3.11/lib/python3.11/threading.py\", line 1394, in run\n",
      "    self.function(*self.args, **self.kwargs)\n",
      "  File \"/var/folders/94/hphmcz155530jnw34qpssk100000gn/T/ipykernel_12608/4043924853.py\", line 16, in _run\n",
      "  File \"/var/folders/94/hphmcz155530jnw34qpssk100000gn/T/ipykernel_12608/2098666837.py\", line 25, in filter\n",
      "IndexError: index 1 is out of bounds for axis 0 with size 1\n",
      "Exception in thread Thread-136:\n",
      "Traceback (most recent call last):\n",
      "  File \"/Library/Frameworks/Python.framework/Versions/3.11/lib/python3.11/threading.py\", line 1038, in _bootstrap_inner\n",
      "    self.run()\n",
      "  File \"/Library/Frameworks/Python.framework/Versions/3.11/lib/python3.11/threading.py\", line 1394, in run\n",
      "    self.function(*self.args, **self.kwargs)\n",
      "  File \"/var/folders/94/hphmcz155530jnw34qpssk100000gn/T/ipykernel_12608/4043924853.py\", line 16, in _run\n",
      "  File \"/var/folders/94/hphmcz155530jnw34qpssk100000gn/T/ipykernel_12608/2098666837.py\", line 25, in filter\n",
      "IndexError: index 1 is out of bounds for axis 0 with size 1\n"
     ]
    },
    {
     "name": "stdout",
     "output_type": "stream",
     "text": [
      "\t Test saw obstacle: \n"
     ]
    },
    {
     "name": "stderr",
     "output_type": "stream",
     "text": [
      "Exception in thread Thread-140:\n",
      "Traceback (most recent call last):\n",
      "  File \"/Library/Frameworks/Python.framework/Versions/3.11/lib/python3.11/threading.py\", line 1038, in _bootstrap_inner\n",
      "    self.run()\n",
      "  File \"/Library/Frameworks/Python.framework/Versions/3.11/lib/python3.11/threading.py\", line 1394, in run\n",
      "    self.function(*self.args, **self.kwargs)\n",
      "  File \"/var/folders/94/hphmcz155530jnw34qpssk100000gn/T/ipykernel_12608/4043924853.py\", line 16, in _run\n",
      "  File \"/var/folders/94/hphmcz155530jnw34qpssk100000gn/T/ipykernel_12608/2098666837.py\", line 25, in filter\n",
      "IndexError: index 1 is out of bounds for axis 0 with size 1\n"
     ]
    },
    {
     "name": "stdout",
     "output_type": "stream",
     "text": [
      "\t Test saw obstacle: \n",
      "0\n"
     ]
    },
    {
     "name": "stderr",
     "output_type": "stream",
     "text": [
      "Exception in thread Thread-142:\n",
      "Traceback (most recent call last):\n",
      "  File \"/Library/Frameworks/Python.framework/Versions/3.11/lib/python3.11/threading.py\", line 1038, in _bootstrap_inner\n",
      "    self.run()\n",
      "  File \"/Library/Frameworks/Python.framework/Versions/3.11/lib/python3.11/threading.py\", line 1394, in run\n",
      "    self.function(*self.args, **self.kwargs)\n",
      "  File \"/var/folders/94/hphmcz155530jnw34qpssk100000gn/T/ipykernel_12608/4043924853.py\", line 16, in _run\n",
      "  File \"/var/folders/94/hphmcz155530jnw34qpssk100000gn/T/ipykernel_12608/2098666837.py\", line 25, in filter\n",
      "IndexError: index 1 is out of bounds for axis 0 with size 1\n",
      "Exception in thread Thread-144:\n",
      "Traceback (most recent call last):\n",
      "  File \"/Library/Frameworks/Python.framework/Versions/3.11/lib/python3.11/threading.py\", line 1038, in _bootstrap_inner\n",
      "    self.run()\n",
      "  File \"/Library/Frameworks/Python.framework/Versions/3.11/lib/python3.11/threading.py\", line 1394, in run\n",
      "    self.function(*self.args, **self.kwargs)\n",
      "  File \"/var/folders/94/hphmcz155530jnw34qpssk100000gn/T/ipykernel_12608/4043924853.py\", line 16, in _run\n",
      "  File \"/var/folders/94/hphmcz155530jnw34qpssk100000gn/T/ipykernel_12608/2098666837.py\", line 25, in filter\n",
      "IndexError: index 1 is out of bounds for axis 0 with size 1\n"
     ]
    },
    {
     "name": "stdout",
     "output_type": "stream",
     "text": [
      "\t Test saw obstacle: \n"
     ]
    },
    {
     "name": "stderr",
     "output_type": "stream",
     "text": [
      "Exception in thread Thread-146:\n",
      "Traceback (most recent call last):\n",
      "  File \"/Library/Frameworks/Python.framework/Versions/3.11/lib/python3.11/threading.py\", line 1038, in _bootstrap_inner\n",
      "    self.run()\n",
      "  File \"/Library/Frameworks/Python.framework/Versions/3.11/lib/python3.11/threading.py\", line 1394, in run\n",
      "    self.function(*self.args, **self.kwargs)\n",
      "  File \"/var/folders/94/hphmcz155530jnw34qpssk100000gn/T/ipykernel_12608/4043924853.py\", line 16, in _run\n",
      "  File \"/var/folders/94/hphmcz155530jnw34qpssk100000gn/T/ipykernel_12608/2098666837.py\", line 25, in filter\n",
      "IndexError: index 1 is out of bounds for axis 0 with size 1\n",
      "Exception in thread Thread-148:\n",
      "Traceback (most recent call last):\n",
      "  File \"/Library/Frameworks/Python.framework/Versions/3.11/lib/python3.11/threading.py\", line 1038, in _bootstrap_inner\n",
      "    self.run()\n",
      "  File \"/Library/Frameworks/Python.framework/Versions/3.11/lib/python3.11/threading.py\", line 1394, in run\n",
      "    self.function(*self.args, **self.kwargs)\n",
      "  File \"/var/folders/94/hphmcz155530jnw34qpssk100000gn/T/ipykernel_12608/4043924853.py\", line 16, in _run\n",
      "  File \"/var/folders/94/hphmcz155530jnw34qpssk100000gn/T/ipykernel_12608/2098666837.py\", line 29, in filter\n",
      "NameError: name 'poly_calculation' is not defined\n"
     ]
    },
    {
     "name": "stdout",
     "output_type": "stream",
     "text": [
      "\t Test saw obstacle: \n",
      "---------------------\n"
     ]
    },
    {
     "name": "stderr",
     "output_type": "stream",
     "text": [
      "Exception in thread Thread-150:\n",
      "Traceback (most recent call last):\n",
      "  File \"/Library/Frameworks/Python.framework/Versions/3.11/lib/python3.11/threading.py\", line 1038, in _bootstrap_inner\n",
      "    self.run()\n",
      "  File \"/Library/Frameworks/Python.framework/Versions/3.11/lib/python3.11/threading.py\", line 1394, in run\n",
      "    self.function(*self.args, **self.kwargs)\n",
      "  File \"/var/folders/94/hphmcz155530jnw34qpssk100000gn/T/ipykernel_12608/4043924853.py\", line 16, in _run\n",
      "  File \"/var/folders/94/hphmcz155530jnw34qpssk100000gn/T/ipykernel_12608/2098666837.py\", line 29, in filter\n",
      "NameError: name 'poly_calculation' is not defined\n"
     ]
    },
    {
     "name": "stdout",
     "output_type": "stream",
     "text": [
      "\t Test saw obstacle: \n",
      "---------------------\n",
      "0\n"
     ]
    },
    {
     "name": "stderr",
     "output_type": "stream",
     "text": [
      "Exception in thread Thread-154:\n",
      "Traceback (most recent call last):\n",
      "  File \"/Library/Frameworks/Python.framework/Versions/3.11/lib/python3.11/threading.py\", line 1038, in _bootstrap_inner\n",
      "    self.run()\n",
      "  File \"/Library/Frameworks/Python.framework/Versions/3.11/lib/python3.11/threading.py\", line 1394, in run\n",
      "    self.function(*self.args, **self.kwargs)\n",
      "  File \"/var/folders/94/hphmcz155530jnw34qpssk100000gn/T/ipykernel_12608/4043924853.py\", line 16, in _run\n",
      "  File \"/var/folders/94/hphmcz155530jnw34qpssk100000gn/T/ipykernel_12608/2098666837.py\", line 29, in filter\n",
      "NameError: name 'poly_calculation' is not defined\n",
      "Exception in thread Thread-156:\n",
      "Traceback (most recent call last):\n",
      "  File \"/Library/Frameworks/Python.framework/Versions/3.11/lib/python3.11/threading.py\", line 1038, in _bootstrap_inner\n",
      "    self.run()\n",
      "  File \"/Library/Frameworks/Python.framework/Versions/3.11/lib/python3.11/threading.py\", line 1394, in run\n",
      "    self.function(*self.args, **self.kwargs)\n",
      "  File \"/var/folders/94/hphmcz155530jnw34qpssk100000gn/T/ipykernel_12608/4043924853.py\", line 16, in _run\n",
      "  File \"/var/folders/94/hphmcz155530jnw34qpssk100000gn/T/ipykernel_12608/2098666837.py\", line 29, in filter\n",
      "NameError: name 'poly_calculation' is not defined\n"
     ]
    },
    {
     "name": "stdout",
     "output_type": "stream",
     "text": [
      "\t Test saw obstacle: \n",
      "---------------------\n",
      "---------------------\n"
     ]
    },
    {
     "name": "stderr",
     "output_type": "stream",
     "text": [
      "Exception in thread Thread-158:\n",
      "Traceback (most recent call last):\n",
      "  File \"/Library/Frameworks/Python.framework/Versions/3.11/lib/python3.11/threading.py\", line 1038, in _bootstrap_inner\n",
      "    self.run()\n",
      "  File \"/Library/Frameworks/Python.framework/Versions/3.11/lib/python3.11/threading.py\", line 1394, in run\n",
      "    self.function(*self.args, **self.kwargs)\n",
      "  File \"/var/folders/94/hphmcz155530jnw34qpssk100000gn/T/ipykernel_12608/4043924853.py\", line 16, in _run\n",
      "  File \"/var/folders/94/hphmcz155530jnw34qpssk100000gn/T/ipykernel_12608/2098666837.py\", line 29, in filter\n",
      "NameError: name 'poly_calculation' is not defined\n"
     ]
    },
    {
     "name": "stdout",
     "output_type": "stream",
     "text": [
      "\t Test saw obstacle: \n",
      "---------------------\n",
      "0\n"
     ]
    },
    {
     "name": "stderr",
     "output_type": "stream",
     "text": [
      "Exception in thread Thread-162:\n",
      "Traceback (most recent call last):\n",
      "  File \"/Library/Frameworks/Python.framework/Versions/3.11/lib/python3.11/threading.py\", line 1038, in _bootstrap_inner\n",
      "    self.run()\n",
      "  File \"/Library/Frameworks/Python.framework/Versions/3.11/lib/python3.11/threading.py\", line 1394, in run\n",
      "    self.function(*self.args, **self.kwargs)\n",
      "  File \"/var/folders/94/hphmcz155530jnw34qpssk100000gn/T/ipykernel_12608/4043924853.py\", line 16, in _run\n",
      "  File \"/var/folders/94/hphmcz155530jnw34qpssk100000gn/T/ipykernel_12608/2098666837.py\", line 29, in filter\n",
      "NameError: name 'poly_calculation' is not defined\n",
      "Exception in thread Thread-164:\n",
      "Traceback (most recent call last):\n",
      "  File \"/Library/Frameworks/Python.framework/Versions/3.11/lib/python3.11/threading.py\", line 1038, in _bootstrap_inner\n",
      "    self.run()\n",
      "  File \"/Library/Frameworks/Python.framework/Versions/3.11/lib/python3.11/threading.py\", line 1394, in run\n",
      "    self.function(*self.args, **self.kwargs)\n",
      "  File \"/var/folders/94/hphmcz155530jnw34qpssk100000gn/T/ipykernel_12608/4043924853.py\", line 16, in _run\n",
      "  File \"/var/folders/94/hphmcz155530jnw34qpssk100000gn/T/ipykernel_12608/2098666837.py\", line 29, in filter\n",
      "NameError: name 'poly_calculation' is not defined\n"
     ]
    },
    {
     "name": "stdout",
     "output_type": "stream",
     "text": [
      "\t Test saw obstacle: \n",
      "---------------------\n",
      "---------------------\n",
      "\t Test saw obstacle: \n",
      "0\n"
     ]
    },
    {
     "name": "stderr",
     "output_type": "stream",
     "text": [
      "Exception in thread Thread-168:\n",
      "Traceback (most recent call last):\n",
      "  File \"/Library/Frameworks/Python.framework/Versions/3.11/lib/python3.11/threading.py\", line 1038, in _bootstrap_inner\n",
      "    self.run()\n",
      "  File \"/Library/Frameworks/Python.framework/Versions/3.11/lib/python3.11/threading.py\", line 1394, in run\n",
      "    self.function(*self.args, **self.kwargs)\n",
      "  File \"/var/folders/94/hphmcz155530jnw34qpssk100000gn/T/ipykernel_12608/4043924853.py\", line 16, in _run\n",
      "  File \"/var/folders/94/hphmcz155530jnw34qpssk100000gn/T/ipykernel_12608/2098666837.py\", line 29, in filter\n",
      "NameError: name 'poly_calculation' is not defined\n",
      "Exception in thread Thread-170:\n",
      "Traceback (most recent call last):\n",
      "  File \"/Library/Frameworks/Python.framework/Versions/3.11/lib/python3.11/threading.py\", line 1038, in _bootstrap_inner\n",
      "    self.run()\n",
      "  File \"/Library/Frameworks/Python.framework/Versions/3.11/lib/python3.11/threading.py\", line 1394, in run\n",
      "    self.function(*self.args, **self.kwargs)\n",
      "  File \"/var/folders/94/hphmcz155530jnw34qpssk100000gn/T/ipykernel_12608/4043924853.py\", line 16, in _run\n",
      "  File \"/var/folders/94/hphmcz155530jnw34qpssk100000gn/T/ipykernel_12608/2098666837.py\", line 29, in filter\n",
      "NameError: name 'poly_calculation' is not defined\n"
     ]
    },
    {
     "name": "stdout",
     "output_type": "stream",
     "text": [
      "---------------------\n",
      "\t Test saw obstacle: \n",
      "---------------------\n"
     ]
    },
    {
     "name": "stderr",
     "output_type": "stream",
     "text": [
      "Exception in thread Thread-172:\n",
      "Traceback (most recent call last):\n",
      "  File \"/Library/Frameworks/Python.framework/Versions/3.11/lib/python3.11/threading.py\", line 1038, in _bootstrap_inner\n",
      "    self.run()\n",
      "  File \"/Library/Frameworks/Python.framework/Versions/3.11/lib/python3.11/threading.py\", line 1394, in run\n",
      "    self.function(*self.args, **self.kwargs)\n",
      "  File \"/var/folders/94/hphmcz155530jnw34qpssk100000gn/T/ipykernel_12608/4043924853.py\", line 16, in _run\n",
      "  File \"/var/folders/94/hphmcz155530jnw34qpssk100000gn/T/ipykernel_12608/2098666837.py\", line 29, in filter\n",
      "NameError: name 'poly_calculation' is not defined\n"
     ]
    },
    {
     "name": "stdout",
     "output_type": "stream",
     "text": [
      "\t Test saw obstacle: \n",
      "---------------------\n",
      "0\n"
     ]
    },
    {
     "name": "stderr",
     "output_type": "stream",
     "text": [
      "Exception in thread Thread-176:\n",
      "Traceback (most recent call last):\n",
      "  File \"/Library/Frameworks/Python.framework/Versions/3.11/lib/python3.11/threading.py\", line 1038, in _bootstrap_inner\n",
      "    self.run()\n",
      "  File \"/Library/Frameworks/Python.framework/Versions/3.11/lib/python3.11/threading.py\", line 1394, in run\n",
      "    self.function(*self.args, **self.kwargs)\n",
      "  File \"/var/folders/94/hphmcz155530jnw34qpssk100000gn/T/ipykernel_12608/4043924853.py\", line 16, in _run\n",
      "  File \"/var/folders/94/hphmcz155530jnw34qpssk100000gn/T/ipykernel_12608/2098666837.py\", line 29, in filter\n",
      "NameError: name 'poly_calculation' is not defined\n",
      "Exception in thread Thread-178:\n",
      "Traceback (most recent call last):\n",
      "  File \"/Library/Frameworks/Python.framework/Versions/3.11/lib/python3.11/threading.py\", line 1038, in _bootstrap_inner\n",
      "    self.run()\n",
      "  File \"/Library/Frameworks/Python.framework/Versions/3.11/lib/python3.11/threading.py\", line 1394, in run\n",
      "    self.function(*self.args, **self.kwargs)\n",
      "  File \"/var/folders/94/hphmcz155530jnw34qpssk100000gn/T/ipykernel_12608/4043924853.py\", line 16, in _run\n",
      "  File \"/var/folders/94/hphmcz155530jnw34qpssk100000gn/T/ipykernel_12608/2098666837.py\", line 29, in filter\n",
      "NameError: name 'poly_calculation' is not defined\n"
     ]
    },
    {
     "name": "stdout",
     "output_type": "stream",
     "text": [
      "\t Test saw obstacle: \n",
      "---------------------\n",
      "---------------------\n"
     ]
    },
    {
     "name": "stderr",
     "output_type": "stream",
     "text": [
      "Exception in thread Thread-180:\n",
      "Traceback (most recent call last):\n",
      "  File \"/Library/Frameworks/Python.framework/Versions/3.11/lib/python3.11/threading.py\", line 1038, in _bootstrap_inner\n",
      "    self.run()\n",
      "  File \"/Library/Frameworks/Python.framework/Versions/3.11/lib/python3.11/threading.py\", line 1394, in run\n",
      "    self.function(*self.args, **self.kwargs)\n",
      "  File \"/var/folders/94/hphmcz155530jnw34qpssk100000gn/T/ipykernel_12608/4043924853.py\", line 16, in _run\n",
      "  File \"/var/folders/94/hphmcz155530jnw34qpssk100000gn/T/ipykernel_12608/2098666837.py\", line 29, in filter\n",
      "NameError: name 'poly_calculation' is not defined\n",
      "Exception in thread Thread-182:\n",
      "Traceback (most recent call last):\n",
      "  File \"/Library/Frameworks/Python.framework/Versions/3.11/lib/python3.11/threading.py\", line 1038, in _bootstrap_inner\n",
      "    self.run()\n",
      "  File \"/Library/Frameworks/Python.framework/Versions/3.11/lib/python3.11/threading.py\", line 1394, in run\n",
      "    self.function(*self.args, **self.kwargs)\n",
      "  File \"/var/folders/94/hphmcz155530jnw34qpssk100000gn/T/ipykernel_12608/4043924853.py\", line 16, in _run\n",
      "  File \"/var/folders/94/hphmcz155530jnw34qpssk100000gn/T/ipykernel_12608/2098666837.py\", line 29, in filter\n",
      "NameError: name 'poly_calculation' is not defined\n"
     ]
    },
    {
     "name": "stdout",
     "output_type": "stream",
     "text": [
      "\t Test saw obstacle: \n",
      "---------------------\n",
      "---------------------\n"
     ]
    },
    {
     "name": "stderr",
     "output_type": "stream",
     "text": [
      "Exception in thread Thread-184:\n",
      "Traceback (most recent call last):\n",
      "  File \"/Library/Frameworks/Python.framework/Versions/3.11/lib/python3.11/threading.py\", line 1038, in _bootstrap_inner\n",
      "    self.run()\n",
      "  File \"/Library/Frameworks/Python.framework/Versions/3.11/lib/python3.11/threading.py\", line 1394, in run\n",
      "    self.function(*self.args, **self.kwargs)\n",
      "  File \"/var/folders/94/hphmcz155530jnw34qpssk100000gn/T/ipykernel_12608/4043924853.py\", line 16, in _run\n",
      "  File \"/var/folders/94/hphmcz155530jnw34qpssk100000gn/T/ipykernel_12608/2098666837.py\", line 29, in filter\n",
      "NameError: name 'poly_calculation' is not defined\n"
     ]
    },
    {
     "name": "stdout",
     "output_type": "stream",
     "text": [
      "\t Test saw obstacle: \n",
      "---------------------\n",
      "0\n"
     ]
    },
    {
     "name": "stderr",
     "output_type": "stream",
     "text": [
      "Exception in thread Thread-188:\n",
      "Traceback (most recent call last):\n",
      "  File \"/Library/Frameworks/Python.framework/Versions/3.11/lib/python3.11/threading.py\", line 1038, in _bootstrap_inner\n",
      "    self.run()\n",
      "  File \"/Library/Frameworks/Python.framework/Versions/3.11/lib/python3.11/threading.py\", line 1394, in run\n",
      "    self.function(*self.args, **self.kwargs)\n",
      "  File \"/var/folders/94/hphmcz155530jnw34qpssk100000gn/T/ipykernel_12608/4043924853.py\", line 16, in _run\n",
      "  File \"/var/folders/94/hphmcz155530jnw34qpssk100000gn/T/ipykernel_12608/2098666837.py\", line 29, in filter\n",
      "NameError: name 'poly_calculation' is not defined\n",
      "Exception in thread Thread-190:\n",
      "Traceback (most recent call last):\n",
      "  File \"/Library/Frameworks/Python.framework/Versions/3.11/lib/python3.11/threading.py\", line 1038, in _bootstrap_inner\n",
      "    self.run()\n",
      "  File \"/Library/Frameworks/Python.framework/Versions/3.11/lib/python3.11/threading.py\", line 1394, in run\n",
      "    self.function(*self.args, **self.kwargs)\n",
      "  File \"/var/folders/94/hphmcz155530jnw34qpssk100000gn/T/ipykernel_12608/4043924853.py\", line 16, in _run\n",
      "  File \"/var/folders/94/hphmcz155530jnw34qpssk100000gn/T/ipykernel_12608/2098666837.py\", line 29, in filter\n",
      "NameError: name 'poly_calculation' is not defined\n"
     ]
    },
    {
     "name": "stdout",
     "output_type": "stream",
     "text": [
      "\t Test saw obstacle: \n",
      "---------------------\n",
      "---------------------\n"
     ]
    },
    {
     "name": "stderr",
     "output_type": "stream",
     "text": [
      "Exception in thread Thread-192:\n",
      "Traceback (most recent call last):\n",
      "  File \"/Library/Frameworks/Python.framework/Versions/3.11/lib/python3.11/threading.py\", line 1038, in _bootstrap_inner\n",
      "    self.run()\n",
      "  File \"/Library/Frameworks/Python.framework/Versions/3.11/lib/python3.11/threading.py\", line 1394, in run\n",
      "    self.function(*self.args, **self.kwargs)\n",
      "  File \"/var/folders/94/hphmcz155530jnw34qpssk100000gn/T/ipykernel_12608/4043924853.py\", line 16, in _run\n",
      "  File \"/var/folders/94/hphmcz155530jnw34qpssk100000gn/T/ipykernel_12608/2098666837.py\", line 29, in filter\n",
      "NameError: name 'poly_calculation' is not defined\n",
      "Exception in thread Thread-194:\n",
      "Traceback (most recent call last):\n",
      "  File \"/Library/Frameworks/Python.framework/Versions/3.11/lib/python3.11/threading.py\", line 1038, in _bootstrap_inner\n",
      "    self.run()\n",
      "  File \"/Library/Frameworks/Python.framework/Versions/3.11/lib/python3.11/threading.py\", line 1394, in run\n",
      "    self.function(*self.args, **self.kwargs)\n",
      "  File \"/var/folders/94/hphmcz155530jnw34qpssk100000gn/T/ipykernel_12608/4043924853.py\", line 16, in _run\n",
      "  File \"/var/folders/94/hphmcz155530jnw34qpssk100000gn/T/ipykernel_12608/2098666837.py\", line 29, in filter\n",
      "NameError: name 'poly_calculation' is not defined\n"
     ]
    },
    {
     "name": "stdout",
     "output_type": "stream",
     "text": [
      "\t Test saw obstacle: \n",
      "---------------------\n",
      "---------------------\n"
     ]
    },
    {
     "name": "stderr",
     "output_type": "stream",
     "text": [
      "Exception in thread Thread-196:\n",
      "Traceback (most recent call last):\n",
      "  File \"/Library/Frameworks/Python.framework/Versions/3.11/lib/python3.11/threading.py\", line 1038, in _bootstrap_inner\n",
      "    self.run()\n",
      "  File \"/Library/Frameworks/Python.framework/Versions/3.11/lib/python3.11/threading.py\", line 1394, in run\n",
      "    self.function(*self.args, **self.kwargs)\n",
      "  File \"/var/folders/94/hphmcz155530jnw34qpssk100000gn/T/ipykernel_12608/4043924853.py\", line 16, in _run\n",
      "  File \"/var/folders/94/hphmcz155530jnw34qpssk100000gn/T/ipykernel_12608/2098666837.py\", line 29, in filter\n",
      "NameError: name 'poly_calculation' is not defined\n",
      "Exception in thread Thread-198:\n",
      "Traceback (most recent call last):\n",
      "  File \"/Library/Frameworks/Python.framework/Versions/3.11/lib/python3.11/threading.py\", line 1038, in _bootstrap_inner\n",
      "    self.run()\n",
      "  File \"/Library/Frameworks/Python.framework/Versions/3.11/lib/python3.11/threading.py\", line 1394, in run\n",
      "    self.function(*self.args, **self.kwargs)\n",
      "  File \"/var/folders/94/hphmcz155530jnw34qpssk100000gn/T/ipykernel_12608/4043924853.py\", line 16, in _run\n",
      "  File \"/var/folders/94/hphmcz155530jnw34qpssk100000gn/T/ipykernel_12608/2098666837.py\", line 29, in filter\n",
      "NameError: name 'poly_calculation' is not defined\n"
     ]
    },
    {
     "name": "stdout",
     "output_type": "stream",
     "text": [
      "\t Test saw obstacle: \n",
      "---------------------\n",
      "---------------------\n"
     ]
    },
    {
     "name": "stderr",
     "output_type": "stream",
     "text": [
      "Exception in thread Thread-202:\n",
      "Traceback (most recent call last):\n",
      "  File \"/Library/Frameworks/Python.framework/Versions/3.11/lib/python3.11/threading.py\", line 1038, in _bootstrap_inner\n",
      "    self.run()\n",
      "  File \"/Library/Frameworks/Python.framework/Versions/3.11/lib/python3.11/threading.py\", line 1394, in run\n",
      "    self.function(*self.args, **self.kwargs)\n",
      "  File \"/var/folders/94/hphmcz155530jnw34qpssk100000gn/T/ipykernel_12608/4043924853.py\", line 16, in _run\n",
      "  File \"/var/folders/94/hphmcz155530jnw34qpssk100000gn/T/ipykernel_12608/2098666837.py\", line 29, in filter\n",
      "NameError: name 'poly_calculation' is not defined\n"
     ]
    },
    {
     "name": "stdout",
     "output_type": "stream",
     "text": [
      "\t Test saw obstacle: \n",
      "0\n",
      "---------------------\n"
     ]
    },
    {
     "name": "stderr",
     "output_type": "stream",
     "text": [
      "Exception in thread Thread-204:\n",
      "Traceback (most recent call last):\n",
      "  File \"/Library/Frameworks/Python.framework/Versions/3.11/lib/python3.11/threading.py\", line 1038, in _bootstrap_inner\n",
      "    self.run()\n",
      "  File \"/Library/Frameworks/Python.framework/Versions/3.11/lib/python3.11/threading.py\", line 1394, in run\n",
      "    self.function(*self.args, **self.kwargs)\n",
      "  File \"/var/folders/94/hphmcz155530jnw34qpssk100000gn/T/ipykernel_12608/4043924853.py\", line 16, in _run\n",
      "  File \"/var/folders/94/hphmcz155530jnw34qpssk100000gn/T/ipykernel_12608/2098666837.py\", line 29, in filter\n",
      "NameError: name 'poly_calculation' is not defined\n"
     ]
    },
    {
     "name": "stdout",
     "output_type": "stream",
     "text": [
      "\t Test saw obstacle: \n",
      "---------------------\n",
      "0\n"
     ]
    },
    {
     "name": "stderr",
     "output_type": "stream",
     "text": [
      "Exception in thread Thread-208:\n",
      "Traceback (most recent call last):\n",
      "  File \"/Library/Frameworks/Python.framework/Versions/3.11/lib/python3.11/threading.py\", line 1038, in _bootstrap_inner\n",
      "    self.run()\n",
      "  File \"/Library/Frameworks/Python.framework/Versions/3.11/lib/python3.11/threading.py\", line 1394, in run\n",
      "    self.function(*self.args, **self.kwargs)\n",
      "  File \"/var/folders/94/hphmcz155530jnw34qpssk100000gn/T/ipykernel_12608/4043924853.py\", line 16, in _run\n",
      "  File \"/var/folders/94/hphmcz155530jnw34qpssk100000gn/T/ipykernel_12608/2098666837.py\", line 29, in filter\n",
      "NameError: name 'poly_calculation' is not defined\n",
      "Exception in thread Thread-210:\n",
      "Traceback (most recent call last):\n",
      "  File \"/Library/Frameworks/Python.framework/Versions/3.11/lib/python3.11/threading.py\", line 1038, in _bootstrap_inner\n",
      "    self.run()\n",
      "  File \"/Library/Frameworks/Python.framework/Versions/3.11/lib/python3.11/threading.py\", line 1394, in run\n",
      "    self.function(*self.args, **self.kwargs)\n",
      "  File \"/var/folders/94/hphmcz155530jnw34qpssk100000gn/T/ipykernel_12608/4043924853.py\", line 16, in _run\n",
      "  File \"/var/folders/94/hphmcz155530jnw34qpssk100000gn/T/ipykernel_12608/2098666837.py\", line 29, in filter\n",
      "NameError: name 'poly_calculation' is not defined\n"
     ]
    },
    {
     "name": "stdout",
     "output_type": "stream",
     "text": [
      "\t Test saw obstacle: \n",
      "---------------------\n",
      "---------------------\n"
     ]
    },
    {
     "name": "stderr",
     "output_type": "stream",
     "text": [
      "Exception in thread Thread-212:\n",
      "Traceback (most recent call last):\n",
      "  File \"/Library/Frameworks/Python.framework/Versions/3.11/lib/python3.11/threading.py\", line 1038, in _bootstrap_inner\n",
      "    self.run()\n",
      "  File \"/Library/Frameworks/Python.framework/Versions/3.11/lib/python3.11/threading.py\", line 1394, in run\n",
      "    self.function(*self.args, **self.kwargs)\n",
      "  File \"/var/folders/94/hphmcz155530jnw34qpssk100000gn/T/ipykernel_12608/4043924853.py\", line 16, in _run\n",
      "  File \"/var/folders/94/hphmcz155530jnw34qpssk100000gn/T/ipykernel_12608/2098666837.py\", line 29, in filter\n",
      "NameError: name 'poly_calculation' is not defined\n"
     ]
    },
    {
     "name": "stdout",
     "output_type": "stream",
     "text": [
      "\t Test saw obstacle: \n",
      "---------------------\n",
      "0\n"
     ]
    },
    {
     "name": "stderr",
     "output_type": "stream",
     "text": [
      "Exception in thread Thread-216:\n",
      "Traceback (most recent call last):\n",
      "  File \"/Library/Frameworks/Python.framework/Versions/3.11/lib/python3.11/threading.py\", line 1038, in _bootstrap_inner\n",
      "    self.run()\n",
      "  File \"/Library/Frameworks/Python.framework/Versions/3.11/lib/python3.11/threading.py\", line 1394, in run\n",
      "    self.function(*self.args, **self.kwargs)\n",
      "  File \"/var/folders/94/hphmcz155530jnw34qpssk100000gn/T/ipykernel_12608/4043924853.py\", line 16, in _run\n",
      "  File \"/var/folders/94/hphmcz155530jnw34qpssk100000gn/T/ipykernel_12608/2098666837.py\", line 29, in filter\n",
      "NameError: name 'poly_calculation' is not defined\n",
      "Exception in thread Thread-218:\n",
      "Traceback (most recent call last):\n",
      "  File \"/Library/Frameworks/Python.framework/Versions/3.11/lib/python3.11/threading.py\", line 1038, in _bootstrap_inner\n",
      "    self.run()\n",
      "  File \"/Library/Frameworks/Python.framework/Versions/3.11/lib/python3.11/threading.py\", line 1394, in run\n",
      "    self.function(*self.args, **self.kwargs)\n",
      "  File \"/var/folders/94/hphmcz155530jnw34qpssk100000gn/T/ipykernel_12608/4043924853.py\", line 16, in _run\n",
      "  File \"/var/folders/94/hphmcz155530jnw34qpssk100000gn/T/ipykernel_12608/2098666837.py\", line 29, in filter\n",
      "NameError: name 'poly_calculation' is not defined\n"
     ]
    },
    {
     "name": "stdout",
     "output_type": "stream",
     "text": [
      "\t Test saw obstacle: \n",
      "---------------------\n",
      "---------------------\n"
     ]
    },
    {
     "name": "stderr",
     "output_type": "stream",
     "text": [
      "Exception in thread Thread-220:\n",
      "Traceback (most recent call last):\n",
      "  File \"/Library/Frameworks/Python.framework/Versions/3.11/lib/python3.11/threading.py\", line 1038, in _bootstrap_inner\n",
      "    self.run()\n",
      "  File \"/Library/Frameworks/Python.framework/Versions/3.11/lib/python3.11/threading.py\", line 1394, in run\n",
      "    self.function(*self.args, **self.kwargs)\n",
      "  File \"/var/folders/94/hphmcz155530jnw34qpssk100000gn/T/ipykernel_12608/4043924853.py\", line 16, in _run\n",
      "  File \"/var/folders/94/hphmcz155530jnw34qpssk100000gn/T/ipykernel_12608/2098666837.py\", line 29, in filter\n",
      "NameError: name 'poly_calculation' is not defined\n",
      "Exception in thread Thread-222:\n",
      "Traceback (most recent call last):\n",
      "  File \"/Library/Frameworks/Python.framework/Versions/3.11/lib/python3.11/threading.py\", line 1038, in _bootstrap_inner\n",
      "    self.run()\n",
      "  File \"/Library/Frameworks/Python.framework/Versions/3.11/lib/python3.11/threading.py\", line 1394, in run\n",
      "    self.function(*self.args, **self.kwargs)\n",
      "  File \"/var/folders/94/hphmcz155530jnw34qpssk100000gn/T/ipykernel_12608/4043924853.py\", line 16, in _run\n",
      "  File \"/var/folders/94/hphmcz155530jnw34qpssk100000gn/T/ipykernel_12608/2098666837.py\", line 29, in filter\n",
      "NameError: name 'poly_calculation' is not defined\n"
     ]
    },
    {
     "name": "stdout",
     "output_type": "stream",
     "text": [
      "\t Test saw obstacle: \n",
      "---------------------\n",
      "---------------------\n"
     ]
    },
    {
     "name": "stderr",
     "output_type": "stream",
     "text": [
      "Exception in thread Thread-224:\n",
      "Traceback (most recent call last):\n",
      "  File \"/Library/Frameworks/Python.framework/Versions/3.11/lib/python3.11/threading.py\", line 1038, in _bootstrap_inner\n",
      "    self.run()\n",
      "  File \"/Library/Frameworks/Python.framework/Versions/3.11/lib/python3.11/threading.py\", line 1394, in run\n",
      "    self.function(*self.args, **self.kwargs)\n",
      "  File \"/var/folders/94/hphmcz155530jnw34qpssk100000gn/T/ipykernel_12608/4043924853.py\", line 16, in _run\n",
      "  File \"/var/folders/94/hphmcz155530jnw34qpssk100000gn/T/ipykernel_12608/2098666837.py\", line 29, in filter\n",
      "NameError: name 'poly_calculation' is not defined\n"
     ]
    },
    {
     "name": "stdout",
     "output_type": "stream",
     "text": [
      "\t Test saw obstacle: \n",
      "---------------------\n",
      "0\n"
     ]
    },
    {
     "name": "stderr",
     "output_type": "stream",
     "text": [
      "Exception in thread Thread-228:\n",
      "Traceback (most recent call last):\n",
      "  File \"/Library/Frameworks/Python.framework/Versions/3.11/lib/python3.11/threading.py\", line 1038, in _bootstrap_inner\n",
      "    self.run()\n",
      "  File \"/Library/Frameworks/Python.framework/Versions/3.11/lib/python3.11/threading.py\", line 1394, in run\n",
      "    self.function(*self.args, **self.kwargs)\n",
      "  File \"/var/folders/94/hphmcz155530jnw34qpssk100000gn/T/ipykernel_12608/4043924853.py\", line 16, in _run\n",
      "  File \"/var/folders/94/hphmcz155530jnw34qpssk100000gn/T/ipykernel_12608/2098666837.py\", line 29, in filter\n",
      "NameError: name 'poly_calculation' is not defined\n",
      "Exception in thread Thread-230:\n",
      "Traceback (most recent call last):\n",
      "  File \"/Library/Frameworks/Python.framework/Versions/3.11/lib/python3.11/threading.py\", line 1038, in _bootstrap_inner\n",
      "    self.run()\n",
      "  File \"/Library/Frameworks/Python.framework/Versions/3.11/lib/python3.11/threading.py\", line 1394, in run\n",
      "    self.function(*self.args, **self.kwargs)\n",
      "  File \"/var/folders/94/hphmcz155530jnw34qpssk100000gn/T/ipykernel_12608/4043924853.py\", line 16, in _run\n",
      "  File \"/var/folders/94/hphmcz155530jnw34qpssk100000gn/T/ipykernel_12608/2098666837.py\", line 29, in filter\n",
      "NameError: name 'poly_calculation' is not defined\n"
     ]
    },
    {
     "name": "stdout",
     "output_type": "stream",
     "text": [
      "\t Test saw obstacle: \n",
      "---------------------\n",
      "---------------------\n"
     ]
    },
    {
     "name": "stderr",
     "output_type": "stream",
     "text": [
      "Exception in thread Thread-232:\n",
      "Traceback (most recent call last):\n",
      "  File \"/Library/Frameworks/Python.framework/Versions/3.11/lib/python3.11/threading.py\", line 1038, in _bootstrap_inner\n",
      "    self.run()\n",
      "  File \"/Library/Frameworks/Python.framework/Versions/3.11/lib/python3.11/threading.py\", line 1394, in run\n",
      "    self.function(*self.args, **self.kwargs)\n",
      "  File \"/var/folders/94/hphmcz155530jnw34qpssk100000gn/T/ipykernel_12608/4043924853.py\", line 16, in _run\n",
      "  File \"/var/folders/94/hphmcz155530jnw34qpssk100000gn/T/ipykernel_12608/2098666837.py\", line 29, in filter\n",
      "NameError: name 'poly_calculation' is not defined\n",
      "Exception in thread Thread-234:\n",
      "Traceback (most recent call last):\n",
      "  File \"/Library/Frameworks/Python.framework/Versions/3.11/lib/python3.11/threading.py\", line 1038, in _bootstrap_inner\n",
      "    self.run()\n",
      "  File \"/Library/Frameworks/Python.framework/Versions/3.11/lib/python3.11/threading.py\", line 1394, in run\n",
      "    self.function(*self.args, **self.kwargs)\n",
      "  File \"/var/folders/94/hphmcz155530jnw34qpssk100000gn/T/ipykernel_12608/4043924853.py\", line 16, in _run\n",
      "  File \"/var/folders/94/hphmcz155530jnw34qpssk100000gn/T/ipykernel_12608/2098666837.py\", line 29, in filter\n",
      "NameError: name 'poly_calculation' is not defined\n"
     ]
    },
    {
     "name": "stdout",
     "output_type": "stream",
     "text": [
      "\t Test saw obstacle: \n",
      "---------------------\n",
      "---------------------\n"
     ]
    },
    {
     "name": "stderr",
     "output_type": "stream",
     "text": [
      "Exception in thread Thread-236:\n",
      "Traceback (most recent call last):\n",
      "  File \"/Library/Frameworks/Python.framework/Versions/3.11/lib/python3.11/threading.py\", line 1038, in _bootstrap_inner\n",
      "    self.run()\n",
      "  File \"/Library/Frameworks/Python.framework/Versions/3.11/lib/python3.11/threading.py\", line 1394, in run\n",
      "    self.function(*self.args, **self.kwargs)\n",
      "  File \"/var/folders/94/hphmcz155530jnw34qpssk100000gn/T/ipykernel_12608/4043924853.py\", line 16, in _run\n",
      "  File \"/var/folders/94/hphmcz155530jnw34qpssk100000gn/T/ipykernel_12608/2098666837.py\", line 29, in filter\n",
      "NameError: name 'poly_calculation' is not defined\n"
     ]
    },
    {
     "name": "stdout",
     "output_type": "stream",
     "text": [
      "\t Test saw obstacle: \n",
      "---------------------\n",
      "0\n"
     ]
    },
    {
     "name": "stderr",
     "output_type": "stream",
     "text": [
      "Exception in thread Thread-240:\n",
      "Traceback (most recent call last):\n",
      "  File \"/Library/Frameworks/Python.framework/Versions/3.11/lib/python3.11/threading.py\", line 1038, in _bootstrap_inner\n",
      "    self.run()\n",
      "  File \"/Library/Frameworks/Python.framework/Versions/3.11/lib/python3.11/threading.py\", line 1394, in run\n",
      "    self.function(*self.args, **self.kwargs)\n",
      "  File \"/var/folders/94/hphmcz155530jnw34qpssk100000gn/T/ipykernel_12608/4043924853.py\", line 16, in _run\n",
      "  File \"/var/folders/94/hphmcz155530jnw34qpssk100000gn/T/ipykernel_12608/2098666837.py\", line 29, in filter\n",
      "NameError: name 'poly_calculation' is not defined\n",
      "Exception in thread Thread-242:\n",
      "Traceback (most recent call last):\n",
      "  File \"/Library/Frameworks/Python.framework/Versions/3.11/lib/python3.11/threading.py\", line 1038, in _bootstrap_inner\n",
      "    self.run()\n",
      "  File \"/Library/Frameworks/Python.framework/Versions/3.11/lib/python3.11/threading.py\", line 1394, in run\n",
      "    self.function(*self.args, **self.kwargs)\n",
      "  File \"/var/folders/94/hphmcz155530jnw34qpssk100000gn/T/ipykernel_12608/4043924853.py\", line 16, in _run\n",
      "  File \"/var/folders/94/hphmcz155530jnw34qpssk100000gn/T/ipykernel_12608/2098666837.py\", line 29, in filter\n",
      "NameError: name 'poly_calculation' is not defined\n"
     ]
    },
    {
     "name": "stdout",
     "output_type": "stream",
     "text": [
      "\t Test saw obstacle: \n",
      "---------------------\n",
      "---------------------\n"
     ]
    },
    {
     "name": "stderr",
     "output_type": "stream",
     "text": [
      "Exception in thread Thread-244:\n",
      "Traceback (most recent call last):\n",
      "  File \"/Library/Frameworks/Python.framework/Versions/3.11/lib/python3.11/threading.py\", line 1038, in _bootstrap_inner\n",
      "    self.run()\n",
      "  File \"/Library/Frameworks/Python.framework/Versions/3.11/lib/python3.11/threading.py\", line 1394, in run\n",
      "    self.function(*self.args, **self.kwargs)\n",
      "  File \"/var/folders/94/hphmcz155530jnw34qpssk100000gn/T/ipykernel_12608/4043924853.py\", line 16, in _run\n",
      "  File \"/var/folders/94/hphmcz155530jnw34qpssk100000gn/T/ipykernel_12608/2098666837.py\", line 29, in filter\n",
      "NameError: name 'poly_calculation' is not defined\n",
      "Exception in thread Thread-246:\n",
      "Traceback (most recent call last):\n",
      "  File \"/Library/Frameworks/Python.framework/Versions/3.11/lib/python3.11/threading.py\", line 1038, in _bootstrap_inner\n",
      "    self.run()\n",
      "  File \"/Library/Frameworks/Python.framework/Versions/3.11/lib/python3.11/threading.py\", line 1394, in run\n",
      "    self.function(*self.args, **self.kwargs)\n",
      "  File \"/var/folders/94/hphmcz155530jnw34qpssk100000gn/T/ipykernel_12608/4043924853.py\", line 16, in _run\n",
      "  File \"/var/folders/94/hphmcz155530jnw34qpssk100000gn/T/ipykernel_12608/2098666837.py\", line 29, in filter\n",
      "NameError: name 'poly_calculation' is not defined\n"
     ]
    },
    {
     "name": "stdout",
     "output_type": "stream",
     "text": [
      "\t Test saw obstacle: \n",
      "---------------------\n",
      "---------------------\n"
     ]
    },
    {
     "name": "stderr",
     "output_type": "stream",
     "text": [
      "Exception in thread Thread-248:\n",
      "Traceback (most recent call last):\n",
      "  File \"/Library/Frameworks/Python.framework/Versions/3.11/lib/python3.11/threading.py\", line 1038, in _bootstrap_inner\n",
      "    self.run()\n",
      "  File \"/Library/Frameworks/Python.framework/Versions/3.11/lib/python3.11/threading.py\", line 1394, in run\n",
      "    self.function(*self.args, **self.kwargs)\n",
      "  File \"/var/folders/94/hphmcz155530jnw34qpssk100000gn/T/ipykernel_12608/4043924853.py\", line 16, in _run\n",
      "  File \"/var/folders/94/hphmcz155530jnw34qpssk100000gn/T/ipykernel_12608/2098666837.py\", line 29, in filter\n",
      "NameError: name 'poly_calculation' is not defined\n"
     ]
    },
    {
     "name": "stdout",
     "output_type": "stream",
     "text": [
      "\t Test saw obstacle: \n",
      "---------------------\n",
      "0\n"
     ]
    },
    {
     "name": "stderr",
     "output_type": "stream",
     "text": [
      "Exception in thread Thread-252:\n",
      "Traceback (most recent call last):\n",
      "  File \"/Library/Frameworks/Python.framework/Versions/3.11/lib/python3.11/threading.py\", line 1038, in _bootstrap_inner\n",
      "    self.run()\n",
      "  File \"/Library/Frameworks/Python.framework/Versions/3.11/lib/python3.11/threading.py\", line 1394, in run\n",
      "    self.function(*self.args, **self.kwargs)\n",
      "  File \"/var/folders/94/hphmcz155530jnw34qpssk100000gn/T/ipykernel_12608/4043924853.py\", line 16, in _run\n",
      "  File \"/var/folders/94/hphmcz155530jnw34qpssk100000gn/T/ipykernel_12608/2098666837.py\", line 29, in filter\n",
      "NameError: name 'poly_calculation' is not defined\n",
      "Exception in thread Thread-254:\n",
      "Traceback (most recent call last):\n",
      "  File \"/Library/Frameworks/Python.framework/Versions/3.11/lib/python3.11/threading.py\", line 1038, in _bootstrap_inner\n",
      "    self.run()\n",
      "  File \"/Library/Frameworks/Python.framework/Versions/3.11/lib/python3.11/threading.py\", line 1394, in run\n",
      "    self.function(*self.args, **self.kwargs)\n",
      "  File \"/var/folders/94/hphmcz155530jnw34qpssk100000gn/T/ipykernel_12608/4043924853.py\", line 16, in _run\n",
      "  File \"/var/folders/94/hphmcz155530jnw34qpssk100000gn/T/ipykernel_12608/2098666837.py\", line 29, in filter\n",
      "NameError: name 'poly_calculation' is not defined\n"
     ]
    },
    {
     "name": "stdout",
     "output_type": "stream",
     "text": [
      "\t Test saw obstacle: \n",
      "---------------------\n",
      "---------------------\n"
     ]
    },
    {
     "name": "stderr",
     "output_type": "stream",
     "text": [
      "Exception in thread Thread-256:\n",
      "Traceback (most recent call last):\n",
      "  File \"/Library/Frameworks/Python.framework/Versions/3.11/lib/python3.11/threading.py\", line 1038, in _bootstrap_inner\n",
      "    self.run()\n",
      "  File \"/Library/Frameworks/Python.framework/Versions/3.11/lib/python3.11/threading.py\", line 1394, in run\n",
      "    self.function(*self.args, **self.kwargs)\n",
      "  File \"/var/folders/94/hphmcz155530jnw34qpssk100000gn/T/ipykernel_12608/4043924853.py\", line 16, in _run\n",
      "  File \"/var/folders/94/hphmcz155530jnw34qpssk100000gn/T/ipykernel_12608/2098666837.py\", line 29, in filter\n",
      "NameError: name 'poly_calculation' is not defined\n"
     ]
    },
    {
     "name": "stdout",
     "output_type": "stream",
     "text": [
      "\t Test saw obstacle: \n",
      "---------------------\n"
     ]
    },
    {
     "ename": "CancelledError",
     "evalue": "",
     "output_type": "error",
     "traceback": [
      "\u001b[0;31m---------------------------------------------------------------------------\u001b[0m",
      "\u001b[0;31mCancelledError\u001b[0m                            Traceback (most recent call last)",
      "\u001b[1;32m/Users/alexei.ermochkine/Desktop/ma3/mobile_robotics/BOMR-Project/Project_GLFMV.ipynb Cell 37\u001b[0m line \u001b[0;36m6\n\u001b[1;32m     <a href='vscode-notebook-cell:/Users/alexei.ermochkine/Desktop/ma3/mobile_robotics/BOMR-Project/Project_GLFMV.ipynb#Y135sZmlsZQ%3D%3D?line=60'>61</a>\u001b[0m     \u001b[39mprint\u001b[39m(\u001b[39m\"\u001b[39m\u001b[39mentered try\u001b[39m\u001b[39m\"\u001b[39m)\n\u001b[1;32m     <a href='vscode-notebook-cell:/Users/alexei.ermochkine/Desktop/ma3/mobile_robotics/BOMR-Project/Project_GLFMV.ipynb#Y135sZmlsZQ%3D%3D?line=61'>62</a>\u001b[0m     \u001b[39mfor\u001b[39;00m i \u001b[39min\u001b[39;00m \u001b[39mrange\u001b[39m(\u001b[39m10\u001b[39m):\n\u001b[0;32m---> <a href='vscode-notebook-cell:/Users/alexei.ermochkine/Desktop/ma3/mobile_robotics/BOMR-Project/Project_GLFMV.ipynb#Y135sZmlsZQ%3D%3D?line=62'>63</a>\u001b[0m         \u001b[39mawait\u001b[39;00m path_following(verbose\u001b[39m=\u001b[39m\u001b[39mTrue\u001b[39;00m)\n\u001b[1;32m     <a href='vscode-notebook-cell:/Users/alexei.ermochkine/Desktop/ma3/mobile_robotics/BOMR-Project/Project_GLFMV.ipynb#Y135sZmlsZQ%3D%3D?line=63'>64</a>\u001b[0m         \u001b[39mawait\u001b[39;00m local_avoidance(verbose\u001b[39m=\u001b[39m\u001b[39mTrue\u001b[39;00m)\n\u001b[1;32m     <a href='vscode-notebook-cell:/Users/alexei.ermochkine/Desktop/ma3/mobile_robotics/BOMR-Project/Project_GLFMV.ipynb#Y135sZmlsZQ%3D%3D?line=64'>65</a>\u001b[0m     \u001b[39m#node.send_set_variables(motors(0, 0))\u001b[39;00m\n\u001b[1;32m     <a href='vscode-notebook-cell:/Users/alexei.ermochkine/Desktop/ma3/mobile_robotics/BOMR-Project/Project_GLFMV.ipynb#Y135sZmlsZQ%3D%3D?line=65'>66</a>\u001b[0m \u001b[39mfinally\u001b[39;00m:\n",
      "\u001b[1;32m/Users/alexei.ermochkine/Desktop/ma3/mobile_robotics/BOMR-Project/Project_GLFMV.ipynb Cell 37\u001b[0m line \u001b[0;36m2\n\u001b[1;32m     <a href='vscode-notebook-cell:/Users/alexei.ermochkine/Desktop/ma3/mobile_robotics/BOMR-Project/Project_GLFMV.ipynb#Y135sZmlsZQ%3D%3D?line=24'>25</a>\u001b[0m \u001b[39mif\u001b[39;00m (\u001b[39mabs\u001b[39m(angle)\u001b[39m<\u001b[39mangle_threshold):\n\u001b[1;32m     <a href='vscode-notebook-cell:/Users/alexei.ermochkine/Desktop/ma3/mobile_robotics/BOMR-Project/Project_GLFMV.ipynb#Y135sZmlsZQ%3D%3D?line=25'>26</a>\u001b[0m     \u001b[39m#Vr = 100\u001b[39;00m\n\u001b[1;32m     <a href='vscode-notebook-cell:/Users/alexei.ermochkine/Desktop/ma3/mobile_robotics/BOMR-Project/Project_GLFMV.ipynb#Y135sZmlsZQ%3D%3D?line=26'>27</a>\u001b[0m     \u001b[39m#Vl = 100\u001b[39;00m\n\u001b[1;32m     <a href='vscode-notebook-cell:/Users/alexei.ermochkine/Desktop/ma3/mobile_robotics/BOMR-Project/Project_GLFMV.ipynb#Y135sZmlsZQ%3D%3D?line=27'>28</a>\u001b[0m     drive_task \u001b[39m=\u001b[39m asyncio\u001b[39m.\u001b[39mcreate_task(drive_for_seconds(client, Ts))\n\u001b[0;32m---> <a href='vscode-notebook-cell:/Users/alexei.ermochkine/Desktop/ma3/mobile_robotics/BOMR-Project/Project_GLFMV.ipynb#Y135sZmlsZQ%3D%3D?line=28'>29</a>\u001b[0m     \u001b[39mawait\u001b[39;00m drive_task\n\u001b[1;32m     <a href='vscode-notebook-cell:/Users/alexei.ermochkine/Desktop/ma3/mobile_robotics/BOMR-Project/Project_GLFMV.ipynb#Y135sZmlsZQ%3D%3D?line=30'>31</a>\u001b[0m \u001b[39melse\u001b[39;00m:\n\u001b[1;32m     <a href='vscode-notebook-cell:/Users/alexei.ermochkine/Desktop/ma3/mobile_robotics/BOMR-Project/Project_GLFMV.ipynb#Y135sZmlsZQ%3D%3D?line=31'>32</a>\u001b[0m     \u001b[39mif\u001b[39;00m angle\u001b[39m>\u001b[39m\u001b[39m0\u001b[39m:\n",
      "\u001b[1;32m/Users/alexei.ermochkine/Desktop/ma3/mobile_robotics/BOMR-Project/Project_GLFMV.ipynb Cell 37\u001b[0m line \u001b[0;36m1\n\u001b[1;32m      <a href='vscode-notebook-cell:/Users/alexei.ermochkine/Desktop/ma3/mobile_robotics/BOMR-Project/Project_GLFMV.ipynb#Y135sZmlsZQ%3D%3D?line=5'>6</a>\u001b[0m v \u001b[39m=\u001b[39m {\n\u001b[1;32m      <a href='vscode-notebook-cell:/Users/alexei.ermochkine/Desktop/ma3/mobile_robotics/BOMR-Project/Project_GLFMV.ipynb#Y135sZmlsZQ%3D%3D?line=6'>7</a>\u001b[0m     \u001b[39m\"\u001b[39m\u001b[39mmotor.left.target\u001b[39m\u001b[39m\"\u001b[39m: [\u001b[39mint\u001b[39m(\u001b[39m99\u001b[39m)],\n\u001b[1;32m      <a href='vscode-notebook-cell:/Users/alexei.ermochkine/Desktop/ma3/mobile_robotics/BOMR-Project/Project_GLFMV.ipynb#Y135sZmlsZQ%3D%3D?line=7'>8</a>\u001b[0m     \u001b[39m\"\u001b[39m\u001b[39mmotor.right.target\u001b[39m\u001b[39m\"\u001b[39m: [\u001b[39mint\u001b[39m(\u001b[39m100\u001b[39m)],\n\u001b[1;32m      <a href='vscode-notebook-cell:/Users/alexei.ermochkine/Desktop/ma3/mobile_robotics/BOMR-Project/Project_GLFMV.ipynb#Y135sZmlsZQ%3D%3D?line=8'>9</a>\u001b[0m }\n\u001b[1;32m     <a href='vscode-notebook-cell:/Users/alexei.ermochkine/Desktop/ma3/mobile_robotics/BOMR-Project/Project_GLFMV.ipynb#Y135sZmlsZQ%3D%3D?line=9'>10</a>\u001b[0m \u001b[39mawait\u001b[39;00m node\u001b[39m.\u001b[39mset_variables(v)\n\u001b[0;32m---> <a href='vscode-notebook-cell:/Users/alexei.ermochkine/Desktop/ma3/mobile_robotics/BOMR-Project/Project_GLFMV.ipynb#Y135sZmlsZQ%3D%3D?line=10'>11</a>\u001b[0m \u001b[39mawait\u001b[39;00m asyncio\u001b[39m.\u001b[39msleep(seconds)\n",
      "File \u001b[0;32m/Library/Frameworks/Python.framework/Versions/3.11/lib/python3.11/asyncio/tasks.py:639\u001b[0m, in \u001b[0;36msleep\u001b[0;34m(delay, result)\u001b[0m\n\u001b[1;32m    635\u001b[0m h \u001b[39m=\u001b[39m loop\u001b[39m.\u001b[39mcall_later(delay,\n\u001b[1;32m    636\u001b[0m                     futures\u001b[39m.\u001b[39m_set_result_unless_cancelled,\n\u001b[1;32m    637\u001b[0m                     future, result)\n\u001b[1;32m    638\u001b[0m \u001b[39mtry\u001b[39;00m:\n\u001b[0;32m--> 639\u001b[0m     \u001b[39mreturn\u001b[39;00m \u001b[39mawait\u001b[39;00m future\n\u001b[1;32m    640\u001b[0m \u001b[39mfinally\u001b[39;00m:\n\u001b[1;32m    641\u001b[0m     h\u001b[39m.\u001b[39mcancel()\n",
      "\u001b[0;31mCancelledError\u001b[0m: "
     ]
    }
   ],
   "source": [
    "thymio_data = []\n",
    "initial_orientation = 0 #degree\n",
    "\n",
    "global image_ready, obstacles_result, goal_position\n",
    "image_ready = False\n",
    "\n",
    "# Read the first frame from the video capture\n",
    "ret, init_frame = cap.read()\n",
    "\n",
    "# Applying vision functions\n",
    "thymio_result = locate_thymio(init_frame)\n",
    "obstacles_result = locate_static_obstacles(init_frame, 150)\n",
    "goal_position = locate_goal(init_frame)  \n",
    "table_origin_result = locate_table_origin(init_frame)\n",
    "\n",
    "start = Point(thymio_result[0][0][0], thymio_result[0][0][1])\n",
    "goal = Point(goal_position[0], goal_position[1])\n",
    "table_origin = Point(table_origin_result[0], table_origin_result[1])\n",
    "\n",
    "# \n",
    "polys = []\n",
    "poly = []\n",
    "n_polys=0\n",
    "for polygone in obstacles_result:\n",
    "    n_polys += 1\n",
    "    for corner in polygone:\n",
    "        poly.append(Point(corner[0],corner[1]))\n",
    "    polys.append(poly)\n",
    "    poly = []\n",
    "\n",
    "#polys = [[Point(170, 599), Point(170,731), Point(291,731), Point(291, 599)], [Point(431, 432), Point(398,489), Point(431, 550), Point(501, 550), Point(535, 491), Point(503, 435)], [Point(78, 129), Point(78,420), Point(531, 420), Point(531,129)]]\n",
    "#start = Point(76, 81)\n",
    "#goal = Point(498, 762)\n",
    "\n",
    "positions = global_navigation(polys, start, goal) * 0.4\n",
    "initial_orientation = thymio_result[2]*360/(2*np.pi)\n",
    "print(thymio_result[2])\n",
    "\n",
    "print(\"obstacles_result :\", obstacles_result)\n",
    "print(\"Initial position :\", positions/0.4, \"\\n Initial orientation : \", initial_orientation)\n",
    "\n",
    "#print(positions[0][0])\n",
    "#positions = np.array([[0,0],[200,100],[10,30]])#[0,0],[30,45],[50,50],[17,15],[50,10]\n",
    "angle_threshold = 10 #degrees\n",
    "x_est = np.array([[positions[0][0]], [positions[0][1]], [initial_orientation]])\n",
    "print(\"xest = \", x_est)\n",
    "P_est = 0\n",
    "Ts = 0.1\n",
    "count = 0\n",
    "Vr = 0\n",
    "Vl = 0\n",
    "position_threshold = 10\n",
    "ret = 0\n",
    "\n",
    "n = 1\n",
    "await node.wait_for_variables() # wait for Thymio variables values\n",
    "rt = RepeatedTimer(Ts, filter)#, x_est, P_est, Ts)\n",
    "rt_camera = RepeatedTimer(Ts, camera_acquisition)#, x_est, P_est, Ts)\n",
    "\n",
    "try:\n",
    "    print(\"entered try\")\n",
    "    for i in range(10):\n",
    "        await path_following(verbose=True)\n",
    "        await local_avoidance(verbose=True)\n",
    "    #node.send_set_variables(motors(0, 0))\n",
    "finally:\n",
    "    rt.stop()\n",
    "    node.send_set_variables(motors(0, 0))\n"
   ]
  },
  {
   "cell_type": "code",
   "execution_count": null,
   "metadata": {},
   "outputs": [],
   "source": []
  }
 ],
 "metadata": {
  "hide_input": false,
  "kernelspec": {
   "display_name": "Python 3 (ipykernel)",
   "language": "python",
   "name": "python3"
  },
  "language_info": {
   "codemirror_mode": {
    "name": "ipython",
    "version": 3
   },
   "file_extension": ".py",
   "mimetype": "text/x-python",
   "name": "python",
   "nbconvert_exporter": "python",
   "pygments_lexer": "ipython3",
   "version": "3.11.3"
  },
  "toc": {
   "base_numbering": 1,
   "nav_menu": {},
   "number_sections": true,
   "sideBar": true,
   "skip_h1_title": false,
   "title_cell": "Table of Contents",
   "title_sidebar": "Contents",
   "toc_cell": true,
   "toc_position": {},
   "toc_section_display": true,
   "toc_window_display": true
  }
 },
 "nbformat": 4,
 "nbformat_minor": 4
}
