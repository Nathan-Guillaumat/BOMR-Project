{
 "cells": [
  {
   "cell_type": "code",
   "execution_count": 1,
   "metadata": {},
   "outputs": [],
   "source": [
    "import numpy as np\n",
    "import cv2\n",
    "import matplotlib.pyplot as plt\n",
    "from globalNavigation import *\n",
    "from vision import *"
   ]
  },
  {
   "cell_type": "code",
   "execution_count": 4,
   "metadata": {},
   "outputs": [
    {
     "name": "stderr",
     "output_type": "stream",
     "text": [
      "/Users/alexei.ermochkine/Desktop/ma3/mobile_robotics/venv4mobilerobotics/lib/python3.11/site-packages/sklearn/cluster/_kmeans.py:1416: FutureWarning: The default value of `n_init` will change from 10 to 'auto' in 1.4. Set the value of `n_init` explicitly to suppress the warning\n",
      "  super()._check_params_vs_input(X, default_n_init=10)\n"
     ]
    },
    {
     "name": "stdout",
     "output_type": "stream",
     "text": [
      "---------\n",
      " [[(321, -150), (944, -150), (944, 442), (321, 442)]] \n",
      "---------\n"
     ]
    }
   ],
   "source": [
    "# Example of usage:\n",
    "cap = cv2.VideoCapture(0)\n",
    "ret, frame = cap.read()\n",
    "\n",
    "# Applying vision functions\n",
    "thymio_result = locate_thymio(frame)\n",
    "obstacles_result = locate_static_obstacles(frame, 150)\n",
    "goal_result = locate_goal(frame)  \n",
    "\n",
    "start = Point(thymio_result[0][0][0], thymio_result[0][0][1])\n",
    "goal = Point(goal_result[0], goal_result[1])\n",
    "\n",
    "polys = []\n",
    "poly = []\n",
    "n_polys=0\n",
    "for polygone in obstacles_result:\n",
    "    n_polys += 1\n",
    "    for corner in polygone:\n",
    "        poly.append(Point(corner[0],corner[1]))\n",
    "    polys.append(poly)\n",
    "    poly = []\n",
    "\n",
    "positions = global_navigation(polys, start, goal, [1920,1080])\n",
    "\n",
    "print(\"---------\\n\",obstacles_result,\"\\n---------\")\n",
    "\n",
    "\n",
    "\n",
    "while True:\n",
    "    ret, frame = cap.read()\n",
    "    # Display path\n",
    "    for i in range(len(positions) - 1):\n",
    "        cv2.circle(frame, (int(positions[i][0]), int(positions[i][1])), 20, (0, 0, 255), -1)\n",
    "        cv2.line(frame, (int(positions[i][0]), int(positions[i][1])), (int(positions[i+1][0]), int(positions[i+1][1])), (0, 255, 0), 3)\n",
    "    # Display the last point\n",
    "    cv2.circle(frame, (int(positions[-1][0]), int(positions[-1][1])), 20, (0, 0, 255), -1)\n",
    "    # Display the frame\n",
    "    cv2.imshow('Frame', frame)\n",
    "\n",
    "    # Break the loop on 'q' key press\n",
    "    if cv2.waitKey(1) & 0xFF == ord('q'):\n",
    "        break\n",
    "\n",
    "cap.release()\n",
    "cv2.destroyAllWindows()"
   ]
  },
  {
   "cell_type": "code",
   "execution_count": null,
   "metadata": {},
   "outputs": [],
   "source": []
  }
 ],
 "metadata": {
  "kernelspec": {
   "display_name": "venv4mobilerobotics",
   "language": "python",
   "name": "python3"
  },
  "language_info": {
   "codemirror_mode": {
    "name": "ipython",
    "version": 3
   },
   "file_extension": ".py",
   "mimetype": "text/x-python",
   "name": "python",
   "nbconvert_exporter": "python",
   "pygments_lexer": "ipython3",
   "version": "3.11.3"
  }
 },
 "nbformat": 4,
 "nbformat_minor": 2
}
