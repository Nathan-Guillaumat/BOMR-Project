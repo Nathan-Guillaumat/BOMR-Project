{
 "cells": [
  {
   "cell_type": "markdown",
   "metadata": {},
   "source": [
    "\n",
    "<div style=\"border:1px solid black; padding:20px 20px;text-align: justify;text-justify: inter-word\">\n",
    "    <strong>Project - Motor Control \n",
    "    \n",
    "\n",
    "<br/>\n"
   ]
  },
  {
   "cell_type": "code",
   "execution_count": 1,
   "metadata": {
    "ExecuteTime": {
     "end_time": "2021-10-01T19:47:06.409702Z",
     "start_time": "2021-10-01T19:47:03.135195Z"
    }
   },
   "outputs": [
    {
     "name": "stdout",
     "output_type": "stream",
     "text": [
      "Requirement already satisfied: tdmclient in c:\\users\\prona\\appdata\\local\\programs\\python\\python311\\lib\\site-packages (0.1.21)\n",
      "Requirement already satisfied: websockets in c:\\users\\prona\\appdata\\local\\programs\\python\\python311\\lib\\site-packages (from tdmclient) (11.0.3)\n",
      "Requirement already satisfied: zeroconf in c:\\users\\prona\\appdata\\local\\programs\\python\\python311\\lib\\site-packages (from tdmclient) (0.115.0)\n",
      "Requirement already satisfied: ifaddr>=0.1.7 in c:\\users\\prona\\appdata\\local\\programs\\python\\python311\\lib\\site-packages (from zeroconf->tdmclient) (0.2.0)\n"
     ]
    },
    {
     "name": "stderr",
     "output_type": "stream",
     "text": [
      "\n",
      "[notice] A new release of pip is available: 23.2.1 -> 23.3.1\n",
      "[notice] To update, run: python.exe -m pip install --upgrade pip\n"
     ]
    }
   ],
   "source": [
    "!pip install --upgrade tdmclient"
   ]
  },
  {
   "cell_type": "code",
   "execution_count": 2,
   "metadata": {},
   "outputs": [
    {
     "name": "stderr",
     "output_type": "stream",
     "text": [
      "\n",
      "[notice] A new release of pip is available: 23.2.1 -> 23.3.1\n",
      "[notice] To update, run: python.exe -m pip install --upgrade pip\n"
     ]
    },
    {
     "name": "stdout",
     "output_type": "stream",
     "text": [
      "Requirement already satisfied: tqdm in c:\\users\\prona\\appdata\\local\\programs\\python\\python311\\lib\\site-packages (4.66.1)\n",
      "Requirement already satisfied: scipy in c:\\users\\prona\\appdata\\local\\programs\\python\\python311\\lib\\site-packages (1.11.3)\n",
      "Requirement already satisfied: colorama in c:\\users\\prona\\appdata\\local\\programs\\python\\python311\\lib\\site-packages (from tqdm) (0.4.6)\n",
      "Requirement already satisfied: numpy<1.28.0,>=1.21.6 in c:\\users\\prona\\appdata\\local\\programs\\python\\python311\\lib\\site-packages (from scipy) (1.26.0)\n"
     ]
    }
   ],
   "source": [
    "!pip install tqdm scipy"
   ]
  },
  {
   "cell_type": "code",
   "execution_count": 3,
   "metadata": {},
   "outputs": [
    {
     "name": "stdout",
     "output_type": "stream",
     "text": [
      "Requirement already satisfied: numpy in c:\\users\\prona\\appdata\\local\\programs\\python\\python311\\lib\\site-packages (1.26.0)\n",
      "Requirement already satisfied: matplotlib in c:\\users\\prona\\appdata\\local\\programs\\python\\python311\\lib\\site-packages (3.8.0)\n",
      "Requirement already satisfied: pandas in c:\\users\\prona\\appdata\\local\\programs\\python\\python311\\lib\\site-packages (2.1.2)\n",
      "Requirement already satisfied: scipy in c:\\users\\prona\\appdata\\local\\programs\\python\\python311\\lib\\site-packages (1.11.3)\n",
      "Requirement already satisfied: tqdm in c:\\users\\prona\\appdata\\local\\programs\\python\\python311\\lib\\site-packages (4.66.1)\n",
      "Requirement already satisfied: contourpy>=1.0.1 in c:\\users\\prona\\appdata\\local\\programs\\python\\python311\\lib\\site-packages (from matplotlib) (1.1.1)\n",
      "Requirement already satisfied: cycler>=0.10 in c:\\users\\prona\\appdata\\local\\programs\\python\\python311\\lib\\site-packages (from matplotlib) (0.11.0)\n",
      "Requirement already satisfied: fonttools>=4.22.0 in c:\\users\\prona\\appdata\\local\\programs\\python\\python311\\lib\\site-packages (from matplotlib) (4.42.1)\n",
      "Requirement already satisfied: kiwisolver>=1.0.1 in c:\\users\\prona\\appdata\\local\\programs\\python\\python311\\lib\\site-packages (from matplotlib) (1.4.5)\n",
      "Requirement already satisfied: packaging>=20.0 in c:\\users\\prona\\appdata\\local\\programs\\python\\python311\\lib\\site-packages (from matplotlib) (23.1)\n",
      "Requirement already satisfied: pillow>=6.2.0 in c:\\users\\prona\\appdata\\local\\programs\\python\\python311\\lib\\site-packages (from matplotlib) (10.0.1)\n",
      "Requirement already satisfied: pyparsing>=2.3.1 in c:\\users\\prona\\appdata\\local\\programs\\python\\python311\\lib\\site-packages (from matplotlib) (3.1.1)\n",
      "Requirement already satisfied: python-dateutil>=2.7 in c:\\users\\prona\\appdata\\local\\programs\\python\\python311\\lib\\site-packages (from matplotlib) (2.8.2)\n",
      "Requirement already satisfied: pytz>=2020.1 in c:\\users\\prona\\appdata\\local\\programs\\python\\python311\\lib\\site-packages (from pandas) (2023.3.post1)\n",
      "Requirement already satisfied: tzdata>=2022.1 in c:\\users\\prona\\appdata\\local\\programs\\python\\python311\\lib\\site-packages (from pandas) (2023.3)\n",
      "Requirement already satisfied: colorama in c:\\users\\prona\\appdata\\local\\programs\\python\\python311\\lib\\site-packages (from tqdm) (0.4.6)\n",
      "Requirement already satisfied: six>=1.5 in c:\\users\\prona\\appdata\\local\\programs\\python\\python311\\lib\\site-packages (from python-dateutil>=2.7->matplotlib) (1.16.0)\n"
     ]
    },
    {
     "name": "stderr",
     "output_type": "stream",
     "text": [
      "\n",
      "[notice] A new release of pip is available: 23.2.1 -> 23.3.1\n",
      "[notice] To update, run: python.exe -m pip install --upgrade pip\n"
     ]
    }
   ],
   "source": [
    "!pip install numpy matplotlib pandas scipy tqdm"
   ]
  },
  {
   "cell_type": "markdown",
   "metadata": {},
   "source": [
    "<strong>Imports :"
   ]
  },
  {
   "cell_type": "code",
   "execution_count": 184,
   "metadata": {},
   "outputs": [],
   "source": [
    "import os\n",
    "import sys\n",
    "import math\n",
    "from statistics import mean\n",
    "import numpy as np\n",
    "import matplotlib.pyplot as plt\n"
   ]
  },
  {
   "cell_type": "code",
   "execution_count": 185,
   "metadata": {},
   "outputs": [],
   "source": [
    "import tdmclient.notebook\n",
    "await tdmclient.notebook.start()"
   ]
  },
  {
   "cell_type": "code",
   "execution_count": 186,
   "metadata": {},
   "outputs": [],
   "source": [
    "await tdmclient.notebook.stop()"
   ]
  },
  {
   "cell_type": "markdown",
   "metadata": {},
   "source": [
    "<strong>Calibration"
   ]
  },
  {
   "cell_type": "markdown",
   "metadata": {},
   "source": [
    "Calibration when turning : "
   ]
  },
  {
   "cell_type": "code",
   "execution_count": 187,
   "metadata": {},
   "outputs": [
    {
     "ename": "AttributeError",
     "evalue": "'NoneType' object has no attribute 'run_program'",
     "output_type": "error",
     "traceback": [
      "\u001b[1;31m---------------------------------------------------------------------------\u001b[0m",
      "\u001b[1;31mAttributeError\u001b[0m                            Traceback (most recent call last)",
      "Cell \u001b[1;32mIn[187], line 1\u001b[0m\n\u001b[1;32m----> 1\u001b[0m \u001b[43mget_ipython\u001b[49m\u001b[43m(\u001b[49m\u001b[43m)\u001b[49m\u001b[38;5;241;43m.\u001b[39;49m\u001b[43mrun_cell_magic\u001b[49m\u001b[43m(\u001b[49m\u001b[38;5;124;43m'\u001b[39;49m\u001b[38;5;124;43mrun_python\u001b[39;49m\u001b[38;5;124;43m'\u001b[39;49m\u001b[43m,\u001b[49m\u001b[43m \u001b[49m\u001b[38;5;124;43m'\u001b[39;49m\u001b[38;5;124;43m'\u001b[39;49m\u001b[43m,\u001b[49m\u001b[43m \u001b[49m\u001b[38;5;124;43m'\u001b[39;49m\u001b[38;5;130;43;01m\\n\u001b[39;49;00m\u001b[38;5;124;43mcounting = 0\u001b[39;49m\u001b[38;5;130;43;01m\\n\u001b[39;49;00m\u001b[38;5;124;43mtime = 0\u001b[39;49m\u001b[38;5;130;43;01m\\n\u001b[39;49;00m\u001b[38;5;130;43;01m\\n\u001b[39;49;00m\u001b[38;5;124;43mtimer_period[0] = 10 # milliseconds\u001b[39;49m\u001b[38;5;130;43;01m\\n\u001b[39;49;00m\u001b[38;5;130;43;01m\\n\u001b[39;49;00m\u001b[38;5;124;43m@onevent \u001b[39;49m\u001b[38;5;130;43;01m\\n\u001b[39;49;00m\u001b[38;5;124;43mdef button_right(): # start counting\u001b[39;49m\u001b[38;5;130;43;01m\\n\u001b[39;49;00m\u001b[38;5;124;43m    global counting, time, motor_left_target, motor_right_target\u001b[39;49m\u001b[38;5;130;43;01m\\n\u001b[39;49;00m\u001b[38;5;124;43m    counting = 1\u001b[39;49m\u001b[38;5;130;43;01m\\n\u001b[39;49;00m\u001b[38;5;124;43m    time = 0\u001b[39;49m\u001b[38;5;130;43;01m\\n\u001b[39;49;00m\u001b[38;5;124;43m    motor_left_target = 100\u001b[39;49m\u001b[38;5;130;43;01m\\n\u001b[39;49;00m\u001b[38;5;124;43m    motor_right_target = -100\u001b[39;49m\u001b[38;5;130;43;01m\\n\u001b[39;49;00m\u001b[38;5;130;43;01m\\n\u001b[39;49;00m\u001b[38;5;124;43m@onevent \u001b[39;49m\u001b[38;5;130;43;01m\\n\u001b[39;49;00m\u001b[38;5;124;43mdef button_left(): # start counting\u001b[39;49m\u001b[38;5;130;43;01m\\n\u001b[39;49;00m\u001b[38;5;124;43m    global counting, time, motor_left_target, motor_right_target\u001b[39;49m\u001b[38;5;130;43;01m\\n\u001b[39;49;00m\u001b[38;5;124;43m    counting = 1\u001b[39;49m\u001b[38;5;130;43;01m\\n\u001b[39;49;00m\u001b[38;5;124;43m    time = 0\u001b[39;49m\u001b[38;5;130;43;01m\\n\u001b[39;49;00m\u001b[38;5;124;43m    motor_left_target = -100\u001b[39;49m\u001b[38;5;130;43;01m\\n\u001b[39;49;00m\u001b[38;5;124;43m    motor_right_target = 100\u001b[39;49m\u001b[38;5;130;43;01m\\n\u001b[39;49;00m\u001b[38;5;130;43;01m\\n\u001b[39;49;00m\u001b[38;5;124;43m@onevent \u001b[39;49m\u001b[38;5;130;43;01m\\n\u001b[39;49;00m\u001b[38;5;124;43mdef button_center(): # stop counting\u001b[39;49m\u001b[38;5;130;43;01m\\n\u001b[39;49;00m\u001b[38;5;124;43m    global counting, motor_left_target, motor_right_target\u001b[39;49m\u001b[38;5;130;43;01m\\n\u001b[39;49;00m\u001b[38;5;124;43m    counting = 0\u001b[39;49m\u001b[38;5;130;43;01m\\n\u001b[39;49;00m\u001b[38;5;124;43m    motor_left_target = 0\u001b[39;49m\u001b[38;5;130;43;01m\\n\u001b[39;49;00m\u001b[38;5;124;43m    motor_right_target = 0\u001b[39;49m\u001b[38;5;130;43;01m\\n\u001b[39;49;00m\u001b[38;5;130;43;01m\\n\u001b[39;49;00m\u001b[38;5;124;43m@onevent \u001b[39;49m\u001b[38;5;130;43;01m\\n\u001b[39;49;00m\u001b[38;5;124;43mdef timer0():\u001b[39;49m\u001b[38;5;130;43;01m\\n\u001b[39;49;00m\u001b[38;5;124;43m    global counting, time\u001b[39;49m\u001b[38;5;130;43;01m\\n\u001b[39;49;00m\u001b[38;5;124;43m    if counting == 1:\u001b[39;49m\u001b[38;5;130;43;01m\\n\u001b[39;49;00m\u001b[38;5;124;43m        time = time + 1\u001b[39;49m\u001b[38;5;130;43;01m\\n\u001b[39;49;00m\u001b[38;5;124;43m'\u001b[39;49m\u001b[43m)\u001b[49m\n",
      "File \u001b[1;32m~\\AppData\\Local\\Programs\\Python\\Python311\\Lib\\site-packages\\IPython\\core\\interactiveshell.py:2493\u001b[0m, in \u001b[0;36mInteractiveShell.run_cell_magic\u001b[1;34m(self, magic_name, line, cell)\u001b[0m\n\u001b[0;32m   2491\u001b[0m \u001b[38;5;28;01mwith\u001b[39;00m \u001b[38;5;28mself\u001b[39m\u001b[38;5;241m.\u001b[39mbuiltin_trap:\n\u001b[0;32m   2492\u001b[0m     args \u001b[38;5;241m=\u001b[39m (magic_arg_s, cell)\n\u001b[1;32m-> 2493\u001b[0m     result \u001b[38;5;241m=\u001b[39m \u001b[43mfn\u001b[49m\u001b[43m(\u001b[49m\u001b[38;5;241;43m*\u001b[39;49m\u001b[43margs\u001b[49m\u001b[43m,\u001b[49m\u001b[43m \u001b[49m\u001b[38;5;241;43m*\u001b[39;49m\u001b[38;5;241;43m*\u001b[39;49m\u001b[43mkwargs\u001b[49m\u001b[43m)\u001b[49m\n\u001b[0;32m   2495\u001b[0m \u001b[38;5;66;03m# The code below prevents the output from being displayed\u001b[39;00m\n\u001b[0;32m   2496\u001b[0m \u001b[38;5;66;03m# when using magics with decorator @output_can_be_silenced\u001b[39;00m\n\u001b[0;32m   2497\u001b[0m \u001b[38;5;66;03m# when the last Python token in the expression is a ';'.\u001b[39;00m\n\u001b[0;32m   2498\u001b[0m \u001b[38;5;28;01mif\u001b[39;00m \u001b[38;5;28mgetattr\u001b[39m(fn, magic\u001b[38;5;241m.\u001b[39mMAGIC_OUTPUT_CAN_BE_SILENCED, \u001b[38;5;28;01mFalse\u001b[39;00m):\n",
      "File \u001b[1;32m~\\AppData\\Local\\Programs\\Python\\Python311\\Lib\\site-packages\\tdmclient\\notebook\\private.py:381\u001b[0m, in \u001b[0;36mrun_python\u001b[1;34m(line, cell)\u001b[0m\n\u001b[0;32m    378\u001b[0m     _interactive_console\u001b[38;5;241m.\u001b[39mclear_event_data()\n\u001b[0;32m    380\u001b[0m \u001b[38;5;28;01mtry\u001b[39;00m:\n\u001b[1;32m--> 381\u001b[0m     \u001b[43m_interactive_console\u001b[49m\u001b[38;5;241;43m.\u001b[39;49m\u001b[43mrun_program\u001b[49m(python_preamble \u001b[38;5;241m+\u001b[39m cell,\n\u001b[0;32m    382\u001b[0m                                      nodes\u001b[38;5;241m=\u001b[39mnodes \u001b[38;5;28;01mif\u001b[39;00m \u001b[38;5;28mlen\u001b[39m(nodes) \u001b[38;5;241m>\u001b[39m \u001b[38;5;241m0\u001b[39m \u001b[38;5;28;01melse\u001b[39;00m \u001b[38;5;28;01mNone\u001b[39;00m,\n\u001b[0;32m    383\u001b[0m                                      language\u001b[38;5;241m=\u001b[39m\u001b[38;5;124m\"\u001b[39m\u001b[38;5;124mpython\u001b[39m\u001b[38;5;124m\"\u001b[39m,\n\u001b[0;32m    384\u001b[0m                                      warning_missing_global\u001b[38;5;241m=\u001b[39mwarning_missing_global,\n\u001b[0;32m    385\u001b[0m                                      wait\u001b[38;5;241m=\u001b[39mwait, import_thymio\u001b[38;5;241m=\u001b[39mimport_thymio)\n\u001b[0;32m    386\u001b[0m \u001b[38;5;28;01mexcept\u001b[39;00m \u001b[38;5;167;01mKeyboardInterrupt\u001b[39;00m:\n\u001b[0;32m    387\u001b[0m     \u001b[38;5;66;03m# avoid long exception message with stack trace\u001b[39;00m\n\u001b[0;32m    388\u001b[0m     \u001b[38;5;28mprint\u001b[39m(\u001b[38;5;124m\"\u001b[39m\u001b[38;5;124mInterrupted\u001b[39m\u001b[38;5;124m\"\u001b[39m)\n",
      "\u001b[1;31mAttributeError\u001b[0m: 'NoneType' object has no attribute 'run_program'"
     ]
    }
   ],
   "source": [
    "%%run_python\n",
    "\n",
    "counting = 0\n",
    "time = 0\n",
    "\n",
    "timer_period[0] = 10 # milliseconds\n",
    "\n",
    "@onevent \n",
    "def button_right(): # start counting\n",
    "    global counting, time, motor_left_target, motor_right_target\n",
    "    counting = 1\n",
    "    time = 0\n",
    "    motor_left_target = 100\n",
    "    motor_right_target = -100\n",
    "\n",
    "@onevent \n",
    "def button_left(): # start counting\n",
    "    global counting, time, motor_left_target, motor_right_target\n",
    "    counting = 1\n",
    "    time = 0\n",
    "    motor_left_target = -100\n",
    "    motor_right_target = 100\n",
    "\n",
    "@onevent \n",
    "def button_center(): # stop counting\n",
    "    global counting, motor_left_target, motor_right_target\n",
    "    counting = 0\n",
    "    motor_left_target = 0\n",
    "    motor_right_target = 0\n",
    "\n",
    "@onevent \n",
    "def timer0():\n",
    "    global counting, time\n",
    "    if counting == 1:\n",
    "        time = time + 1"
   ]
  },
  {
   "cell_type": "code",
   "execution_count": 188,
   "metadata": {},
   "outputs": [
    {
     "name": "stdout",
     "output_type": "stream",
     "text": [
      "<module 'time' (built-in)>\n"
     ]
    },
    {
     "ename": "TypeError",
     "evalue": "unsupported operand type(s) for /: 'module' and 'int'",
     "output_type": "error",
     "traceback": [
      "\u001b[1;31m---------------------------------------------------------------------------\u001b[0m",
      "\u001b[1;31mTypeError\u001b[0m                                 Traceback (most recent call last)",
      "Cell \u001b[1;32mIn[188], line 2\u001b[0m\n\u001b[0;32m      1\u001b[0m \u001b[38;5;28mprint\u001b[39m(time)\n\u001b[1;32m----> 2\u001b[0m \u001b[38;5;28mprint\u001b[39m(\u001b[43mtime\u001b[49m\u001b[38;5;241;43m/\u001b[39;49m\u001b[38;5;241;43m100\u001b[39;49m,\u001b[38;5;124m'\u001b[39m\u001b[38;5;124mseconds pour 20 tours vers la droite\u001b[39m\u001b[38;5;124m'\u001b[39m)\n\u001b[0;32m      3\u001b[0m \u001b[38;5;28mprint\u001b[39m(\u001b[38;5;124m'\u001b[39m\u001b[38;5;124mTime for 1 turn (360°) : \u001b[39m\u001b[38;5;124m'\u001b[39m, time\u001b[38;5;241m/\u001b[39m\u001b[38;5;241m2000\u001b[39m) \n\u001b[0;32m      5\u001b[0m \u001b[38;5;66;03m#1 tic toute les 10ms\u001b[39;00m\n\u001b[0;32m      6\u001b[0m \u001b[38;5;66;03m#1s -> 100 tics tout les 1000ms\u001b[39;00m\n",
      "\u001b[1;31mTypeError\u001b[0m: unsupported operand type(s) for /: 'module' and 'int'"
     ]
    }
   ],
   "source": [
    "print(time)\n",
    "print(time/100,'seconds pour 20 tours vers la droite')\n",
    "print('Time for 1 turn (360°) : ', time/2000) \n",
    "\n",
    "#1 tic toute les 10ms\n",
    "#1s -> 100 tics tout les 1000ms"
   ]
  },
  {
   "cell_type": "code",
   "execution_count": 189,
   "metadata": {},
   "outputs": [
    {
     "name": "stdout",
     "output_type": "stream",
     "text": [
      "<module 'time' (built-in)>\n"
     ]
    },
    {
     "ename": "TypeError",
     "evalue": "unsupported operand type(s) for /: 'module' and 'int'",
     "output_type": "error",
     "traceback": [
      "\u001b[1;31m---------------------------------------------------------------------------\u001b[0m",
      "\u001b[1;31mTypeError\u001b[0m                                 Traceback (most recent call last)",
      "Cell \u001b[1;32mIn[189], line 2\u001b[0m\n\u001b[0;32m      1\u001b[0m \u001b[38;5;28mprint\u001b[39m(time)\n\u001b[1;32m----> 2\u001b[0m \u001b[38;5;28mprint\u001b[39m(\u001b[43mtime\u001b[49m\u001b[38;5;241;43m/\u001b[39;49m\u001b[38;5;241;43m100\u001b[39;49m,\u001b[38;5;124m'\u001b[39m\u001b[38;5;124mseconds pour 10 tours vers la droite\u001b[39m\u001b[38;5;124m'\u001b[39m)\n\u001b[0;32m      3\u001b[0m \u001b[38;5;28mprint\u001b[39m(\u001b[38;5;124m'\u001b[39m\u001b[38;5;124mtemps pour un tour : \u001b[39m\u001b[38;5;124m'\u001b[39m, time\u001b[38;5;241m/\u001b[39m\u001b[38;5;241m1000\u001b[39m) \n",
      "\u001b[1;31mTypeError\u001b[0m: unsupported operand type(s) for /: 'module' and 'int'"
     ]
    }
   ],
   "source": [
    "print(time)\n",
    "print(time/100,'seconds pour 10 tours vers la droite')\n",
    "print('temps pour un tour : ', time/1000) \n"
   ]
  },
  {
   "cell_type": "code",
   "execution_count": 190,
   "metadata": {},
   "outputs": [
    {
     "name": "stdout",
     "output_type": "stream",
     "text": [
      "<module 'time' (built-in)>\n"
     ]
    },
    {
     "ename": "TypeError",
     "evalue": "unsupported operand type(s) for /: 'module' and 'int'",
     "output_type": "error",
     "traceback": [
      "\u001b[1;31m---------------------------------------------------------------------------\u001b[0m",
      "\u001b[1;31mTypeError\u001b[0m                                 Traceback (most recent call last)",
      "Cell \u001b[1;32mIn[190], line 2\u001b[0m\n\u001b[0;32m      1\u001b[0m \u001b[38;5;28mprint\u001b[39m(time)\n\u001b[1;32m----> 2\u001b[0m \u001b[38;5;28mprint\u001b[39m(\u001b[43mtime\u001b[49m\u001b[38;5;241;43m/\u001b[39;49m\u001b[38;5;241;43m100\u001b[39;49m,\u001b[38;5;124m'\u001b[39m\u001b[38;5;124mseconds pour 20 tours vers la gauche\u001b[39m\u001b[38;5;124m'\u001b[39m)\n\u001b[0;32m      3\u001b[0m \u001b[38;5;28mprint\u001b[39m(\u001b[38;5;124m'\u001b[39m\u001b[38;5;124mTime for 1 turn (360°) : \u001b[39m\u001b[38;5;124m'\u001b[39m, time\u001b[38;5;241m/\u001b[39m\u001b[38;5;241m1000\u001b[39m) \n\u001b[0;32m      5\u001b[0m \u001b[38;5;66;03m#1 tic toute les 10ms\u001b[39;00m\n\u001b[0;32m      6\u001b[0m \u001b[38;5;66;03m#1s -> 100 tics tout les 1000ms\u001b[39;00m\n",
      "\u001b[1;31mTypeError\u001b[0m: unsupported operand type(s) for /: 'module' and 'int'"
     ]
    }
   ],
   "source": [
    "print(time)\n",
    "print(time/100,'seconds pour 20 tours vers la gauche')\n",
    "print('Time for 1 turn (360°) : ', time/1000) \n",
    "\n",
    "#1 tic toute les 10ms\n",
    "#1s -> 100 tics tout les 1000ms"
   ]
  },
  {
   "cell_type": "markdown",
   "metadata": {},
   "source": [
    "Calibration in straight line"
   ]
  },
  {
   "cell_type": "code",
   "execution_count": 191,
   "metadata": {},
   "outputs": [
    {
     "ename": "AttributeError",
     "evalue": "'NoneType' object has no attribute 'run_program'",
     "output_type": "error",
     "traceback": [
      "\u001b[1;31m---------------------------------------------------------------------------\u001b[0m",
      "\u001b[1;31mAttributeError\u001b[0m                            Traceback (most recent call last)",
      "Cell \u001b[1;32mIn[191], line 1\u001b[0m\n\u001b[1;32m----> 1\u001b[0m \u001b[43mget_ipython\u001b[49m\u001b[43m(\u001b[49m\u001b[43m)\u001b[49m\u001b[38;5;241;43m.\u001b[39;49m\u001b[43mrun_cell_magic\u001b[49m\u001b[43m(\u001b[49m\u001b[38;5;124;43m'\u001b[39;49m\u001b[38;5;124;43mrun_python\u001b[39;49m\u001b[38;5;124;43m'\u001b[39;49m\u001b[43m,\u001b[49m\u001b[43m \u001b[49m\u001b[38;5;124;43m'\u001b[39;49m\u001b[38;5;124;43m'\u001b[39;49m\u001b[43m,\u001b[49m\u001b[43m \u001b[49m\u001b[38;5;124;43m'\u001b[39;49m\u001b[38;5;130;43;01m\\n\u001b[39;49;00m\u001b[38;5;124;43mcounting = 0\u001b[39;49m\u001b[38;5;130;43;01m\\n\u001b[39;49;00m\u001b[38;5;124;43mtime = 0\u001b[39;49m\u001b[38;5;130;43;01m\\n\u001b[39;49;00m\u001b[38;5;130;43;01m\\n\u001b[39;49;00m\u001b[38;5;124;43mtimer_period[0] = 10 # milliseconds\u001b[39;49m\u001b[38;5;130;43;01m\\n\u001b[39;49;00m\u001b[38;5;130;43;01m\\n\u001b[39;49;00m\u001b[38;5;124;43m@onevent \u001b[39;49m\u001b[38;5;130;43;01m\\n\u001b[39;49;00m\u001b[38;5;124;43mdef button_forward(): # start counting\u001b[39;49m\u001b[38;5;130;43;01m\\n\u001b[39;49;00m\u001b[38;5;124;43m    global counting, time, motor_left_target, motor_right_target\u001b[39;49m\u001b[38;5;130;43;01m\\n\u001b[39;49;00m\u001b[38;5;124;43m    counting = 1\u001b[39;49m\u001b[38;5;130;43;01m\\n\u001b[39;49;00m\u001b[38;5;124;43m    time = 0\u001b[39;49m\u001b[38;5;130;43;01m\\n\u001b[39;49;00m\u001b[38;5;124;43m    motor_left_target = 99\u001b[39;49m\u001b[38;5;130;43;01m\\n\u001b[39;49;00m\u001b[38;5;124;43m    motor_right_target = 100\u001b[39;49m\u001b[38;5;130;43;01m\\n\u001b[39;49;00m\u001b[38;5;130;43;01m\\n\u001b[39;49;00m\u001b[38;5;124;43m@onevent \u001b[39;49m\u001b[38;5;130;43;01m\\n\u001b[39;49;00m\u001b[38;5;124;43mdef button_center(): # stop counting\u001b[39;49m\u001b[38;5;130;43;01m\\n\u001b[39;49;00m\u001b[38;5;124;43m    global counting, motor_left_target, motor_right_target\u001b[39;49m\u001b[38;5;130;43;01m\\n\u001b[39;49;00m\u001b[38;5;124;43m    counting = 0\u001b[39;49m\u001b[38;5;130;43;01m\\n\u001b[39;49;00m\u001b[38;5;124;43m    motor_left_target = 0\u001b[39;49m\u001b[38;5;130;43;01m\\n\u001b[39;49;00m\u001b[38;5;124;43m    motor_right_target = 0\u001b[39;49m\u001b[38;5;130;43;01m\\n\u001b[39;49;00m\u001b[38;5;130;43;01m\\n\u001b[39;49;00m\u001b[38;5;124;43m@onevent \u001b[39;49m\u001b[38;5;130;43;01m\\n\u001b[39;49;00m\u001b[38;5;124;43mdef timer0():\u001b[39;49m\u001b[38;5;130;43;01m\\n\u001b[39;49;00m\u001b[38;5;124;43m    global counting, time\u001b[39;49m\u001b[38;5;130;43;01m\\n\u001b[39;49;00m\u001b[38;5;124;43m    if counting == 1:\u001b[39;49m\u001b[38;5;130;43;01m\\n\u001b[39;49;00m\u001b[38;5;124;43m        time = time + 1\u001b[39;49m\u001b[38;5;130;43;01m\\n\u001b[39;49;00m\u001b[38;5;124;43m'\u001b[39;49m\u001b[43m)\u001b[49m\n",
      "File \u001b[1;32m~\\AppData\\Local\\Programs\\Python\\Python311\\Lib\\site-packages\\IPython\\core\\interactiveshell.py:2493\u001b[0m, in \u001b[0;36mInteractiveShell.run_cell_magic\u001b[1;34m(self, magic_name, line, cell)\u001b[0m\n\u001b[0;32m   2491\u001b[0m \u001b[38;5;28;01mwith\u001b[39;00m \u001b[38;5;28mself\u001b[39m\u001b[38;5;241m.\u001b[39mbuiltin_trap:\n\u001b[0;32m   2492\u001b[0m     args \u001b[38;5;241m=\u001b[39m (magic_arg_s, cell)\n\u001b[1;32m-> 2493\u001b[0m     result \u001b[38;5;241m=\u001b[39m \u001b[43mfn\u001b[49m\u001b[43m(\u001b[49m\u001b[38;5;241;43m*\u001b[39;49m\u001b[43margs\u001b[49m\u001b[43m,\u001b[49m\u001b[43m \u001b[49m\u001b[38;5;241;43m*\u001b[39;49m\u001b[38;5;241;43m*\u001b[39;49m\u001b[43mkwargs\u001b[49m\u001b[43m)\u001b[49m\n\u001b[0;32m   2495\u001b[0m \u001b[38;5;66;03m# The code below prevents the output from being displayed\u001b[39;00m\n\u001b[0;32m   2496\u001b[0m \u001b[38;5;66;03m# when using magics with decorator @output_can_be_silenced\u001b[39;00m\n\u001b[0;32m   2497\u001b[0m \u001b[38;5;66;03m# when the last Python token in the expression is a ';'.\u001b[39;00m\n\u001b[0;32m   2498\u001b[0m \u001b[38;5;28;01mif\u001b[39;00m \u001b[38;5;28mgetattr\u001b[39m(fn, magic\u001b[38;5;241m.\u001b[39mMAGIC_OUTPUT_CAN_BE_SILENCED, \u001b[38;5;28;01mFalse\u001b[39;00m):\n",
      "File \u001b[1;32m~\\AppData\\Local\\Programs\\Python\\Python311\\Lib\\site-packages\\tdmclient\\notebook\\private.py:381\u001b[0m, in \u001b[0;36mrun_python\u001b[1;34m(line, cell)\u001b[0m\n\u001b[0;32m    378\u001b[0m     _interactive_console\u001b[38;5;241m.\u001b[39mclear_event_data()\n\u001b[0;32m    380\u001b[0m \u001b[38;5;28;01mtry\u001b[39;00m:\n\u001b[1;32m--> 381\u001b[0m     \u001b[43m_interactive_console\u001b[49m\u001b[38;5;241;43m.\u001b[39;49m\u001b[43mrun_program\u001b[49m(python_preamble \u001b[38;5;241m+\u001b[39m cell,\n\u001b[0;32m    382\u001b[0m                                      nodes\u001b[38;5;241m=\u001b[39mnodes \u001b[38;5;28;01mif\u001b[39;00m \u001b[38;5;28mlen\u001b[39m(nodes) \u001b[38;5;241m>\u001b[39m \u001b[38;5;241m0\u001b[39m \u001b[38;5;28;01melse\u001b[39;00m \u001b[38;5;28;01mNone\u001b[39;00m,\n\u001b[0;32m    383\u001b[0m                                      language\u001b[38;5;241m=\u001b[39m\u001b[38;5;124m\"\u001b[39m\u001b[38;5;124mpython\u001b[39m\u001b[38;5;124m\"\u001b[39m,\n\u001b[0;32m    384\u001b[0m                                      warning_missing_global\u001b[38;5;241m=\u001b[39mwarning_missing_global,\n\u001b[0;32m    385\u001b[0m                                      wait\u001b[38;5;241m=\u001b[39mwait, import_thymio\u001b[38;5;241m=\u001b[39mimport_thymio)\n\u001b[0;32m    386\u001b[0m \u001b[38;5;28;01mexcept\u001b[39;00m \u001b[38;5;167;01mKeyboardInterrupt\u001b[39;00m:\n\u001b[0;32m    387\u001b[0m     \u001b[38;5;66;03m# avoid long exception message with stack trace\u001b[39;00m\n\u001b[0;32m    388\u001b[0m     \u001b[38;5;28mprint\u001b[39m(\u001b[38;5;124m\"\u001b[39m\u001b[38;5;124mInterrupted\u001b[39m\u001b[38;5;124m\"\u001b[39m)\n",
      "\u001b[1;31mAttributeError\u001b[0m: 'NoneType' object has no attribute 'run_program'"
     ]
    }
   ],
   "source": [
    "%%run_python\n",
    "\n",
    "counting = 0\n",
    "time = 0\n",
    "\n",
    "timer_period[0] = 10 # milliseconds\n",
    "\n",
    "@onevent \n",
    "def button_forward(): # start counting\n",
    "    global counting, time, motor_left_target, motor_right_target\n",
    "    counting = 1\n",
    "    time = 0\n",
    "    motor_left_target = 99\n",
    "    motor_right_target = 100\n",
    "\n",
    "@onevent \n",
    "def button_center(): # stop counting\n",
    "    global counting, motor_left_target, motor_right_target\n",
    "    counting = 0\n",
    "    motor_left_target = 0\n",
    "    motor_right_target = 0\n",
    "\n",
    "@onevent \n",
    "def timer0():\n",
    "    global counting, time\n",
    "    if counting == 1:\n",
    "        time = time + 1"
   ]
  },
  {
   "cell_type": "code",
   "execution_count": 192,
   "metadata": {},
   "outputs": [
    {
     "name": "stdout",
     "output_type": "stream",
     "text": [
      "<module 'time' (built-in)>\n"
     ]
    },
    {
     "ename": "TypeError",
     "evalue": "unsupported operand type(s) for /: 'module' and 'int'",
     "output_type": "error",
     "traceback": [
      "\u001b[1;31m---------------------------------------------------------------------------\u001b[0m",
      "\u001b[1;31mTypeError\u001b[0m                                 Traceback (most recent call last)",
      "Cell \u001b[1;32mIn[192], line 4\u001b[0m\n\u001b[0;32m      1\u001b[0m \u001b[38;5;66;03m#121cm pour 35.37s at speed 100\u001b[39;00m\n\u001b[0;32m      3\u001b[0m \u001b[38;5;28mprint\u001b[39m(time)\n\u001b[1;32m----> 4\u001b[0m \u001b[38;5;28mprint\u001b[39m(\u001b[43mtime\u001b[49m\u001b[38;5;241;43m/\u001b[39;49m\u001b[38;5;241;43m100\u001b[39;49m,\u001b[38;5;124m'\u001b[39m\u001b[38;5;124mseconds for 121cm\u001b[39m\u001b[38;5;124m'\u001b[39m)\n\u001b[0;32m      5\u001b[0m \u001b[38;5;28mprint\u001b[39m(\u001b[38;5;124m'\u001b[39m\u001b[38;5;124mtemps pour un tour : \u001b[39m\u001b[38;5;124m'\u001b[39m, time\u001b[38;5;241m/\u001b[39m\u001b[38;5;241m1000\u001b[39m) \n\u001b[0;32m      6\u001b[0m \u001b[38;5;28mprint\u001b[39m(\u001b[38;5;241m35.37\u001b[39m\u001b[38;5;241m/\u001b[39m\u001b[38;5;241m121\u001b[39m)\n",
      "\u001b[1;31mTypeError\u001b[0m: unsupported operand type(s) for /: 'module' and 'int'"
     ]
    }
   ],
   "source": [
    "#121cm pour 35.37s at speed 100\n",
    "\n",
    "print(time)\n",
    "print(time/100,'seconds for 121cm')\n",
    "print('temps pour un tour : ', time/1000) \n",
    "print(35.37/121)"
   ]
  },
  {
   "cell_type": "code",
   "execution_count": 193,
   "metadata": {},
   "outputs": [
    {
     "name": "stdout",
     "output_type": "stream",
     "text": [
      "<module 'time' (built-in)>\n"
     ]
    },
    {
     "ename": "TypeError",
     "evalue": "unsupported operand type(s) for /: 'module' and 'int'",
     "output_type": "error",
     "traceback": [
      "\u001b[1;31m---------------------------------------------------------------------------\u001b[0m",
      "\u001b[1;31mTypeError\u001b[0m                                 Traceback (most recent call last)",
      "Cell \u001b[1;32mIn[193], line 4\u001b[0m\n\u001b[0;32m      1\u001b[0m \u001b[38;5;66;03m#130cm pour 38.11s at speed 100\u001b[39;00m\n\u001b[0;32m      3\u001b[0m \u001b[38;5;28mprint\u001b[39m(time)\n\u001b[1;32m----> 4\u001b[0m \u001b[38;5;28mprint\u001b[39m(\u001b[43mtime\u001b[49m\u001b[38;5;241;43m/\u001b[39;49m\u001b[38;5;241;43m100\u001b[39;49m,\u001b[38;5;124m'\u001b[39m\u001b[38;5;124mseconds for 121cm\u001b[39m\u001b[38;5;124m'\u001b[39m)\n\u001b[0;32m      5\u001b[0m \u001b[38;5;28mprint\u001b[39m(\u001b[38;5;124m'\u001b[39m\u001b[38;5;124mtemps pour un tour : \u001b[39m\u001b[38;5;124m'\u001b[39m, time\u001b[38;5;241m/\u001b[39m\u001b[38;5;241m1000\u001b[39m) \n\u001b[0;32m      6\u001b[0m \u001b[38;5;28mprint\u001b[39m(\u001b[38;5;241m38.11\u001b[39m\u001b[38;5;241m/\u001b[39m\u001b[38;5;241m130\u001b[39m)\n",
      "\u001b[1;31mTypeError\u001b[0m: unsupported operand type(s) for /: 'module' and 'int'"
     ]
    }
   ],
   "source": [
    "#130cm pour 38.11s at speed 100\n",
    "\n",
    "print(time)\n",
    "print(time/100,'seconds for 121cm')\n",
    "print('temps pour un tour : ', time/1000) \n",
    "print(38.11/130)"
   ]
  },
  {
   "cell_type": "markdown",
   "metadata": {},
   "source": [
    "Good speed :"
   ]
  },
  {
   "cell_type": "code",
   "execution_count": 194,
   "metadata": {},
   "outputs": [
    {
     "name": "stdout",
     "output_type": "stream",
     "text": [
      "<module 'time' (built-in)>\n"
     ]
    },
    {
     "ename": "TypeError",
     "evalue": "unsupported operand type(s) for /: 'module' and 'int'",
     "output_type": "error",
     "traceback": [
      "\u001b[1;31m---------------------------------------------------------------------------\u001b[0m",
      "\u001b[1;31mTypeError\u001b[0m                                 Traceback (most recent call last)",
      "Cell \u001b[1;32mIn[194], line 2\u001b[0m\n\u001b[0;32m      1\u001b[0m \u001b[38;5;28mprint\u001b[39m(time)\n\u001b[1;32m----> 2\u001b[0m \u001b[38;5;28mprint\u001b[39m(\u001b[43mtime\u001b[49m\u001b[38;5;241;43m/\u001b[39;49m\u001b[38;5;241;43m100\u001b[39;49m,\u001b[38;5;124m'\u001b[39m\u001b[38;5;124mseconds for 141cm\u001b[39m\u001b[38;5;124m'\u001b[39m)\n\u001b[0;32m      3\u001b[0m \u001b[38;5;28mprint\u001b[39m(\u001b[38;5;124m'\u001b[39m\u001b[38;5;124mtemps pour un tour : \u001b[39m\u001b[38;5;124m'\u001b[39m, time\u001b[38;5;241m/\u001b[39m\u001b[38;5;241m1000\u001b[39m) \n\u001b[0;32m      4\u001b[0m \u001b[38;5;28mprint\u001b[39m(\u001b[38;5;241m41.71\u001b[39m\u001b[38;5;241m/\u001b[39m\u001b[38;5;241m141\u001b[39m)\n",
      "\u001b[1;31mTypeError\u001b[0m: unsupported operand type(s) for /: 'module' and 'int'"
     ]
    }
   ],
   "source": [
    "print(time)\n",
    "print(time/100,'seconds for 141cm')\n",
    "print('temps pour un tour : ', time/1000) \n",
    "print(41.71/141)"
   ]
  },
  {
   "cell_type": "code",
   "execution_count": 195,
   "metadata": {},
   "outputs": [
    {
     "name": "stdout",
     "output_type": "stream",
     "text": [
      "29.231404958677686\n",
      "29.315384615384616\n"
     ]
    }
   ],
   "source": [
    "resolution = [1,1] #1 point for 1cm (see with vision)\n",
    "speed = 3537/121\n",
    "print(speed)\n",
    "print(3811/130)"
   ]
  },
  {
   "cell_type": "markdown",
   "metadata": {},
   "source": [
    "<strong>Async implementation:"
   ]
  },
  {
   "cell_type": "code",
   "execution_count": 196,
   "metadata": {},
   "outputs": [
    {
     "data": {
      "text/plain": [
       "Node b37095fb-a128-47b5-8c65-0cebbf9c0797"
      ]
     },
     "execution_count": 196,
     "metadata": {},
     "output_type": "execute_result"
    }
   ],
   "source": [
    "from tdmclient import ClientAsync, aw\n",
    "client = ClientAsync()\n",
    "node = await client.wait_for_node()\n",
    "await node.lock()"
   ]
  },
  {
   "cell_type": "code",
   "execution_count": 197,
   "metadata": {},
   "outputs": [
    {
     "data": {
      "text/plain": [
       "{'_fwversion': [14, 0],\n",
       " '_id': [1],\n",
       " '_imot': [0, 0],\n",
       " '_integrator': [0, 0],\n",
       " '_productId': [8],\n",
       " '_vbat': [962, 964],\n",
       " 'acc': [3, 1, 23],\n",
       " 'acc._tap': [32],\n",
       " 'button.backward': [0],\n",
       " 'button.center': [0],\n",
       " 'button.forward': [0],\n",
       " 'button.left': [0],\n",
       " 'button.right': [0],\n",
       " 'buttons._mean': [10808, 9293, 13982, 13980, 15213],\n",
       " 'buttons._noise': [27, 26, 36, 32, 40],\n",
       " 'buttons._raw': [10804, 9289, 13975, 13976, 15209],\n",
       " 'event.args': [0,\n",
       "  0,\n",
       "  0,\n",
       "  0,\n",
       "  0,\n",
       "  0,\n",
       "  0,\n",
       "  0,\n",
       "  0,\n",
       "  0,\n",
       "  0,\n",
       "  0,\n",
       "  0,\n",
       "  0,\n",
       "  0,\n",
       "  0,\n",
       "  0,\n",
       "  0,\n",
       "  0,\n",
       "  0,\n",
       "  0,\n",
       "  0,\n",
       "  0,\n",
       "  0,\n",
       "  0,\n",
       "  0,\n",
       "  0,\n",
       "  0,\n",
       "  0,\n",
       "  0,\n",
       "  0,\n",
       "  0],\n",
       " 'event.source': [1],\n",
       " 'leds.bottom.left': [0, 0, 0],\n",
       " 'leds.bottom.right': [0, 0, 0],\n",
       " 'leds.circle': [0, 0, 0, 0, 0, 0, 0, 0],\n",
       " 'leds.top': [0, 0, 0],\n",
       " 'mic._mean': [255],\n",
       " 'mic.intensity': [7],\n",
       " 'mic.threshold': [0],\n",
       " 'motor.left.pwm': [0],\n",
       " 'motor.left.speed': [0],\n",
       " 'motor.left.target': [0],\n",
       " 'motor.right.pwm': [0],\n",
       " 'motor.right.speed': [0],\n",
       " 'motor.right.target': [0],\n",
       " 'prox.comm.rx': [0],\n",
       " 'prox.comm.rx._intensities': [0, 0, 0, 0, 0, 0, 0],\n",
       " 'prox.comm.rx._payloads': [0, 0, 0, 0, 0, 0, 0],\n",
       " 'prox.comm.tx': [0],\n",
       " 'prox.ground.ambiant': [15, 5],\n",
       " 'prox.ground.delta': [1006, 1017],\n",
       " 'prox.ground.reflected': [976, 949],\n",
       " 'prox.horizontal': [0, 0, 0, 0, 0, 0, 0],\n",
       " 'rc5.address': [0],\n",
       " 'rc5.command': [0],\n",
       " 'sd.present': [0],\n",
       " 'temperature': [260],\n",
       " 'timer.period': [0, 0]}"
      ]
     },
     "execution_count": 197,
     "metadata": {},
     "output_type": "execute_result"
    }
   ],
   "source": [
    "await node.wait_for_variables()\n",
    "node.var"
   ]
  },
  {
   "cell_type": "code",
   "execution_count": 198,
   "metadata": {},
   "outputs": [],
   "source": [
    "def angle_to_rotate(pos_i, pos_f, theta_i):\n",
    "    a = pos_f-pos_i\n",
    "    theta_f = np.arctan2(a[1], a[0])\n",
    "    r_theta = (theta_f*180)/np.pi-theta_i\n",
    "    return r_theta\n",
    "\n",
    "def distance_to_cover(pos_i, pos_f):\n",
    "    distance = np.linalg.norm(pos_f-pos_i)\n",
    "    return distance"
   ]
  },
  {
   "cell_type": "code",
   "execution_count": 199,
   "metadata": {},
   "outputs": [],
   "source": [
    "def path(positions, initial_orientation):\n",
    "    nb_node = 3\n",
    "    rotations = np.zeros(positions.shape[0]-1)\n",
    "    distances =  np.zeros(positions.shape[0]-1)\n",
    "    \n",
    "    rotations[0] = angle_to_rotate(positions[0],positions[1],initial_orientation)\n",
    "    orientation = initial_orientation+rotations[0]\n",
    "    \n",
    "    for i in range(1,positions.shape[0]-1):\n",
    "        rotations[i] = angle_to_rotate(positions[i],positions[i+1],orientation)\n",
    "        distances[i-1] = distance_to_cover(positions[i-1],positions[i])\n",
    "        orientation = orientation+rotations[i]\n",
    "\n",
    "    distances[distances.size-1]=distance_to_cover(positions[distances.size-1],positions[distances.size])\n",
    "    rotation_ratios = rotations/360\n",
    "    return distances, rotations, orientation, rotation_ratios\n"
   ]
  },
  {
   "cell_type": "code",
   "execution_count": 200,
   "metadata": {},
   "outputs": [],
   "source": [
    "import asyncio\n",
    "import time\n",
    "    \n",
    "async def drive_for_seconds(client, seconds):\n",
    "    # Set the motor speeds\n",
    "    v = {\n",
    "        \"motor.left.target\": [int(99)],\n",
    "        \"motor.right.target\": [int(100)],\n",
    "    }\n",
    "    await node.set_variables(v)\n",
    "    await asyncio.sleep(seconds)\n",
    "    vstop = {\n",
    "        \"motor.left.target\": [int(0)],\n",
    "        \"motor.right.target\": [int(0)],\n",
    "    }\n",
    "    await node.set_variables(vstop)\n",
    "\n",
    "async def turn_for_seconds(client, seconds):\n",
    "    # Set the motor speeds\n",
    "    if seconds != 0:\n",
    "        if seconds>0:\n",
    "            v = {\n",
    "                \"motor.left.target\": [int(100)],\n",
    "                \"motor.right.target\": [int(-100)],\n",
    "            }\n",
    "        else:\n",
    "            v = {\n",
    "                \"motor.left.target\": [int(-100)],\n",
    "                \"motor.right.target\": [int(100)],\n",
    "            }\n",
    "        await node.set_variables(v)\n",
    "        await asyncio.sleep(abs(seconds))\n",
    "        vstop = {\n",
    "            \"motor.left.target\": [int(0)],\n",
    "            \"motor.right.target\": [int(0)],\n",
    "        }\n",
    "        await node.set_variables(vstop)\n",
    "\n"
   ]
  },
  {
   "cell_type": "code",
   "execution_count": 201,
   "metadata": {},
   "outputs": [],
   "source": [
    "async def print_elapsed_time(seconds, interval=0.5):\n",
    "    start_time = time.monotonic()\n",
    "    while True:\n",
    "        elapsed = time.monotonic() - start_time\n",
    "        if elapsed > seconds:\n",
    "            break\n",
    "        print(f\"Elapsed time: {elapsed:.4f} seconds\")\n",
    "        await asyncio.sleep(interval)"
   ]
  },
  {
   "cell_type": "code",
   "execution_count": 202,
   "metadata": {},
   "outputs": [],
   "source": [
    "async def print_steps(step,interval=0.5):\n",
    "    start_time = time.monotonic()\n",
    "    elapsed = time.monotonic() - start_time\n",
    "    print(f\"Step {step} reached in {elapsed:.4f} seconds\")\n",
    "    await asyncio.sleep(interval)"
   ]
  },
  {
   "cell_type": "markdown",
   "metadata": {},
   "source": [
    "Driving calculation : "
   ]
  },
  {
   "cell_type": "code",
   "execution_count": 203,
   "metadata": {},
   "outputs": [],
   "source": [
    "#@tdmclient.notebook.sync_var\n",
    "async def drive(distances, rotations, orientation):\n",
    "    \n",
    "    rotations = rotations/360\n",
    "    ONETURN_RIGHT = 8.47 #s/turn #8.599\n",
    "    ONETURN_LEFT = 8.94 #s/turn\n",
    "    SPEED = 1/0.2958 #s/cm #2958//10 \n",
    "\n",
    "    rotation_time = np.zeros(rotations.shape[0])\n",
    "    for i in range(len(rotations)):\n",
    "        if rotations[i] >= 0:\n",
    "            rotation_time[i] = rotations[i]*ONETURN_RIGHT\n",
    "        else:\n",
    "            rotation_time[i] = rotations[i]*ONETURN_LEFT\n",
    "    distance_time = distances/SPEED\n",
    "\n",
    "    print(\"Time to turn\", rotation_time, \"Time_straight\", distance_time)\n",
    "    for i in range(0,distance_time.shape[0]):\n",
    "        turn_task = asyncio.create_task(turn_for_seconds(client, rotation_time[i]))\n",
    "        await turn_task\n",
    "        drive_task = asyncio.create_task(drive_for_seconds(client, distance_time[i]))\n",
    "        await drive_task\n",
    "        #print_task = asyncio.create_task(print_steps(i+1))\n",
    "        #await print_task\n",
    "    "
   ]
  },
  {
   "cell_type": "markdown",
   "metadata": {},
   "source": [
    "Main:"
   ]
  },
  {
   "cell_type": "code",
   "execution_count": 325,
   "metadata": {},
   "outputs": [
    {
     "name": "stdout",
     "output_type": "stream",
     "text": [
      "distances = [ 5.         16.77050983 28.28427125 20.15564437] rotation = [ 90.         -26.56505118 -18.43494882 -15.2551187 ] orientation = 29.744881296942225\n",
      "Time to turn [ 2.1175     -0.65969877 -0.45780123 -0.37883545] Time_straight [1.479      4.96071681 8.36648743 5.9620396 ]\n"
     ]
    },
    {
     "ename": "CancelledError",
     "evalue": "",
     "output_type": "error",
     "traceback": [
      "\u001b[1;31m---------------------------------------------------------------------------\u001b[0m",
      "\u001b[1;31mCancelledError\u001b[0m                            Traceback (most recent call last)",
      "Cell \u001b[1;32mIn[325], line 39\u001b[0m\n\u001b[0;32m     36\u001b[0m     \u001b[38;5;28;01mawait\u001b[39;00m drive(distances, rotations, orientation)  \n\u001b[0;32m     37\u001b[0m     \u001b[38;5;28;01mawait\u001b[39;00m local_avoidance()\n\u001b[1;32m---> 39\u001b[0m \u001b[38;5;28;01mawait\u001b[39;00m main()\n",
      "Cell \u001b[1;32mIn[325], line 36\u001b[0m, in \u001b[0;36mmain\u001b[1;34m()\u001b[0m\n\u001b[0;32m     33\u001b[0m orientation \u001b[38;5;241m=\u001b[39m result[\u001b[38;5;241m2\u001b[39m]\n\u001b[0;32m     35\u001b[0m \u001b[38;5;28mprint\u001b[39m(\u001b[38;5;124m\"\u001b[39m\u001b[38;5;124mdistances =\u001b[39m\u001b[38;5;124m\"\u001b[39m, distances,\u001b[38;5;124m\"\u001b[39m\u001b[38;5;124mrotation =\u001b[39m\u001b[38;5;124m\"\u001b[39m, rotations, \u001b[38;5;124m\"\u001b[39m\u001b[38;5;124morientation =\u001b[39m\u001b[38;5;124m\"\u001b[39m,orientation)\n\u001b[1;32m---> 36\u001b[0m \u001b[38;5;28;01mawait\u001b[39;00m drive(distances, rotations, orientation)  \n\u001b[0;32m     37\u001b[0m \u001b[38;5;28;01mawait\u001b[39;00m local_avoidance()\n",
      "Cell \u001b[1;32mIn[247], line 22\u001b[0m, in \u001b[0;36mdrive\u001b[1;34m(distances, rotations, orientation)\u001b[0m\n\u001b[0;32m     20\u001b[0m \u001b[38;5;28;01mawait\u001b[39;00m turn_task\n\u001b[0;32m     21\u001b[0m drive_task \u001b[38;5;241m=\u001b[39m asyncio\u001b[38;5;241m.\u001b[39mcreate_task(drive_for_seconds(client, distance_time[i]))\n\u001b[1;32m---> 22\u001b[0m \u001b[38;5;28;01mawait\u001b[39;00m drive_task\n",
      "Cell \u001b[1;32mIn[244], line 11\u001b[0m, in \u001b[0;36mdrive_for_seconds\u001b[1;34m(client, seconds)\u001b[0m\n\u001b[0;32m      6\u001b[0m v \u001b[38;5;241m=\u001b[39m {\n\u001b[0;32m      7\u001b[0m     \u001b[38;5;124m\"\u001b[39m\u001b[38;5;124mmotor.left.target\u001b[39m\u001b[38;5;124m\"\u001b[39m: [\u001b[38;5;28mint\u001b[39m(\u001b[38;5;241m99\u001b[39m)],\n\u001b[0;32m      8\u001b[0m     \u001b[38;5;124m\"\u001b[39m\u001b[38;5;124mmotor.right.target\u001b[39m\u001b[38;5;124m\"\u001b[39m: [\u001b[38;5;28mint\u001b[39m(\u001b[38;5;241m100\u001b[39m)],\n\u001b[0;32m      9\u001b[0m }\n\u001b[0;32m     10\u001b[0m \u001b[38;5;28;01mawait\u001b[39;00m node\u001b[38;5;241m.\u001b[39mset_variables(v)\n\u001b[1;32m---> 11\u001b[0m \u001b[38;5;28;01mawait\u001b[39;00m asyncio\u001b[38;5;241m.\u001b[39msleep(seconds)\n\u001b[0;32m     12\u001b[0m vstop \u001b[38;5;241m=\u001b[39m {\n\u001b[0;32m     13\u001b[0m     \u001b[38;5;124m\"\u001b[39m\u001b[38;5;124mmotor.left.target\u001b[39m\u001b[38;5;124m\"\u001b[39m: [\u001b[38;5;28mint\u001b[39m(\u001b[38;5;241m0\u001b[39m)],\n\u001b[0;32m     14\u001b[0m     \u001b[38;5;124m\"\u001b[39m\u001b[38;5;124mmotor.right.target\u001b[39m\u001b[38;5;124m\"\u001b[39m: [\u001b[38;5;28mint\u001b[39m(\u001b[38;5;241m0\u001b[39m)],\n\u001b[0;32m     15\u001b[0m }\n\u001b[0;32m     16\u001b[0m \u001b[38;5;28;01mawait\u001b[39;00m node\u001b[38;5;241m.\u001b[39mset_variables(vstop)\n",
      "File \u001b[1;32m~\\AppData\\Local\\Programs\\Python\\Python311\\Lib\\asyncio\\tasks.py:639\u001b[0m, in \u001b[0;36msleep\u001b[1;34m(delay, result)\u001b[0m\n\u001b[0;32m    635\u001b[0m h \u001b[38;5;241m=\u001b[39m loop\u001b[38;5;241m.\u001b[39mcall_later(delay,\n\u001b[0;32m    636\u001b[0m                     futures\u001b[38;5;241m.\u001b[39m_set_result_unless_cancelled,\n\u001b[0;32m    637\u001b[0m                     future, result)\n\u001b[0;32m    638\u001b[0m \u001b[38;5;28;01mtry\u001b[39;00m:\n\u001b[1;32m--> 639\u001b[0m     \u001b[38;5;28;01mreturn\u001b[39;00m \u001b[38;5;28;01mawait\u001b[39;00m future\n\u001b[0;32m    640\u001b[0m \u001b[38;5;28;01mfinally\u001b[39;00m:\n\u001b[0;32m    641\u001b[0m     h\u001b[38;5;241m.\u001b[39mcancel()\n",
      "\u001b[1;31mCancelledError\u001b[0m: "
     ]
    }
   ],
   "source": [
    "async def main():    \n",
    "    initial_orientation = 0 #degree\n",
    "    #positions = np.array([[0,0],[30,45],[50,50],[17,15],[50,10]])#[0,0],[30,45],[50,50],[17,15],[50,10]\n",
    "    positions = points*5\n",
    "    \n",
    "    result = path(positions, initial_orientation)\n",
    "    distances = result[0]\n",
    "    rotations = result[1]\n",
    "    orientation = result[2]\n",
    "\n",
    "    print(\"distances =\", distances,\"rotation =\", rotations, \"orientation =\",orientation)\n",
    "    await drive(distances, rotations, orientation)  \n",
    "    #await local_avoidance()\n",
    "\n",
    "await main()"
   ]
  },
  {
   "cell_type": "code",
   "execution_count": 177,
   "metadata": {},
   "outputs": [],
   "source": [
    "#drive_task = asyncio.create_task(drive_for_seconds(client, 5))\n",
    "#print_task = asyncio.create_task(print_elapsed_time(5))\n",
    "\n",
    "#await drive_task\n",
    "#await print_task"
   ]
  },
  {
   "cell_type": "markdown",
   "metadata": {},
   "source": [
    "<strong>Global Navigation :"
   ]
  },
  {
   "cell_type": "code",
   "execution_count": 205,
   "metadata": {},
   "outputs": [],
   "source": [
    "\"\"\"\n",
    "The MIT License (MIT)\n",
    "\n",
    "Copyright (c) 2016 Christian August Reksten-Monsen\n",
    "\n",
    "Permission is hereby granted, free of charge, to any person obtaining a copy\n",
    "of this software and associated documentation files (the \"Software\"), to deal\n",
    "in the Software without restriction, including without limitation the rights\n",
    "to use, copy, modify, merge, publish, distribute, sublicense, and/or sell\n",
    "copies of the Software, and to permit persons to whom the Software is\n",
    "furnished to do so, subject to the following conditions:\n",
    "\n",
    "The above copyright notice and this permission notice shall be included in all\n",
    "copies or substantial portions of the Software.\n",
    "\n",
    "THE SOFTWARE IS PROVIDED \"AS IS\", WITHOUT WARRANTY OF ANY KIND, EXPRESS OR\n",
    "IMPLIED, INCLUDING BUT NOT LIMITED TO THE WARRANTIES OF MERCHANTABILITY,\n",
    "FITNESS FOR A PARTICULAR PURPOSE AND NONINFRINGEMENT. IN NO EVENT SHALL THE\n",
    "AUTHORS OR COPYRIGHT HOLDERS BE LIABLE FOR ANY CLAIM, DAMAGES OR OTHER\n",
    "LIABILITY, WHETHER IN AN ACTION OF CONTRACT, TORT OR OTHERWISE, ARISING FROM,\n",
    "OUT OF OR IN CONNECTION WITH THE SOFTWARE OR THE USE OR OTHER DEALINGS IN THE\n",
    "SOFTWARE.\n",
    "\"\"\"\n",
    "\n",
    "#visibility graph\n",
    "\n",
    "from collections import defaultdict\n",
    "import numpy as np\n",
    "import math\n",
    "import heapq\n",
    "\n",
    "class Point(object):\n",
    "    __slots__ = ('x', 'y', 'polygon_id')\n",
    "\n",
    "    def __init__(self, x, y, polygon_id=-1):\n",
    "        self.x = float(x)\n",
    "        self.y = float(y)\n",
    "        self.polygon_id = polygon_id\n",
    "\n",
    "    def __eq__(self, point):\n",
    "        return point and self.x == point.x and self.y == point.y\n",
    "\n",
    "    def __ne__(self, point):\n",
    "        return not self.__eq__(point)\n",
    "\n",
    "    def __lt__(self, point):\n",
    "        \"\"\" This is only needed for shortest path calculations where heapq is\n",
    "            used. When there are two points of equal distance, heapq will\n",
    "            instead evaluate the Points, which doesnt work in Python 3 and\n",
    "            throw a TypeError.\"\"\"\n",
    "        return hash(self) < hash(point)\n",
    "\n",
    "    def __str__(self):\n",
    "        return \"(%.2f, %.2f)\" % (self.x, self.y)\n",
    "\n",
    "    def __hash__(self):\n",
    "        return self.x.__hash__() ^ self.y.__hash__()\n",
    "\n",
    "    def __repr__(self):\n",
    "        return \"Point(%.2f, %.2f)\" % (self.x, self.y)\n",
    "\n",
    "class Edge(object):\n",
    "    __slots__ = ('p1', 'p2')\n",
    "\n",
    "    def __init__(self, point1, point2):\n",
    "        self.p1 = point1\n",
    "        self.p2 = point2\n",
    "\n",
    "    def get_adjacent(self, point):\n",
    "        if point == self.p1:\n",
    "            return self.p2\n",
    "        return self.p1\n",
    "\n",
    "    def __contains__(self, point):\n",
    "        return self.p1 == point or self.p2 == point\n",
    "\n",
    "    def __eq__(self, edge):\n",
    "        if self.p1 == edge.p1 and self.p2 == edge.p2:\n",
    "            return True\n",
    "        if self.p1 == edge.p2 and self.p2 == edge.p1:\n",
    "            return True\n",
    "        return False\n",
    "\n",
    "    def __ne__(self, edge):\n",
    "        return not self.__eq__(edge)\n",
    "\n",
    "    def __str__(self):\n",
    "        return \"({}, {})\".format(self.p1, self.p2)\n",
    "\n",
    "    def __repr__(self):\n",
    "        return \"Edge({!r}, {!r})\".format(self.p1, self.p2)\n",
    "\n",
    "    def __hash__(self):\n",
    "        return self.p1.__hash__() ^ self.p2.__hash__()\n",
    "\n",
    "class Graph(object):\n",
    "    \"\"\"\n",
    "    A Graph is represented by a dict where the keys are Points in the Graph\n",
    "    and the dict values are sets containing Edges incident on each Point.\n",
    "    A separate set *edges* contains all Edges in the graph.\n",
    "\n",
    "    The input must be a list of polygons, where each polygon is a list of\n",
    "    in-order (clockwise or counter clockwise) Points. If only one polygon,\n",
    "    it must still be a list in a list, i.e. [[Point(0,0), Point(2,0),\n",
    "    Point(2,1)]].\n",
    "\n",
    "    *polygons* dictionary: key is a integer polygon ID and values are the\n",
    "    edges that make up the polygon. Note only polygons with 3 or more Points\n",
    "    will be classified as a polygon. Non-polygons like just one Point will be\n",
    "    given a polygon ID of -1 and not maintained in the dict.\n",
    "    \"\"\"\n",
    "\n",
    "    def __init__(self, polygons):\n",
    "        self.graph = defaultdict(set)\n",
    "        self.edges = set()\n",
    "        self.polygons = defaultdict(set)\n",
    "        pid = 0\n",
    "        for polygon in polygons:\n",
    "            if polygon[0] == polygon[-1] and len(polygon) > 1:\n",
    "                polygon.pop()\n",
    "            for i, point in enumerate(polygon):\n",
    "                sibling_point = polygon[(i + 1) % len(polygon)]\n",
    "                edge = Edge(point, sibling_point)\n",
    "                if len(polygon) > 2:\n",
    "                    point.polygon_id = pid\n",
    "                    sibling_point.polygon_id = pid\n",
    "                    self.polygons[pid].add(edge)\n",
    "                self.add_edge(edge)\n",
    "            if len(polygon) > 2:\n",
    "                pid += 1\n",
    "\n",
    "    def get_adjacent_points(self, point):\n",
    "        return [edge.get_adjacent(point) for edge in self[point]]\n",
    "\n",
    "    def get_points(self):\n",
    "        return list(self.graph)\n",
    "\n",
    "    def get_edges(self):\n",
    "        return self.edges\n",
    "    \n",
    "    def get_polygons(self):\n",
    "        return self.polygons\n",
    "\n",
    "    def add_edge(self, edge):\n",
    "        self.graph[edge.p1].add(edge)\n",
    "        self.graph[edge.p2].add(edge)\n",
    "        self.edges.add(edge)\n",
    "\n",
    "    def __contains__(self, item):\n",
    "        if isinstance(item, Point):\n",
    "            return item in self.graph\n",
    "        if isinstance(item, Edge):\n",
    "            return item in self.edges\n",
    "        return False\n",
    "\n",
    "    def __getitem__(self, point):\n",
    "        if point in self.graph:\n",
    "            return self.graph[point]\n",
    "        return set()\n",
    "\n",
    "    def __str__(self):\n",
    "        res = \"\"\n",
    "        for point in self.graph:\n",
    "            res += \"\\n\" + str(point) + \": \"\n",
    "            for edge in self.graph[point]:\n",
    "                res += str(edge)\n",
    "        return res\n",
    "\n",
    "    def __repr__(self):\n",
    "        return self.__str__()"
   ]
  },
  {
   "cell_type": "code",
   "execution_count": 206,
   "metadata": {},
   "outputs": [],
   "source": [
    "# 0 - collinear\n",
    "# 1 - clockwise\n",
    "# -1 - counterclockwise\n",
    "\n",
    "def orientation(p1, p2, p3):\n",
    "    angle = (float)(p2.y - p1.y)*(p3.x-p2.x) - (float)(p3.y-p2.y)*(p2.x-p1.x)\n",
    "    if(angle < 0):\n",
    "        return -1\n",
    "    if angle > 0:\n",
    "        return 1\n",
    "    return 0"
   ]
  },
  {
   "cell_type": "code",
   "execution_count": 207,
   "metadata": {},
   "outputs": [],
   "source": [
    "def onSegment(p, q, r): \n",
    "    if ( (q.x <= max(p.x, r.x)) and (q.x >= min(p.x, r.x)) and \n",
    "           (q.y <= max(p.y, r.y)) and (q.y >= min(p.y, r.y))): \n",
    "        return True\n",
    "    return False"
   ]
  },
  {
   "cell_type": "code",
   "execution_count": 208,
   "metadata": {},
   "outputs": [],
   "source": [
    "def intersect(edge, obstacle):\n",
    "    if(obstacle.p1 in edge) or (obstacle.p2 in edge):\n",
    "        return False\n",
    "    o1 = orientation(edge.p1, edge.p2, obstacle.p1)\n",
    "    o2 = orientation(edge.p1, edge.p2, obstacle.p2)\n",
    "    o3 = orientation(obstacle.p1, obstacle.p2, edge.p1)\n",
    "    o4 = orientation(obstacle.p1, obstacle.p2, edge.p2)\n",
    "    #general case \n",
    "    if (o1 != o2) and (o3 != o4):\n",
    "        return True\n",
    "    if (o1 == 0) and onSegment(edge.p1, obstacle.p1, edge.p2):\n",
    "        return True\n",
    "    if (o2 == 0) and onSegment(edge.p1, obstacle.p2, edge.p2):\n",
    "        return True\n",
    "    if (o3 == 0) and onSegment(obstacle.p1, obstacle.p2, edge.p1):\n",
    "        return True\n",
    "    if (o4 == 0) and onSegment(obstacle.p1, obstacle.p2, edge.p2):\n",
    "        return True\n",
    "    return False;"
   ]
  },
  {
   "cell_type": "code",
   "execution_count": 209,
   "metadata": {},
   "outputs": [],
   "source": [
    "#naive visibility graph\n",
    "def build_graph(graph, start = None, goal = None):\n",
    "    obstacles = []\n",
    "    for polygons in graph.get_polygons().values():\n",
    "        obstacles += polygons\n",
    "    points = graph.get_points()\n",
    "    if start:\n",
    "        points.append(start)\n",
    "    if goal:\n",
    "        points.append(goal)\n",
    "    for point in points:\n",
    "        for other_point in graph.get_points():\n",
    "            if point == other_point: #looping over the other n-1 vertcies, assuming that n is the total number of vertices\n",
    "                continue\n",
    "            edge = Edge(point, other_point)\n",
    "            if edge in graph: #if it is already part of the graph, it's either an edge of the obstacle, since it s enlarged we can traverse it, and if it's not it was obtained when checking the edge when the roles of points were reversed    \n",
    "                continue\n",
    "            intersects = False\n",
    "            for obstacle in obstacles:\n",
    "                if(intersect(edge, obstacle)):\n",
    "                    intersects = True\n",
    "                    break\n",
    "            if intersects == False:\n",
    "                graph.add_edge(edge) \n",
    "    return graph"
   ]
  },
  {
   "cell_type": "code",
   "execution_count": 210,
   "metadata": {},
   "outputs": [],
   "source": [
    "def distanceBetweenPoints(p1, p2):\n",
    "    return math.sqrt((p2.x - p1.x)**2 + (p2.y - p1.y)**2)\n",
    "def heuristic(point, goal):\n",
    "    return distanceBetweenPoints(point, goal)"
   ]
  },
  {
   "cell_type": "code",
   "execution_count": 211,
   "metadata": {},
   "outputs": [
    {
     "name": "stdout",
     "output_type": "stream",
     "text": [
      "Graph built\n",
      "[Point(0.00, 0.00) Point(0.00, 1.00) Point(1.50, 4.00) Point(5.50, 8.00)\n",
      " Point(9.00, 10.00)]\n"
     ]
    }
   ],
   "source": [
    "def Astar(polys, start, goal):\n",
    "    graph = Graph(polys)\n",
    "    #check if start and goal are valid points !!\n",
    "    build_graph(graph, start, goal)\n",
    "    print(\"Graph built\")\n",
    "    points = graph.get_points()\n",
    "    opened = [(heuristic(start,goal),start)]\n",
    "    heapq.heapify(opened)\n",
    "    closed = []\n",
    "    cameFrom = dict()\n",
    "    h = dict()\n",
    "    costs = dict(zip(points, [np.inf for x in range(len(points))]))\n",
    "    costs[start] = 0\n",
    "    cameFrom = dict()\n",
    "    nodes = []\n",
    "    while len(opened) != 0:\n",
    "        currentEstimate, current = heapq.heappop(opened)\n",
    "        closed.append(current)\n",
    "        if current == goal:\n",
    "            while current != start:\n",
    "                nodes.append(current)\n",
    "                temp = cameFrom[current]\n",
    "                current = temp\n",
    "            nodes.append(current)\n",
    "            return nodes, closed\n",
    "        for neighbour in graph.get_adjacent_points(current):\n",
    "            cost = costs[current] + distanceBetweenPoints(current, neighbour)\n",
    "            if neighbour in costs:\n",
    "                if cost >= costs[neighbour]:\n",
    "                    continue\n",
    "            opened.append((cost + heuristic(neighbour, goal), neighbour))\n",
    "            cameFrom[neighbour] = current\n",
    "            costs[neighbour] = cost           \n",
    "    print(\"No path found to goal\")\n",
    "    return nodes, closed\n",
    "        \n",
    "polys = [[Point(0.0,1.0), Point(3.0,1.0), Point(1.5,4.0)], [Point(4.0,4.0), Point(7.0,4.0), Point(5.5,8.0)]]\n",
    "start = Point(0.0,0.0)\n",
    "goal = Point(9.0, 10.0)\n",
    "\n",
    "nodes, closed = Astar(polys, start, goal)\n",
    "#for node in nodes:\n",
    "nodes = nodes[::-1]\n",
    "coordinates = np.array(nodes)\n",
    "print(coordinates)"
   ]
  },
  {
   "cell_type": "code",
   "execution_count": 212,
   "metadata": {},
   "outputs": [
    {
     "name": "stdout",
     "output_type": "stream",
     "text": [
      "[[ 0.   0. ]\n",
      " [ 0.   5. ]\n",
      " [ 7.5 20. ]\n",
      " [27.5 40. ]\n",
      " [45.  50. ]]\n"
     ]
    }
   ],
   "source": [
    "points = np.zeros((len(coordinates),2))\n",
    "#for idx, point in coordinates:\n",
    "    #points[idx] = [point.x,point.y]\n",
    "for i in range(len(coordinates)):\n",
    "    points[i]= [coordinates[i].x,coordinates[i].y]\n",
    "\n",
    "print(points*5)"
   ]
  },
  {
   "cell_type": "code",
   "execution_count": 213,
   "metadata": {},
   "outputs": [],
   "source": [
    "def motors(l_speed=500, r_speed=500, verbose=False):\n",
    "    # Printing the speeds if requested\n",
    "    if verbose:\n",
    "        print(\"\\t\\t Setting speed : \", l_speed, r_speed)\n",
    "    return {\n",
    "        \"motor.left.target\": [l_speed],\n",
    "        \"motor.right.target\": [r_speed],\n",
    "    }\n"
   ]
  },
  {
   "cell_type": "code",
   "execution_count": 214,
   "metadata": {},
   "outputs": [],
   "source": [
    "def test_saw_obstacle(threshold, verbose=True):\n",
    "    \n",
    "    if any([x > threshold for x in node['prox.horizontal'][0:5]]):\n",
    "        if verbose: print(\"\\t\\t Obstacle detected\")\n",
    "        return True\n",
    "    \n",
    "    return False"
   ]
  },
  {
   "cell_type": "code",
   "execution_count": 215,
   "metadata": {},
   "outputs": [],
   "source": [
    "async def path_following(motor_speed=100, threshold=0,  verbose=False):\n",
    "    \n",
    "    saw_obstacle = False\n",
    "    \n",
    "    if verbose: print(\"\\t Moving forward\")\n",
    "    await node.set_variables(motors(motor_speed, motor_speed))\n",
    "           \n",
    "    prev_state=\"local\"\n",
    "    \n",
    "    while not saw_obstacle:\n",
    "        \n",
    "        if test_saw_obstacle(threshold, verbose=False):\n",
    "            if prev_state==\"local\": \n",
    "                prev_state=\"global\"\n",
    "            saw_obstacle = True\n",
    "        await client.sleep(0.1) #otherwise, variables would not be updated\n",
    "    return "
   ]
  },
  {
   "cell_type": "code",
   "execution_count": 216,
   "metadata": {},
   "outputs": [],
   "source": [
    "async def local_avoidance(motor_speed=100, threshold=0,  verbose=False):\n",
    "    \n",
    "    saw_obstacle = True\n",
    "    speedL = motor_speed\n",
    "    speedR = motor_speed\n",
    "    obstacleSpeedGain = [6,4,-2,-6,-8]\n",
    "    \n",
    "    if verbose: print(\"\\t Moving forward\")\n",
    "    await node.set_variables(motors(motor_speed, motor_speed))\n",
    "    prev_state=\"global\"\n",
    "    \n",
    "    while saw_obstacle:\n",
    "        \n",
    "        if test_saw_obstacle(threshold, verbose=False):\n",
    "            if prev_state==\"global\": \n",
    "                prev_state=\"local\"\n",
    "            for i in range(5):\n",
    "                speedL += node[\"prox.horizontal\"][i]*obstacleSpeedGain[i]//100\n",
    "                speedR += node[\"prox.horizontal\"][i]*obstacleSpeedGain[4-i]//100\n",
    "       \n",
    "            await node.set_variables(motors(speedL, speedR))\n",
    "\n",
    "\n",
    "        if not test_saw_obstacle(threshold, verbose): saw_obstacle = False\n",
    "        await client.sleep(0.1) #otherwise, variables would not be updated\n",
    "    return "
   ]
  },
  {
   "cell_type": "code",
   "execution_count": 223,
   "metadata": {},
   "outputs": [],
   "source": [
    "async def local_avoidance(motor_speed=100, threshold=0, verbose=False):\n",
    "    obstacleSpeedGain = [6, 4, -2, -6, -8]\n",
    "    saw_obstacle = True\n",
    "    speedL = motor_speed\n",
    "    speedR = motor_speed\n",
    "    prev_state = \"global\"\n",
    "\n",
    "    if verbose:\n",
    "        print(\"\\t Moving forward\")\n",
    "\n",
    "    while saw_obstacle:\n",
    "        if test_saw_obstacle(threshold, verbose=False):\n",
    "            if prev_state == \"global\":\n",
    "                prev_state = \"local\"\n",
    "                print(\"\\t Transitioning to local avoidance\")\n",
    "\n",
    "            for i in range(5):\n",
    "                speedL += node[\"prox.horizontal\"][i] * obstacleSpeedGain[i] // 100\n",
    "                speedR += node[\"prox.horizontal\"][i] * obstacleSpeedGain[4 - i] // 100\n",
    "\n",
    "            await node.set_variables(motors(speedL, speedR))\n",
    "            if verbose:\n",
    "                print(\"\\t\\t Adjusting for obstacle\")\n",
    "\n",
    "        else:\n",
    "            if prev_state == \"local\":\n",
    "                #prev_state = \"global\"\n",
    "                print(prev_state)\n",
    "                print(\"\\t Transitioning to global navigation\")\n",
    "                \n",
    "               \n",
    "\n",
    "            # Reset motor speeds when no obstacles are detected\n",
    "            speedL = motor_speed\n",
    "            speedR = motor_speed\n",
    "            await node.set_variables(motors(speedL, speedR))\n",
    "            \n",
    "            # Add a small delay to avoid continuously checking for obstacles too quickly\n",
    "            await client.sleep(0.1)\n",
    "\n",
    "\n"
   ]
  },
  {
   "cell_type": "code",
   "execution_count": 224,
   "metadata": {},
   "outputs": [
    {
     "name": "stdout",
     "output_type": "stream",
     "text": [
      "\t Moving forward\n",
      "\t Moving forward\n",
      "\t Transitioning to local avoidance\n",
      "\t\t Adjusting for obstacle\n",
      "\t\t Adjusting for obstacle\n",
      "\t\t Adjusting for obstacle\n",
      "\t\t Adjusting for obstacle\n",
      "\t\t Adjusting for obstacle\n",
      "local\n",
      "\t Transitioning to global navigation\n",
      "local\n",
      "\t Transitioning to global navigation\n",
      "local\n",
      "\t Transitioning to global navigation\n",
      "local\n",
      "\t Transitioning to global navigation\n",
      "local\n",
      "\t Transitioning to global navigation\n",
      "local\n",
      "\t Transitioning to global navigation\n",
      "local\n",
      "\t Transitioning to global navigation\n",
      "local\n",
      "\t Transitioning to global navigation\n",
      "local\n",
      "\t Transitioning to global navigation\n",
      "local\n",
      "\t Transitioning to global navigation\n",
      "local\n",
      "\t Transitioning to global navigation\n",
      "\t\t Adjusting for obstacle\n",
      "\t\t Adjusting for obstacle\n",
      "\t\t Adjusting for obstacle\n",
      "\t\t Adjusting for obstacle\n",
      "\t\t Adjusting for obstacle\n",
      "local\n",
      "\t Transitioning to global navigation\n",
      "local\n",
      "\t Transitioning to global navigation\n",
      "local\n",
      "\t Transitioning to global navigation\n",
      "local\n",
      "\t Transitioning to global navigation\n",
      "local\n",
      "\t Transitioning to global navigation\n",
      "local\n",
      "\t Transitioning to global navigation\n",
      "local\n",
      "\t Transitioning to global navigation\n",
      "local\n",
      "\t Transitioning to global navigation\n",
      "local\n",
      "\t Transitioning to global navigation\n",
      "local\n",
      "\t Transitioning to global navigation\n",
      "local\n",
      "\t Transitioning to global navigation\n",
      "local\n",
      "\t Transitioning to global navigation\n",
      "local\n",
      "\t Transitioning to global navigation\n",
      "\t\t Adjusting for obstacle\n",
      "\t\t Adjusting for obstacle\n",
      "\t\t Adjusting for obstacle\n",
      "\t\t Adjusting for obstacle\n",
      "\t\t Adjusting for obstacle\n",
      "local\n",
      "\t Transitioning to global navigation\n",
      "\t\t Adjusting for obstacle\n",
      "\t\t Adjusting for obstacle\n",
      "\t\t Adjusting for obstacle\n",
      "\t\t Adjusting for obstacle\n",
      "\t\t Adjusting for obstacle\n",
      "local\n",
      "\t Transitioning to global navigation\n",
      "local\n",
      "\t Transitioning to global navigation\n",
      "local\n",
      "\t Transitioning to global navigation\n",
      "local\n",
      "\t Transitioning to global navigation\n",
      "local\n",
      "\t Transitioning to global navigation\n",
      "local\n",
      "\t Transitioning to global navigation\n",
      "local\n",
      "\t Transitioning to global navigation\n",
      "local\n",
      "\t Transitioning to global navigation\n",
      "local\n",
      "\t Transitioning to global navigation\n",
      "local\n",
      "\t Transitioning to global navigation\n",
      "local\n",
      "\t Transitioning to global navigation\n",
      "local\n",
      "\t Transitioning to global navigation\n",
      "local\n",
      "\t Transitioning to global navigation\n",
      "local\n",
      "\t Transitioning to global navigation\n",
      "local\n",
      "\t Transitioning to global navigation\n",
      "local\n",
      "\t Transitioning to global navigation\n",
      "local\n",
      "\t Transitioning to global navigation\n",
      "local\n",
      "\t Transitioning to global navigation\n",
      "local\n",
      "\t Transitioning to global navigation\n",
      "local\n",
      "\t Transitioning to global navigation\n",
      "local\n",
      "\t Transitioning to global navigation\n",
      "local\n",
      "\t Transitioning to global navigation\n",
      "local\n",
      "\t Transitioning to global navigation\n",
      "local\n",
      "\t Transitioning to global navigation\n",
      "local\n",
      "\t Transitioning to global navigation\n",
      "local\n",
      "\t Transitioning to global navigation\n",
      "local\n",
      "\t Transitioning to global navigation\n",
      "local\n",
      "\t Transitioning to global navigation\n",
      "local\n",
      "\t Transitioning to global navigation\n",
      "local\n",
      "\t Transitioning to global navigation\n",
      "local\n",
      "\t Transitioning to global navigation\n",
      "local\n",
      "\t Transitioning to global navigation\n",
      "local\n",
      "\t Transitioning to global navigation\n",
      "local\n",
      "\t Transitioning to global navigation\n",
      "\t\t Adjusting for obstacle\n",
      "\t\t Adjusting for obstacle\n",
      "\t\t Adjusting for obstacle\n",
      "\t\t Adjusting for obstacle\n",
      "\t\t Adjusting for obstacle\n",
      "\t\t Adjusting for obstacle\n",
      "local\n",
      "\t Transitioning to global navigation\n",
      "local\n",
      "\t Transitioning to global navigation\n",
      "local\n",
      "\t Transitioning to global navigation\n",
      "local\n",
      "\t Transitioning to global navigation\n",
      "\t\t Adjusting for obstacle\n",
      "\t\t Adjusting for obstacle\n",
      "\t\t Adjusting for obstacle\n",
      "local\n",
      "\t Transitioning to global navigation\n"
     ]
    },
    {
     "ename": "CancelledError",
     "evalue": "",
     "output_type": "error",
     "traceback": [
      "\u001b[1;31m---------------------------------------------------------------------------\u001b[0m",
      "\u001b[1;31mCancelledError\u001b[0m                            Traceback (most recent call last)",
      "Cell \u001b[1;32mIn[224], line 2\u001b[0m\n\u001b[0;32m      1\u001b[0m \u001b[38;5;28;01mawait\u001b[39;00m path_following(verbose\u001b[38;5;241m=\u001b[39m\u001b[38;5;28;01mTrue\u001b[39;00m)\n\u001b[1;32m----> 2\u001b[0m \u001b[38;5;28;01mawait\u001b[39;00m local_avoidance(verbose\u001b[38;5;241m=\u001b[39m\u001b[38;5;28;01mTrue\u001b[39;00m)\n\u001b[0;32m      3\u001b[0m \u001b[38;5;66;03m#await node.set_variables(motors(motor_speed, motor_speed))\u001b[39;00m\n",
      "Cell \u001b[1;32mIn[223], line 39\u001b[0m, in \u001b[0;36mlocal_avoidance\u001b[1;34m(motor_speed, threshold, verbose)\u001b[0m\n\u001b[0;32m     36\u001b[0m \u001b[38;5;28;01mawait\u001b[39;00m node\u001b[38;5;241m.\u001b[39mset_variables(motors(speedL, speedR))\n\u001b[0;32m     38\u001b[0m \u001b[38;5;66;03m# Add a small delay to avoid continuously checking for obstacles too quickly\u001b[39;00m\n\u001b[1;32m---> 39\u001b[0m \u001b[38;5;28;01mawait\u001b[39;00m client\u001b[38;5;241m.\u001b[39msleep(\u001b[38;5;241m0.1\u001b[39m)\n",
      "File \u001b[1;32m~\\AppData\\Local\\Programs\\Python\\Python311\\Lib\\site-packages\\tdmclient\\clientasync.py:73\u001b[0m, in \u001b[0;36mClientAsync.sleep\u001b[1;34m(self, duration, wake)\u001b[0m\n\u001b[0;32m     71\u001b[0m \u001b[38;5;28;01mif\u001b[39;00m wake \u001b[38;5;129;01mis\u001b[39;00m \u001b[38;5;129;01mnot\u001b[39;00m \u001b[38;5;28;01mNone\u001b[39;00m \u001b[38;5;129;01mand\u001b[39;00m wake():\n\u001b[0;32m     72\u001b[0m     \u001b[38;5;28;01mbreak\u001b[39;00m\n\u001b[1;32m---> 73\u001b[0m \u001b[38;5;28;01myield\u001b[39;00m\n",
      "\u001b[1;31mCancelledError\u001b[0m: "
     ]
    }
   ],
   "source": [
    "await path_following(verbose=True)\n",
    "await local_avoidance(verbose=True)\n",
    "#await node.set_variables(motors(motor_speed, motor_speed))"
   ]
  },
  {
   "cell_type": "code",
   "execution_count": 225,
   "metadata": {},
   "outputs": [],
   "source": [
    "await node.set_variables(motors(0, 0))"
   ]
  },
  {
   "cell_type": "code",
   "execution_count": null,
   "metadata": {},
   "outputs": [],
   "source": []
  },
  {
   "cell_type": "code",
   "execution_count": null,
   "metadata": {},
   "outputs": [],
   "source": []
  }
 ],
 "metadata": {
  "hide_input": false,
  "kernelspec": {
   "display_name": "Python 3 (ipykernel)",
   "language": "python",
   "name": "python3"
  },
  "language_info": {
   "codemirror_mode": {
    "name": "ipython",
    "version": 3
   },
   "file_extension": ".py",
   "mimetype": "text/x-python",
   "name": "python",
   "nbconvert_exporter": "python",
   "pygments_lexer": "ipython3",
   "version": "3.11.5"
  },
  "toc": {
   "base_numbering": 1,
   "nav_menu": {},
   "number_sections": true,
   "sideBar": true,
   "skip_h1_title": false,
   "title_cell": "Table of Contents",
   "title_sidebar": "Contents",
   "toc_cell": true,
   "toc_position": {},
   "toc_section_display": true,
   "toc_window_display": true
  }
 },
 "nbformat": 4,
 "nbformat_minor": 4
}
